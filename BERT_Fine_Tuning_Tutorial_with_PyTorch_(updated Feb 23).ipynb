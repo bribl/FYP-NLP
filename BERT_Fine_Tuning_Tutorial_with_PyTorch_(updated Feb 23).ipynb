{
  "cells": [
    {
      "cell_type": "code",
      "execution_count": 3,
      "metadata": {
        "id": "5q2LY1BjyNVQ",
        "colab": {
          "base_uri": "https://localhost:8080/",
          "height": 180
        },
        "outputId": "466df093-0d16-42aa-bcb2-0653f6259c4d"
      },
      "outputs": [
        {
          "output_type": "error",
          "ename": "SystemError",
          "evalue": "GPU device not found",
          "traceback": [
            "\u001b[0;31m---------------------------------------------------------------------------\u001b[0m",
            "\u001b[0;31mSystemError\u001b[0m                               Traceback (most recent call last)",
            "\u001b[0;32m<ipython-input-3-cd5bb073bb20>\u001b[0m in \u001b[0;36m<cell line: 7>\u001b[0;34m()\u001b[0m\n\u001b[1;32m      8\u001b[0m     \u001b[0mprint\u001b[0m\u001b[0;34m(\u001b[0m\u001b[0;34m'Found GPU at: {}'\u001b[0m\u001b[0;34m.\u001b[0m\u001b[0mformat\u001b[0m\u001b[0;34m(\u001b[0m\u001b[0mdevice_name\u001b[0m\u001b[0;34m)\u001b[0m\u001b[0;34m)\u001b[0m\u001b[0;34m\u001b[0m\u001b[0;34m\u001b[0m\u001b[0m\n\u001b[1;32m      9\u001b[0m \u001b[0;32melse\u001b[0m\u001b[0;34m:\u001b[0m\u001b[0;34m\u001b[0m\u001b[0;34m\u001b[0m\u001b[0m\n\u001b[0;32m---> 10\u001b[0;31m     \u001b[0;32mraise\u001b[0m \u001b[0mSystemError\u001b[0m\u001b[0;34m(\u001b[0m\u001b[0;34m'GPU device not found'\u001b[0m\u001b[0;34m)\u001b[0m\u001b[0;34m\u001b[0m\u001b[0;34m\u001b[0m\u001b[0m\n\u001b[0m",
            "\u001b[0;31mSystemError\u001b[0m: GPU device not found"
          ]
        }
      ],
      "source": [
        "import tensorflow as tf\n",
        "\n",
        "# Get the GPU device name.\n",
        "device_name = tf.test.gpu_device_name()\n",
        "\n",
        "# The device name should look like the following:\n",
        "if device_name == '/device:GPU:0':\n",
        "    print('Found GPU at: {}'.format(device_name))\n",
        "else:\n",
        "    raise SystemError('GPU device not found')"
      ]
    },
    {
      "cell_type": "code",
      "execution_count": 4,
      "metadata": {
        "id": "w71JPK6By1Um",
        "colab": {
          "base_uri": "https://localhost:8080/"
        },
        "outputId": "47dce086-e2e9-45b8-d6a7-aa7603023e56"
      },
      "outputs": [
        {
          "output_type": "stream",
          "name": "stdout",
          "text": [
            "No GPU available, using the CPU instead.\n"
          ]
        }
      ],
      "source": [
        "import torch\n",
        "\n",
        "# If there's a GPU available...\n",
        "if torch.cuda.is_available():\n",
        "\n",
        "    # Tell PyTorch to use the GPU.\n",
        "    device = torch.device(\"cuda\")\n",
        "\n",
        "    print('There are %d GPU(s) available.' % torch.cuda.device_count())\n",
        "\n",
        "    print('We will use the GPU:', torch.cuda.get_device_name(0))\n",
        "\n",
        "# If not...\n",
        "else:\n",
        "    print('No GPU available, using the CPU instead.')\n",
        "    device = torch.device(\"cpu\")"
      ]
    },
    {
      "cell_type": "code",
      "execution_count": 5,
      "metadata": {
        "id": "WvvABQDT1k4U",
        "colab": {
          "base_uri": "https://localhost:8080/"
        },
        "outputId": "896d9090-403d-4a72-ba6b-87f03afddb88"
      },
      "outputs": [
        {
          "output_type": "stream",
          "name": "stdout",
          "text": [
            "Requirement already satisfied: transformers in /usr/local/lib/python3.10/dist-packages (4.37.2)\n",
            "Requirement already satisfied: filelock in /usr/local/lib/python3.10/dist-packages (from transformers) (3.13.1)\n",
            "Requirement already satisfied: huggingface-hub<1.0,>=0.19.3 in /usr/local/lib/python3.10/dist-packages (from transformers) (0.20.3)\n",
            "Requirement already satisfied: numpy>=1.17 in /usr/local/lib/python3.10/dist-packages (from transformers) (1.25.2)\n",
            "Requirement already satisfied: packaging>=20.0 in /usr/local/lib/python3.10/dist-packages (from transformers) (23.2)\n",
            "Requirement already satisfied: pyyaml>=5.1 in /usr/local/lib/python3.10/dist-packages (from transformers) (6.0.1)\n",
            "Requirement already satisfied: regex!=2019.12.17 in /usr/local/lib/python3.10/dist-packages (from transformers) (2023.12.25)\n",
            "Requirement already satisfied: requests in /usr/local/lib/python3.10/dist-packages (from transformers) (2.31.0)\n",
            "Requirement already satisfied: tokenizers<0.19,>=0.14 in /usr/local/lib/python3.10/dist-packages (from transformers) (0.15.2)\n",
            "Requirement already satisfied: safetensors>=0.4.1 in /usr/local/lib/python3.10/dist-packages (from transformers) (0.4.2)\n",
            "Requirement already satisfied: tqdm>=4.27 in /usr/local/lib/python3.10/dist-packages (from transformers) (4.66.2)\n",
            "Requirement already satisfied: fsspec>=2023.5.0 in /usr/local/lib/python3.10/dist-packages (from huggingface-hub<1.0,>=0.19.3->transformers) (2023.6.0)\n",
            "Requirement already satisfied: typing-extensions>=3.7.4.3 in /usr/local/lib/python3.10/dist-packages (from huggingface-hub<1.0,>=0.19.3->transformers) (4.9.0)\n",
            "Requirement already satisfied: charset-normalizer<4,>=2 in /usr/local/lib/python3.10/dist-packages (from requests->transformers) (3.3.2)\n",
            "Requirement already satisfied: idna<4,>=2.5 in /usr/local/lib/python3.10/dist-packages (from requests->transformers) (3.6)\n",
            "Requirement already satisfied: urllib3<3,>=1.21.1 in /usr/local/lib/python3.10/dist-packages (from requests->transformers) (2.0.7)\n",
            "Requirement already satisfied: certifi>=2017.4.17 in /usr/local/lib/python3.10/dist-packages (from requests->transformers) (2024.2.2)\n"
          ]
        }
      ],
      "source": [
        "!pip install transformers"
      ]
    },
    {
      "cell_type": "code",
      "execution_count": 6,
      "metadata": {
        "id": "C_HpgToU10Fd"
      },
      "outputs": [],
      "source": [
        "##!pip install wget"
      ]
    },
    {
      "cell_type": "code",
      "execution_count": 7,
      "metadata": {
        "id": "9Y1Sfyhw15Cx"
      },
      "outputs": [],
      "source": [
        "##import wget\n",
        "##import os\n",
        "\n",
        "##print('Downloading dataset...')\n",
        "\n",
        "# The URL for the dataset zip file.\n",
        "##url = 'https://nyu-mll.github.io/CoLA/cola_public_1.1.zip'\n",
        "\n",
        "# Download the file (if we haven't already)\n",
        "##if not os.path.exists('./cola_public_1.1.zip'):\n",
        "##    wget.download(url, './cola_public_1.1.zip')"
      ]
    },
    {
      "cell_type": "code",
      "execution_count": 8,
      "metadata": {
        "id": "gZ84CM3Q2P7I"
      },
      "outputs": [],
      "source": [
        "# Unzip the dataset (if we haven't already)\n",
        "##if not os.path.exists('./cola_public/'):\n",
        "##    !unzip cola_public_1.1.zip"
      ]
    },
    {
      "cell_type": "code",
      "execution_count": 9,
      "metadata": {
        "id": "UoxEXrZsbagH",
        "colab": {
          "base_uri": "https://localhost:8080/",
          "height": 1000
        },
        "outputId": "43300f17-20f6-447b-9e82-4158eff173cd"
      },
      "outputs": [
        {
          "output_type": "stream",
          "name": "stdout",
          "text": [
            "Number of training sentences: 7,204\n",
            "\n"
          ]
        },
        {
          "output_type": "execute_result",
          "data": {
            "text/plain": [
              "     post_number                                          title  \\\n",
              "4401     3527559            以 巴 大戰 蕭 若 元 大爆 以色列 軍隊 攻入 加 莎 終極 策略   \n",
              "4051     3411216  歲 中年 父親 陳 悅 晉 排除萬難 加入 警隊 加入 警隊 的 初心 是 止 暴 制 亂   \n",
              "680       101688                                      弘 豬 天 一 食   \n",
              "57        100128                                  推 完場 曼聯 對 韋 根   \n",
              "2757      800010                                     同一 齊 學 貓 叫   \n",
              "1398      103447                                     後 回憶 唱 唱咩歌   \n",
              "5052     3579611                                         究竟 請 請   \n",
              "3539     1001821                                       唔知 蔥蔥 開心   \n",
              "1681      104126                                          寫 寫 死   \n",
              "182       100483                                 求 鄭中基 今晚 單 頭 飛   \n",
              "\n",
              "                                           main_content  \\\n",
              "4401  燒 山 係咪 放 左 針 以軍 參謀長 蕭 若 元 依家 好多 軍事 人人 仲 發 緊 夢 ...   \n",
              "4051  歲 的 陳 悅 晉 剛 於 警察 學院 畢業 與 妻子 育 一 子 一 女 投身 警隊 前 ...   \n",
              "680                          韓國 野 或 日本 野 人 想見 著 黑 衫 牛仔褲   \n",
              "57                                                  NaN   \n",
              "2757                                       一齊 喵 喵 喵 喵 喵   \n",
              "1398  唱 好多 歌 活 著 失戀 王 好心 報 最後 祝福 無賴 開始 戀愛 好多 識 唱 宜家 ...   \n",
              "5052            見工 時 好似 輕鬆 又帶 參觀 下個 以為 有機 點知 左 個半 禮拜 消息   \n",
              "3539                憂心 蔥蔥 魷魚 章魚 墨魚 三 打工 中途 休息 先 魷魚 魷 落場   \n",
              "1681      聽日 仲未 寫 就係 一睇 明 題目 偏門 搵 類似 字 寫 左 野 寫 係咪 玩完 收皮   \n",
              "182                                                 NaN   \n",
              "\n",
              "                                               comments word_count  \\\n",
              "4401  順民 馬 居士 連 下 四 城 打氣 區分 享 自 討論區 最後 鏟平 蕭 生 釋 條針 放...        290   \n",
              "4051  年 黑 暴 肆虐 暴徒 四處 破壞 摧毀 其 安穩 的 生活 年初 他 因公 司 經營 困難...        568   \n",
              "680   變 左 沐 八 既 人 約 左 巴打 天水圍 飽 屙 尋晚 唸 住 一個 韓燒 去到 尖咀 ...         96   \n",
              "57                                        乜事 無 曬 人 靚 月巴          6   \n",
              "2757  愛心 和 那個 了 雙馬尾 主要 教人 養 貓 狗 幫 聯絡 下 樓主 射精 了 隻 貓 舐...         46   \n",
              "1398  最後 祝福 首 有得 唱 好似 套 劇 出 左 冇耐 最後 祝福 首 有得 唱 好似 套 劇...        159   \n",
              "5052  移民 細 公司 見 老闆 當住 請 努力 搵 啦 見 完工 不嬲 諗住 見 見工 時 好似 ...         38   \n",
              "3539  魷 樂 場 好笑 係唔係 開 對 衝擊 太大 先 呢啲 唉 唔好 提 喇 先 開 如 如 如...         55   \n",
              "1681  係唔係 寫 漏 聽日 仲未 寫 就係 一睇 明 題目 偏門 搵 類似 字 寫 左 野 寫 係...         93   \n",
              "182   一個人 演唱會 單張 幫 幫手 俾 忍心 見到 一個人 戇鳩鳩 其實 真心 粉絲 今日 打算...        100   \n",
              "\n",
              "                                          URL Category Classification  \n",
              "4401  https://lihkg.com/thread/3527559/page/1      5.0            時事台  \n",
              "4051  https://lihkg.com/thread/3411216/page/1      5.0            時事台  \n",
              "680    https://lihkg.com/thread/101688/page/1     16.0            飲食台  \n",
              "57     https://lihkg.com/thread/100128/page/1      6.0            體育台  \n",
              "2757   https://lihkg.com/thread/800010/page/1      7.0            娛樂台  \n",
              "1398   https://lihkg.com/thread/103447/page/1      7.0            娛樂台  \n",
              "5052  https://lihkg.com/thread/3579611/page/1     14.0            上班台  \n",
              "3539  https://lihkg.com/thread/1001821/page/1     31.0            創意台  \n",
              "1681   https://lihkg.com/thread/104126/page/1     18.0            學術台  \n",
              "182    https://lihkg.com/thread/100483/page/1      7.0            娛樂台  "
            ],
            "text/html": [
              "\n",
              "  <div id=\"df-6ff5bac5-8b54-4ad2-82f9-2a127c64314b\" class=\"colab-df-container\">\n",
              "    <div>\n",
              "<style scoped>\n",
              "    .dataframe tbody tr th:only-of-type {\n",
              "        vertical-align: middle;\n",
              "    }\n",
              "\n",
              "    .dataframe tbody tr th {\n",
              "        vertical-align: top;\n",
              "    }\n",
              "\n",
              "    .dataframe thead th {\n",
              "        text-align: right;\n",
              "    }\n",
              "</style>\n",
              "<table border=\"1\" class=\"dataframe\">\n",
              "  <thead>\n",
              "    <tr style=\"text-align: right;\">\n",
              "      <th></th>\n",
              "      <th>post_number</th>\n",
              "      <th>title</th>\n",
              "      <th>main_content</th>\n",
              "      <th>comments</th>\n",
              "      <th>word_count</th>\n",
              "      <th>URL</th>\n",
              "      <th>Category</th>\n",
              "      <th>Classification</th>\n",
              "    </tr>\n",
              "  </thead>\n",
              "  <tbody>\n",
              "    <tr>\n",
              "      <th>4401</th>\n",
              "      <td>3527559</td>\n",
              "      <td>以 巴 大戰 蕭 若 元 大爆 以色列 軍隊 攻入 加 莎 終極 策略</td>\n",
              "      <td>燒 山 係咪 放 左 針 以軍 參謀長 蕭 若 元 依家 好多 軍事 人人 仲 發 緊 夢 ...</td>\n",
              "      <td>順民 馬 居士 連 下 四 城 打氣 區分 享 自 討論區 最後 鏟平 蕭 生 釋 條針 放...</td>\n",
              "      <td>290</td>\n",
              "      <td>https://lihkg.com/thread/3527559/page/1</td>\n",
              "      <td>5.0</td>\n",
              "      <td>時事台</td>\n",
              "    </tr>\n",
              "    <tr>\n",
              "      <th>4051</th>\n",
              "      <td>3411216</td>\n",
              "      <td>歲 中年 父親 陳 悅 晉 排除萬難 加入 警隊 加入 警隊 的 初心 是 止 暴 制 亂</td>\n",
              "      <td>歲 的 陳 悅 晉 剛 於 警察 學院 畢業 與 妻子 育 一 子 一 女 投身 警隊 前 ...</td>\n",
              "      <td>年 黑 暴 肆虐 暴徒 四處 破壞 摧毀 其 安穩 的 生活 年初 他 因公 司 經營 困難...</td>\n",
              "      <td>568</td>\n",
              "      <td>https://lihkg.com/thread/3411216/page/1</td>\n",
              "      <td>5.0</td>\n",
              "      <td>時事台</td>\n",
              "    </tr>\n",
              "    <tr>\n",
              "      <th>680</th>\n",
              "      <td>101688</td>\n",
              "      <td>弘 豬 天 一 食</td>\n",
              "      <td>韓國 野 或 日本 野 人 想見 著 黑 衫 牛仔褲</td>\n",
              "      <td>變 左 沐 八 既 人 約 左 巴打 天水圍 飽 屙 尋晚 唸 住 一個 韓燒 去到 尖咀 ...</td>\n",
              "      <td>96</td>\n",
              "      <td>https://lihkg.com/thread/101688/page/1</td>\n",
              "      <td>16.0</td>\n",
              "      <td>飲食台</td>\n",
              "    </tr>\n",
              "    <tr>\n",
              "      <th>57</th>\n",
              "      <td>100128</td>\n",
              "      <td>推 完場 曼聯 對 韋 根</td>\n",
              "      <td>NaN</td>\n",
              "      <td>乜事 無 曬 人 靚 月巴</td>\n",
              "      <td>6</td>\n",
              "      <td>https://lihkg.com/thread/100128/page/1</td>\n",
              "      <td>6.0</td>\n",
              "      <td>體育台</td>\n",
              "    </tr>\n",
              "    <tr>\n",
              "      <th>2757</th>\n",
              "      <td>800010</td>\n",
              "      <td>同一 齊 學 貓 叫</td>\n",
              "      <td>一齊 喵 喵 喵 喵 喵</td>\n",
              "      <td>愛心 和 那個 了 雙馬尾 主要 教人 養 貓 狗 幫 聯絡 下 樓主 射精 了 隻 貓 舐...</td>\n",
              "      <td>46</td>\n",
              "      <td>https://lihkg.com/thread/800010/page/1</td>\n",
              "      <td>7.0</td>\n",
              "      <td>娛樂台</td>\n",
              "    </tr>\n",
              "    <tr>\n",
              "      <th>1398</th>\n",
              "      <td>103447</td>\n",
              "      <td>後 回憶 唱 唱咩歌</td>\n",
              "      <td>唱 好多 歌 活 著 失戀 王 好心 報 最後 祝福 無賴 開始 戀愛 好多 識 唱 宜家 ...</td>\n",
              "      <td>最後 祝福 首 有得 唱 好似 套 劇 出 左 冇耐 最後 祝福 首 有得 唱 好似 套 劇...</td>\n",
              "      <td>159</td>\n",
              "      <td>https://lihkg.com/thread/103447/page/1</td>\n",
              "      <td>7.0</td>\n",
              "      <td>娛樂台</td>\n",
              "    </tr>\n",
              "    <tr>\n",
              "      <th>5052</th>\n",
              "      <td>3579611</td>\n",
              "      <td>究竟 請 請</td>\n",
              "      <td>見工 時 好似 輕鬆 又帶 參觀 下個 以為 有機 點知 左 個半 禮拜 消息</td>\n",
              "      <td>移民 細 公司 見 老闆 當住 請 努力 搵 啦 見 完工 不嬲 諗住 見 見工 時 好似 ...</td>\n",
              "      <td>38</td>\n",
              "      <td>https://lihkg.com/thread/3579611/page/1</td>\n",
              "      <td>14.0</td>\n",
              "      <td>上班台</td>\n",
              "    </tr>\n",
              "    <tr>\n",
              "      <th>3539</th>\n",
              "      <td>1001821</td>\n",
              "      <td>唔知 蔥蔥 開心</td>\n",
              "      <td>憂心 蔥蔥 魷魚 章魚 墨魚 三 打工 中途 休息 先 魷魚 魷 落場</td>\n",
              "      <td>魷 樂 場 好笑 係唔係 開 對 衝擊 太大 先 呢啲 唉 唔好 提 喇 先 開 如 如 如...</td>\n",
              "      <td>55</td>\n",
              "      <td>https://lihkg.com/thread/1001821/page/1</td>\n",
              "      <td>31.0</td>\n",
              "      <td>創意台</td>\n",
              "    </tr>\n",
              "    <tr>\n",
              "      <th>1681</th>\n",
              "      <td>104126</td>\n",
              "      <td>寫 寫 死</td>\n",
              "      <td>聽日 仲未 寫 就係 一睇 明 題目 偏門 搵 類似 字 寫 左 野 寫 係咪 玩完 收皮</td>\n",
              "      <td>係唔係 寫 漏 聽日 仲未 寫 就係 一睇 明 題目 偏門 搵 類似 字 寫 左 野 寫 係...</td>\n",
              "      <td>93</td>\n",
              "      <td>https://lihkg.com/thread/104126/page/1</td>\n",
              "      <td>18.0</td>\n",
              "      <td>學術台</td>\n",
              "    </tr>\n",
              "    <tr>\n",
              "      <th>182</th>\n",
              "      <td>100483</td>\n",
              "      <td>求 鄭中基 今晚 單 頭 飛</td>\n",
              "      <td>NaN</td>\n",
              "      <td>一個人 演唱會 單張 幫 幫手 俾 忍心 見到 一個人 戇鳩鳩 其實 真心 粉絲 今日 打算...</td>\n",
              "      <td>100</td>\n",
              "      <td>https://lihkg.com/thread/100483/page/1</td>\n",
              "      <td>7.0</td>\n",
              "      <td>娛樂台</td>\n",
              "    </tr>\n",
              "  </tbody>\n",
              "</table>\n",
              "</div>\n",
              "    <div class=\"colab-df-buttons\">\n",
              "\n",
              "  <div class=\"colab-df-container\">\n",
              "    <button class=\"colab-df-convert\" onclick=\"convertToInteractive('df-6ff5bac5-8b54-4ad2-82f9-2a127c64314b')\"\n",
              "            title=\"Convert this dataframe to an interactive table.\"\n",
              "            style=\"display:none;\">\n",
              "\n",
              "  <svg xmlns=\"http://www.w3.org/2000/svg\" height=\"24px\" viewBox=\"0 -960 960 960\">\n",
              "    <path d=\"M120-120v-720h720v720H120Zm60-500h600v-160H180v160Zm220 220h160v-160H400v160Zm0 220h160v-160H400v160ZM180-400h160v-160H180v160Zm440 0h160v-160H620v160ZM180-180h160v-160H180v160Zm440 0h160v-160H620v160Z\"/>\n",
              "  </svg>\n",
              "    </button>\n",
              "\n",
              "  <style>\n",
              "    .colab-df-container {\n",
              "      display:flex;\n",
              "      gap: 12px;\n",
              "    }\n",
              "\n",
              "    .colab-df-convert {\n",
              "      background-color: #E8F0FE;\n",
              "      border: none;\n",
              "      border-radius: 50%;\n",
              "      cursor: pointer;\n",
              "      display: none;\n",
              "      fill: #1967D2;\n",
              "      height: 32px;\n",
              "      padding: 0 0 0 0;\n",
              "      width: 32px;\n",
              "    }\n",
              "\n",
              "    .colab-df-convert:hover {\n",
              "      background-color: #E2EBFA;\n",
              "      box-shadow: 0px 1px 2px rgba(60, 64, 67, 0.3), 0px 1px 3px 1px rgba(60, 64, 67, 0.15);\n",
              "      fill: #174EA6;\n",
              "    }\n",
              "\n",
              "    .colab-df-buttons div {\n",
              "      margin-bottom: 4px;\n",
              "    }\n",
              "\n",
              "    [theme=dark] .colab-df-convert {\n",
              "      background-color: #3B4455;\n",
              "      fill: #D2E3FC;\n",
              "    }\n",
              "\n",
              "    [theme=dark] .colab-df-convert:hover {\n",
              "      background-color: #434B5C;\n",
              "      box-shadow: 0px 1px 3px 1px rgba(0, 0, 0, 0.15);\n",
              "      filter: drop-shadow(0px 1px 2px rgba(0, 0, 0, 0.3));\n",
              "      fill: #FFFFFF;\n",
              "    }\n",
              "  </style>\n",
              "\n",
              "    <script>\n",
              "      const buttonEl =\n",
              "        document.querySelector('#df-6ff5bac5-8b54-4ad2-82f9-2a127c64314b button.colab-df-convert');\n",
              "      buttonEl.style.display =\n",
              "        google.colab.kernel.accessAllowed ? 'block' : 'none';\n",
              "\n",
              "      async function convertToInteractive(key) {\n",
              "        const element = document.querySelector('#df-6ff5bac5-8b54-4ad2-82f9-2a127c64314b');\n",
              "        const dataTable =\n",
              "          await google.colab.kernel.invokeFunction('convertToInteractive',\n",
              "                                                    [key], {});\n",
              "        if (!dataTable) return;\n",
              "\n",
              "        const docLinkHtml = 'Like what you see? Visit the ' +\n",
              "          '<a target=\"_blank\" href=https://colab.research.google.com/notebooks/data_table.ipynb>data table notebook</a>'\n",
              "          + ' to learn more about interactive tables.';\n",
              "        element.innerHTML = '';\n",
              "        dataTable['output_type'] = 'display_data';\n",
              "        await google.colab.output.renderOutput(dataTable, element);\n",
              "        const docLink = document.createElement('div');\n",
              "        docLink.innerHTML = docLinkHtml;\n",
              "        element.appendChild(docLink);\n",
              "      }\n",
              "    </script>\n",
              "  </div>\n",
              "\n",
              "\n",
              "<div id=\"df-7d7802c8-f80c-4df5-91e4-255aa1dc7661\">\n",
              "  <button class=\"colab-df-quickchart\" onclick=\"quickchart('df-7d7802c8-f80c-4df5-91e4-255aa1dc7661')\"\n",
              "            title=\"Suggest charts\"\n",
              "            style=\"display:none;\">\n",
              "\n",
              "<svg xmlns=\"http://www.w3.org/2000/svg\" height=\"24px\"viewBox=\"0 0 24 24\"\n",
              "     width=\"24px\">\n",
              "    <g>\n",
              "        <path d=\"M19 3H5c-1.1 0-2 .9-2 2v14c0 1.1.9 2 2 2h14c1.1 0 2-.9 2-2V5c0-1.1-.9-2-2-2zM9 17H7v-7h2v7zm4 0h-2V7h2v10zm4 0h-2v-4h2v4z\"/>\n",
              "    </g>\n",
              "</svg>\n",
              "  </button>\n",
              "\n",
              "<style>\n",
              "  .colab-df-quickchart {\n",
              "      --bg-color: #E8F0FE;\n",
              "      --fill-color: #1967D2;\n",
              "      --hover-bg-color: #E2EBFA;\n",
              "      --hover-fill-color: #174EA6;\n",
              "      --disabled-fill-color: #AAA;\n",
              "      --disabled-bg-color: #DDD;\n",
              "  }\n",
              "\n",
              "  [theme=dark] .colab-df-quickchart {\n",
              "      --bg-color: #3B4455;\n",
              "      --fill-color: #D2E3FC;\n",
              "      --hover-bg-color: #434B5C;\n",
              "      --hover-fill-color: #FFFFFF;\n",
              "      --disabled-bg-color: #3B4455;\n",
              "      --disabled-fill-color: #666;\n",
              "  }\n",
              "\n",
              "  .colab-df-quickchart {\n",
              "    background-color: var(--bg-color);\n",
              "    border: none;\n",
              "    border-radius: 50%;\n",
              "    cursor: pointer;\n",
              "    display: none;\n",
              "    fill: var(--fill-color);\n",
              "    height: 32px;\n",
              "    padding: 0;\n",
              "    width: 32px;\n",
              "  }\n",
              "\n",
              "  .colab-df-quickchart:hover {\n",
              "    background-color: var(--hover-bg-color);\n",
              "    box-shadow: 0 1px 2px rgba(60, 64, 67, 0.3), 0 1px 3px 1px rgba(60, 64, 67, 0.15);\n",
              "    fill: var(--button-hover-fill-color);\n",
              "  }\n",
              "\n",
              "  .colab-df-quickchart-complete:disabled,\n",
              "  .colab-df-quickchart-complete:disabled:hover {\n",
              "    background-color: var(--disabled-bg-color);\n",
              "    fill: var(--disabled-fill-color);\n",
              "    box-shadow: none;\n",
              "  }\n",
              "\n",
              "  .colab-df-spinner {\n",
              "    border: 2px solid var(--fill-color);\n",
              "    border-color: transparent;\n",
              "    border-bottom-color: var(--fill-color);\n",
              "    animation:\n",
              "      spin 1s steps(1) infinite;\n",
              "  }\n",
              "\n",
              "  @keyframes spin {\n",
              "    0% {\n",
              "      border-color: transparent;\n",
              "      border-bottom-color: var(--fill-color);\n",
              "      border-left-color: var(--fill-color);\n",
              "    }\n",
              "    20% {\n",
              "      border-color: transparent;\n",
              "      border-left-color: var(--fill-color);\n",
              "      border-top-color: var(--fill-color);\n",
              "    }\n",
              "    30% {\n",
              "      border-color: transparent;\n",
              "      border-left-color: var(--fill-color);\n",
              "      border-top-color: var(--fill-color);\n",
              "      border-right-color: var(--fill-color);\n",
              "    }\n",
              "    40% {\n",
              "      border-color: transparent;\n",
              "      border-right-color: var(--fill-color);\n",
              "      border-top-color: var(--fill-color);\n",
              "    }\n",
              "    60% {\n",
              "      border-color: transparent;\n",
              "      border-right-color: var(--fill-color);\n",
              "    }\n",
              "    80% {\n",
              "      border-color: transparent;\n",
              "      border-right-color: var(--fill-color);\n",
              "      border-bottom-color: var(--fill-color);\n",
              "    }\n",
              "    90% {\n",
              "      border-color: transparent;\n",
              "      border-bottom-color: var(--fill-color);\n",
              "    }\n",
              "  }\n",
              "</style>\n",
              "\n",
              "  <script>\n",
              "    async function quickchart(key) {\n",
              "      const quickchartButtonEl =\n",
              "        document.querySelector('#' + key + ' button');\n",
              "      quickchartButtonEl.disabled = true;  // To prevent multiple clicks.\n",
              "      quickchartButtonEl.classList.add('colab-df-spinner');\n",
              "      try {\n",
              "        const charts = await google.colab.kernel.invokeFunction(\n",
              "            'suggestCharts', [key], {});\n",
              "      } catch (error) {\n",
              "        console.error('Error during call to suggestCharts:', error);\n",
              "      }\n",
              "      quickchartButtonEl.classList.remove('colab-df-spinner');\n",
              "      quickchartButtonEl.classList.add('colab-df-quickchart-complete');\n",
              "    }\n",
              "    (() => {\n",
              "      let quickchartButtonEl =\n",
              "        document.querySelector('#df-7d7802c8-f80c-4df5-91e4-255aa1dc7661 button');\n",
              "      quickchartButtonEl.style.display =\n",
              "        google.colab.kernel.accessAllowed ? 'block' : 'none';\n",
              "    })();\n",
              "  </script>\n",
              "</div>\n",
              "    </div>\n",
              "  </div>\n"
            ],
            "application/vnd.google.colaboratory.intrinsic+json": {
              "type": "dataframe",
              "summary": "{\n  \"name\": \"df\",\n  \"rows\": 10,\n  \"fields\": [\n    {\n      \"column\": \"post_number\",\n      \"properties\": {\n        \"dtype\": \"string\",\n        \"num_unique_values\": 10,\n        \"samples\": [\n          \"104126\",\n          \"3411216\",\n          \"103447\"\n        ],\n        \"semantic_type\": \"\",\n        \"description\": \"\"\n      }\n    },\n    {\n      \"column\": \"title\",\n      \"properties\": {\n        \"dtype\": \"string\",\n        \"num_unique_values\": 10,\n        \"samples\": [\n          \"\\u5beb \\u5beb \\u6b7b\",\n          \"\\u6b72 \\u4e2d\\u5e74 \\u7236\\u89aa \\u9673 \\u6085 \\u6649 \\u6392\\u9664\\u842c\\u96e3 \\u52a0\\u5165 \\u8b66\\u968a \\u52a0\\u5165 \\u8b66\\u968a \\u7684 \\u521d\\u5fc3 \\u662f \\u6b62 \\u66b4 \\u5236 \\u4e82\",\n          \"\\u5f8c \\u56de\\u61b6 \\u5531 \\u5531\\u54a9\\u6b4c\"\n        ],\n        \"semantic_type\": \"\",\n        \"description\": \"\"\n      }\n    },\n    {\n      \"column\": \"main_content\",\n      \"properties\": {\n        \"dtype\": \"string\",\n        \"num_unique_values\": 8,\n        \"samples\": [\n          \"\\u6b72 \\u7684 \\u9673 \\u6085 \\u6649 \\u525b \\u65bc \\u8b66\\u5bdf \\u5b78\\u9662 \\u7562\\u696d \\u8207 \\u59bb\\u5b50 \\u80b2 \\u4e00 \\u5b50 \\u4e00 \\u5973 \\u6295\\u8eab \\u8b66\\u968a \\u524d \\u5f9e\\u4e8b \\u73bb\\u7483 \\u5b89\\u88dd \\u5de5\\u7a0b \\u903e \\u5e74 \\u5df2 \\u6649\\u5347 \\u81f3 \\u4e3b\\u7ba1 \\u7d1a\\u5225 \\u81f3 \\u5e74 \\u9ed1 \\u66b4 \\u8086\\u8650 \\u52a0\\u4e0a \\u5e74\\u521d \\u4ed6 \\u56e0\\u516c \\u53f8 \\u7d93\\u71df \\u56f0\\u96e3 \\u88ab \\u88c1\\u54e1 \\u4ee4 \\u4ed6 \\u840c\\u751f \\u52a0\\u5165 \\u8b66\\u968a \\u60f3\\u6cd5 \\u634d\\u885b \\u6cd5\\u6cbb \\u7576\\u6642 \\u773c\\u898b \\u9752\\u5c11\\u5e74 \\u88ab \\u8aa4\\u5c0e \\u6295\\u8eab \\u9ed1 \\u66b4 \\u4ee4 \\u5fc3\\u4e2d \\u71c3\\u8d77 \\u4e00\\u5718\\u706b \\u5e0c\\u671b \\u633a\\u8eab\\u800c\\u51fa \\u5236\\u6b62 \\u66b4\\u529b \\u4fdd\\u8b77 \\u9752\\u5c11\\u5e74\",\n          \"\\u898b\\u5de5 \\u6642 \\u597d\\u4f3c \\u8f15\\u9b06 \\u53c8\\u5e36 \\u53c3\\u89c0 \\u4e0b\\u500b \\u4ee5\\u70ba \\u6709\\u6a5f \\u9ede\\u77e5 \\u5de6 \\u500b\\u534a \\u79ae\\u62dc \\u6d88\\u606f\",\n          \"\\u71d2 \\u5c71 \\u4fc2\\u54aa \\u653e \\u5de6 \\u91dd \\u4ee5\\u8ecd \\u53c3\\u8b00\\u9577 \\u856d \\u82e5 \\u5143 \\u4f9d\\u5bb6 \\u597d\\u591a \\u8ecd\\u4e8b \\u4eba\\u4eba \\u4ef2 \\u767c \\u7dca \\u5922 \\u6839\\u672c \\u5514\\u77e5 \\u9053 \\u5834 \\u4ed7 \\u9ede\\u6253 \\u6cd5 \\u4f9d\\u5bb6 \\u4ee5\\u8272\\u5217 \\u8fa6\\u6cd5 \\u5c31\\u4fc2 \\u597d\\u4f3c \\u75c5\\u4eba \\u53cd\\u8f49 \\u8eab \\u63db \\u5e8a \\u55ae \\u4f9d\\u5bb6 \\u4ee5\\u8272\\u5217 \\u5c31\\u4fc2 \\u5c07 \\u52a0\\u6c99 \\u5317\\u90e8 \\u4eba \\u9077\\u79fb \\u5357\\u908a \\u54c8\\u99ac\\u65af \\u6703\\u6b7b \\u5b88 \\u4ee5\\u8272\\u5217 \\u5c31\\u53ef\\u4ee5 \\u6e05\\u527f \\u5317\\u90e8 \\u5269\\u8fd4 \\u4eba \\u6e05\\u527f \\u54c2 \\u5730\\u9053 \\u4eba \\u6349 \\u6652 \\u51fa \\u569f \\u9010\\u500b \\u62f7\\u554f \\u8d77 \\u6652 \\u6652 \\u6240\\u6709 \\u6b66\\u5668 \\u51fa \\u569f \\u5c31\\u53ef\\u4ee5 \\u53eb \\u5357\\u90e8 \\u4eba \\u5317\\u90e8 \\u4e2d\\u9014 \\u6bcf\\u500b\\u4eba \\u641c \\u904e\\u8eab \\u5a66\\u5b7a \\u6b66\\u5668 \\u653e \\u904e\\u53bb \\u6eff\\u6eff \\u9b0d\\u9b1a \\u6574\\u500b \\u6559\\u80b2 \\u71df \\u56f0\\u4f4f \\u5148\\u7747 \\u5413 \\u54c8\\u99ac\\u65af \\u5b9a\\u4fc2 \\u5e73\\u6c11 \\u5605\\u8a71 \\u6349 \\u5be9\\u8a0a \\u7576 \\u4eba \\u4e0a \\u8fd4\\u53bb \\u5317\\u90e8 \\u4ee5\\u8272\\u5217 \\u6e05 \\u5357\\u908a \\u5c07 \\u5357\\u908a \\u4e00 \\u69d8 \\u6d17 \\u4e00\\u6b21 \\u6210\\u500b \\u5730\\u5340 \\u6e05\\u9664 \\u6652 \\u7d55\\u5c0d \\u9694\\u7d55 \\u6652 \\u5206\\u8fa8 \\u6652 \\u52a0\\u6c99 \\u5883\\u5167 \\u54c8\\u99ac\\u65af \\u5206\\u5b50 \\u62d8\\u6355 \\u6652 \\u6d3b\\u8e8d \\u5206\\u5b50\"\n        ],\n        \"semantic_type\": \"\",\n        \"description\": \"\"\n      }\n    },\n    {\n      \"column\": \"comments\",\n      \"properties\": {\n        \"dtype\": \"string\",\n        \"num_unique_values\": 10,\n        \"samples\": [\n          \"\\u4fc2\\u5514\\u4fc2 \\u5beb \\u6f0f \\u807d\\u65e5 \\u4ef2\\u672a \\u5beb \\u5c31\\u4fc2 \\u4e00\\u7747 \\u660e \\u984c\\u76ee \\u504f\\u9580 \\u6435 \\u985e\\u4f3c \\u5b57 \\u5beb \\u5de6 \\u91ce \\u5beb \\u4fc2\\u54aa \\u73a9\\u5b8c \\u6536\\u76ae \\u65e2 \\u60c5\\u6cc1 \\u4e00\\u6a23 \\u5206\\u5206\\u9418 \\u4ef2 \\u5beb \\u5c11 \\u4f46 \\u6700\\u5f8c \\u7167 \\u4ea4 \\u807d\\u65e5 \\u4ef2\\u672a \\u5beb \\u5c31\\u4fc2 \\u4e00\\u7747 \\u660e \\u984c\\u76ee \\u504f\\u9580 \\u6435 \\u985e\\u4f3c \\u5b57 \\u5beb \\u5de6 \\u91ce \\u5beb \\u4fc2\\u54aa \\u73a9\\u5b8c \\u6536\\u76ae \\u65e2 \\u60c5\\u6cc1 \\u4e00\\u6a23 \\u5206\\u5206\\u9418 \\u4ef2 \\u5beb \\u5c11 \\u4f46 \\u6700\\u5f8c \\u7167 \\u4ea4 \\u52c1 \\u5566 \\u4f9d\\u5bb6 \\u4ef2 \\u5beb \\u7dca \\u901a\\u9802 \\u641e\\u5230 \\u5c31\\u5feb \\u5614 \\u807d\\u65e5 \\u4ef2\\u672a \\u5beb \\u5c31\\u4fc2 \\u4e00\\u7747 \\u660e \\u984c\\u76ee \\u504f\\u9580 \\u6435 \\u985e\\u4f3c \\u5b57 \\u5beb \\u5de6 \\u91ce \\u5beb \\u4fc2\\u54aa \\u73a9\\u5b8c \\u6536\\u76ae \\u8a66\\u4e0b \\u6435 \\u4e0b \\u904e\\u53bb\",\n          \"\\u5e74 \\u9ed1 \\u66b4 \\u8086\\u8650 \\u66b4\\u5f92 \\u56db\\u8655 \\u7834\\u58de \\u6467\\u6bc0 \\u5176 \\u5b89\\u7a69 \\u7684 \\u751f\\u6d3b \\u5e74\\u521d \\u4ed6 \\u56e0\\u516c \\u53f8 \\u7d93\\u71df \\u56f0\\u96e3 \\u88ab \\u88c1\\u54e1 \\u6709\\u5fc3 \\u5e74 \\u5373\\u523b \\u6295\\u8003 \\u5e74 \\u88c1\\u54e1 \\u5148\\u8003 \\u70ba \\u7ce7 \\u5566 \\u5e74\\u521d \\u4ed6 \\u56e0\\u516c \\u53f8 \\u7d93\\u71df \\u56f0\\u96e3 \\u88ab \\u88c1\\u54e1 \\u5e74\\u521d \\u4ed6 \\u56e0\\u516c \\u53f8 \\u7d93\\u71df \\u56f0\\u96e3 \\u88ab \\u88c1\\u54e1 \\u5e74\\u521d \\u4ed6 \\u56e0\\u516c \\u53f8 \\u7d93\\u71df \\u56f0\\u96e3 \\u88ab \\u88c1\\u54e1 \\u6bd4 \\u4eba \\u7092 \\u8f49\\u5de5 \\u6709\\u54a9 \\u4f9d\\u5bb6 \\u4e2d\\u5e74 \\u4ee5\\u4e0a \\u7576\\u5dee \\u6279 \\u7406 \\u6cbb\\u5b89 \\u5de5\\u4f5c \\u975e\\u5e38 \\u76ee\\u6a19 \\u5c0e\\u5411 \\u985e \\u4eba \\u5e73\\u65e5 \\u5c0f\\u4e8b \\u7169 \\u53ea \\u5e73\\u4e82 \\u7acb\\u529f \\u8b66\\u5bdf \\u826f\\u5fc3 \\u4f01\\u696d \\u5c08 \\u6536 \\u5783\\u573e \\u7576\\u6642 \\u773c\\u898b \\u9752\\u5c11\\u5e74 \\u88ab \\u8aa4\\u5c0e \\u6295\\u8eab \\u9ed1 \\u66b4 \\u4ee4 \\u5fc3\\u4e2d \\u71c3\\u8d77 \\u4e00\\u5718\\u706b \\u5e0c\\u671b \\u633a\\u8eab\\u800c\\u51fa \\u5236\\u6b62 \\u66b4\\u529b \\u4fdd\\u8b77 \\u9752\\u5c11\\u5e74 \\u6253\\u9ce9 \\u73ed \\u5f8c\\u751f\\u4ed4 \\u4e86 \\u4ffe \\u4eba \\u7092 \\u5de6 \\u91ce \\u6488 \\u4e2d\\u5e74 \\u5371\\u6a5f \\u662f\\u4f46 \\u6435 \\u6613 \\u8acb \\u65e2 \\u5de5 \\u9ece \\u505a \\u721b \\u73bb\\u7483 \\u908a\\u6709 \\u5481\\u591a \\u5730 \\u88dd \\u9673 \\u6085 \\u6649 \\u525b \\u5728 \\u8b66\\u5bdf \\u5b78\\u9662 \\u7562\\u696d \\u7372 \\u6d3e\\u99d0 \\u9ec3\\u5927\\u4ed9 \\u8b66\\u5340 \\u8ecd\\u88dd \\u5de1\\u908f \\u5c0f\\u968a \\u4ed6 \\u5728 \\u8b66 \\u8072 \\u8a2a\\u554f \\u4e2d \\u8868\\u793a \\u6295\\u8eab \\u8b66\\u968a \\u524d \\u5f9e\\u4e8b \\u73bb\\u7483 \\u5b89\\u88dd \\u5de5\\u7a0b \\u903e \\u5e74 \\u5df2 \\u6649\\u5347 \\u81f3 \\u4e3b\\u7ba1 \\u7d1a\\u5225 \\u81f3 \\u5e74 \\u9ed1 \\u66b4 \\u8086\\u8650 \\u66b4\\u5f92 \\u56db\\u8655 \\u7834\\u58de \\u6467\\u6bc0 \\u5176 \\u5b89\\u7a69 \\u7684 \\u751f\\u6d3b \\u5e74\\u521d \\u4ed6 \\u56e0\\u516c \\u53f8 \\u7d93\\u71df \\u56f0\\u96e3 \\u88ab \\u88c1\\u54e1 \\u6545 \\u6c7a\\u5fc3 \\u52a0\\u5165 \\u8b66\\u968a \\u5e74 \\u5c46 \\u4e2d\\u5e74 \\u7684 \\u9673 \\u6085 \\u6649 \\u52a0\\u5165 \\u8b66\\u968a \\u7684 \\u8def\\u9014 \\u4e26\\u4e0d \\u5e73\\u5766 \\u4ed6 \\u5411 \\u8b66 \\u8072 \\u900f\\u9732 \\u9664\\u4e86 \\u5b78\\u6b77 \\u53ca \\u9ad4\\u80fd \\u65b9\\u9762 \\u9700 \\u9762\\u5c0d \\u773e \\u591a\\u5e74 \\u8f15 \\u7af6\\u722d\\u8005 \\u592a\\u592a \\u4ea6 \\u64d4\\u5fc3 \\u5b50\\u5973 \\u56e0\\u6b64 \\u53d7 \\u6b3a\\u51cc \\u53cd\\u5c0d \\u4ed6 \\u6295\\u8003 \\u8b66\\u968a \\u5169 \\u4eba \\u66f4 \\u70ba \\u6b64 \\u756a \\u722d\\u57f7 \\u70ba \\u9054\\u6210 \\u76ee\\u6a19 \\u4ed6 \\u9010\\u4e00 \\u514b\\u670d \\u56f0\\u96e3 \\u5148 \\u627e \\u517c\\u8077 \\u5de5\\u4f5c \\u89e3\\u6c7a \\u751f\\u8a08 \\u554f\\u984c \\u65bc \\u5de5\\u9918 \\u6642\\u9593 \\u9032\\u4fee \\u4e26 \\u7d93\\u5e38 \\u62bd\\u7a7a \\u8dd1\\u6b65 \\u935b\\u934a \\u9ad4\\u80fd \\u4ee5 \\u9054\\u5230 \\u5165 \\u8077 \\u8981\\u6c42 \\u9673 \\u6085 \\u6649 \\u7684 \\u592a\\u592a \\u6700\\u7d42 \\u88ab \\u9673 \\u6085 \\u6649 \\u7684 \\u5805\\u6bc5 \\u6240 \\u6253\\u52d5 \\u652f\\u6301 \\u4ed6 \\u8ffd\\u5c0b \\u8b66\\u5bdf \\u5922 \\u81f3 \\u53bb\\u5e74 \\u7d42 \\u7372\\u53d6 \\u9304 \\u63a5\\u53d7 \\u70ba \\u671f \\u5468 \\u7684 \\u5b78 \\u8b66 \\u57fa\\u790e \\u8a13\\u7df4 \\u8ab2\\u7a0b \\u9673 \\u6085 \\u6649 \\u4ecd \\u8981\\u9762 \\u5c0d \\u4e0d\\u5c11 \\u6311\\u6230 \\u7279\\u5225 \\u662f \\u4eba \\u4e2d\\u5e74 \\u91cd\\u62fe \\u66f8\\u672c \\u4e26\\u975e \\u6613 \\u4e8b \\u4ed6 \\u5766 \\u8a00 \\u7576\\u6642 \\u8003\\u8a66 \\u6210\\u7e3e \\u5982 \\u7406\\u60f3 \\u975e\\u5e38 \\u64d4\\u5fc3 \\u7121\\u6cd5 \\u7562\\u696d \\u9673 \\u6085 \\u6649 \\u5341\\u5206 \\u611f\\u8b1d \\u7576\\u6642 \\u7684 \\u73ed\\u4e3b\\u4efb \\u5c0d\\u65b9 \\u9664 \\u7d66\\u4e88 \\u9f13\\u52f5 \\u548c \\u5206\\u4eab \\u8b80\\u66f8 \\u5fc3\\u5f97 \\u66f4 \\u5b89\\u6392 \\u5b78\\u8853 \\u8868\\u73fe \\u8f03\\u4f73 \\u7684 \\u540c\\u5b78 \\u665a\\u4e0a \\u70ba \\u4ed6 \\u88dc\\u7fd2 \\u6700\\u7d42 \\u4ed6 \\u9806\\u5229 \\u53d6 \\u7406\\u60f3 \\u6210\\u7e3e \\u5982\\u9858 \\u52a0\\u5165 \\u8b66\\u968a \\u9673 \\u6085 \\u6649 \\u8868\\u793a \\u52a0\\u5165 \\u8b66\\u968a \\u7684 \\u521d\\u5fc3 \\u662f \\u6b62 \\u66b4 \\u5236 \\u4e82 \\u96d6\\u7136 \\u76ee\\u524d \\u793e\\u6703\\u74b0\\u5883 \\u76f8\\u5c0d \\u7a69\\u5b9a \\u4f46 \\u4ed6 \\u7d55\\u5c0d \\u4e0d\\u6703 \\u6389\\u4ee5\\u8f15\\u5fc3 \\u5805\\u5b88 \\u4fdd\\u8b77 \\u9999\\u6e2f \\u7684 \\u524d\\u7dda \\u9632\\u7bc4 \\u540c\\u985e \\u4e8b\\u4ef6 \\u518d\\u6b21 \\u767c\\u751f \\u4ed6 \\u4ea6 \\u5e0c\\u671b \\u80fd \\u6210\\u70ba \\u5b50\\u5973 \\u7684 \\u699c\\u6a23 \\u5b78 \\u61c2 \\u6392\\u9664\\u842c\\u96e3 \\u70ba \\u76ee\\u6a19 \\u8fce \\u96e3 \\u4e0a \\u6bcf\\u65e5 \\u5132 \\u868a \\u4e09\\u5e74 \\u5f8c \\u7528 \\u81ea\\u8eab \\u7a4d\\u84c4 \\u52a0\\u57cb \\u7238\\u7238 \\u6bd4 \\u65e2 \\u842c \\u4e0a \\u6a13 \\u5165 \\u592a\\u592a \\u4ea6 \\u64d4\\u5fc3 \\u5b50\\u5973 \\u56e0\\u6b64 \\u53d7 \\u6b3a\\u51cc \\u53cd\\u5c0d \\u4ed6 \\u6295\\u8003 \\u8b66\\u968a \\u5168\\u5bb6 \\u72d7 \\u649a \\u52f5\\u5fd7 \\u52a0\\u4e0a \\u5e74\\u521d \\u4ed6 \\u56e0\\u516c \\u53f8 \\u7d93\\u71df \\u56f0\\u96e3 \\u88ab \\u88c1\\u54e1 \\u505a \\u5730\\u76e4 \\u505a\\u5230 \\u4ffe \\u4eba \\u96de \\u51fa \\u569f \\u9072 \\u5e74\\u6b72 \\u7684 \\u9673 \\u6085 \\u6649 \\u525b \\u65bc \\u8b66\\u5bdf \\u5b78\\u9662 \\u7562\\u696d \\u8207 \\u59bb\\u5b50 \\u80b2 \\u4e00 \\u5b50 \\u4e00 \\u5973 \\u6295\\u8eab \\u8b66\\u968a \\u524d \\u5f9e\\u4e8b \\u73bb\\u7483 \\u5b89\\u88dd \\u5de5\\u7a0b \\u903e \\u5e74 \\u5df2 \\u6649\\u5347 \\u81f3 \\u4e3b\\u7ba1 \\u7d1a\\u5225 \\u81f3 \\u5e74 \\u9ed1 \\u66b4 \\u8086\\u8650 \\u52a0\\u4e0a \\u5e74\\u521d \\u4ed6 \\u56e0\\u516c \\u53f8 \\u7d93\\u71df \\u56f0\\u96e3 \\u88ab \\u88c1\\u54e1 \\u4ee4 \\u4ed6 \\u840c\\u751f \\u52a0\\u5165 \\u8b66\\u968a \\u60f3\\u6cd5 \\u634d\\u885b \\u6cd5\\u6cbb \\u7576\\u6642 \\u773c\\u898b \\u9752\\u5c11\\u5e74 \\u88ab \\u8aa4\\u5c0e \\u6295\\u8eab \\u9ed1 \\u66b4 \\u4ee4 \\u5fc3\\u4e2d \\u71c3\\u8d77 \\u4e00\\u5718\\u706b \\u5e0c\\u671b \\u633a\\u8eab\\u800c\\u51fa \\u5236\\u6b62 \\u66b4\\u529b \\u4fdd\\u8b77 \\u9752\\u5c11\\u5e74 \\u592a\\u592a \\u4ea6 \\u64d4\\u5fc3 \\u5b50\\u5973 \\u56e0\\u6b64 \\u53d7 \\u6b3a\\u51cc \\u8e29 \\u9ce9 \\u4efd\\u5de5 \\u556b \\u6bc5\\u9032 \\u7562\\u696d \\u53e4\\u8a9e\\u6709\\u4e91 \\u53c8\\u8981 \\u505a\\u96de \\u53c8\\u8981 \\u8c9e\\u7bc0 \\u6392 \\u574a \\u5e7e\\u6642 \\u7747\\u4f4f \\u540c\\u4e8b \\u4e00 \\u96bb\\u96bb \\u72af\\u7f6a \\u611f\\u89ba \\u4ef2\\u6709 \\u5e74 \\u597d\\u591a \\u88ab\\u81ea\\u6bba \\u6848 \\u904e\\u773c \\u4ef2\\u6709 \\u66b4\",\n          \"\\u6700\\u5f8c \\u795d\\u798f \\u9996 \\u6709\\u5f97 \\u5531 \\u597d\\u4f3c \\u5957 \\u5287 \\u51fa \\u5de6 \\u5187\\u8010 \\u6700\\u5f8c \\u795d\\u798f \\u9996 \\u6709\\u5f97 \\u5531 \\u597d\\u4f3c \\u5957 \\u5287 \\u51fa \\u5de6 \\u5187\\u8010 \\u6709\\u7121 \\u5531 \\u9673 \\u5ee3 \\u5049 \\u52c1\\u6b4c\\u91d1\\u66f2 \\u91cd\\u53e3\\u5473 \\u6700\\u5f8c \\u795d\\u798f \\u9996 \\u6709\\u5f97 \\u5531 \\u4f9d\\u5bb6 \\u4ef2\\u6709 \\u4eba \\u5531 \\u5566 \\u5531 \\u5a01 \\u4f9d\\u5bb6 \\u5f8c\\u751f \\u7576 \\u5462\\u5572 \\u8001\\u9905 \\u6b4c \\u4e86 \\u5531 \\u8b5a\\u8a60\\u9e9f \\u5bb9\\u7956\\u5152 \\u820a\\u6b4c \\u7121 \\u8f38 \\u4ef2\\u6709 \\u5152\\u6b4c \\u8d85\\u7d1a \\u5c0f \\u9ed1 \\u4fdd \\u5927 \\u7f8e \\u5c11\\u5973 \\u6230\\u58eb \\u5c0f \\u4e38\\u5b50 \\u5c39\\u5149 \\u7238\\u7238 \\u5c11\\u7406 \\u963f\\u7238 \\u6b63 \\u4ec6\\u8857 \\u4f9d\\u5bb6 \\u4ef2\\u6709 \\u4eba \\u5531 \\u5566 \\u5531 \\u5a01 \\u4e8b\\u5be6 \\u6562 \\u807d \\u4f9d\\u5bb6 \\u5f8c\\u751f \\u7576 \\u5462\\u5572 \\u8001\\u9905 \\u6b4c \\u4e86 \\u5f8c \\u5514\\u6703 \\u8b58 \\u83ef \\u661f \\u82f1\\u7687 \\u5e74\\u4ee3 \\u820a\\u6b4c \\u5187\\u5f97 \\u8f38 \\u5764 \\u54e5 \\u5f8c \\u56e1\\u56e1 \\u6253 \\u95dc\\u4fc2 \\u6cb9 \\u4e0d\\u662f \\u516b\\u5341\\u5e74\\u4ee3 \\u4f9d\\u5bb6 \\u4ef2\\u6709 \\u4eba \\u5531 \\u5764 \\u54e5 \\u5f8c \\u56e1\\u56e1 \\u6253 \\u95dc\\u4fc2 \\u5c39\\u5149 \\u5531 \\u597d\\u591a \\u6b4c \\u6d3b \\u8457 \\u5931\\u6200 \\u738b \\u597d\\u5fc3 \\u5831 \\u6700\\u5f8c \\u795d\\u798f \\u7121\\u8cf4 \\u958b\\u59cb \\u6200\\u611b \\u597d\\u591a \\u8b58 \\u5531 \\u5b9c\\u5bb6 \\u5187\\u4eba \\u5531 \\u4f9d\\u5bb6 \\u5f8c\\u751f \\u7576 \\u5462\\u5572 \\u8001\\u9905 \\u6b4c \\u4e86 \\u5f8c \\u5514\\u6703 \\u8b58 \\u59d0 \\u649a \\u5ee3 \\u5049 \\u6cb9 \\u4e0d\\u662f \\u516b\\u5341\\u5e74\\u4ee3 \\u98f2\\u6b4c \\u4ef2\\u8981 \\u8df3\"\n        ],\n        \"semantic_type\": \"\",\n        \"description\": \"\"\n      }\n    },\n    {\n      \"column\": \"word_count\",\n      \"properties\": {\n        \"dtype\": \"string\",\n        \"num_unique_values\": 10,\n        \"samples\": [\n          \"93\",\n          \"568\",\n          \"159\"\n        ],\n        \"semantic_type\": \"\",\n        \"description\": \"\"\n      }\n    },\n    {\n      \"column\": \"URL\",\n      \"properties\": {\n        \"dtype\": \"string\",\n        \"num_unique_values\": 10,\n        \"samples\": [\n          \"https://lihkg.com/thread/104126/page/1\",\n          \"https://lihkg.com/thread/3411216/page/1\",\n          \"https://lihkg.com/thread/103447/page/1\"\n        ],\n        \"semantic_type\": \"\",\n        \"description\": \"\"\n      }\n    },\n    {\n      \"column\": \"Category\",\n      \"properties\": {\n        \"dtype\": \"string\",\n        \"num_unique_values\": 7,\n        \"samples\": [\n          \"5.0\",\n          \"16.0\",\n          \"31.0\"\n        ],\n        \"semantic_type\": \"\",\n        \"description\": \"\"\n      }\n    },\n    {\n      \"column\": \"Classification\",\n      \"properties\": {\n        \"dtype\": \"string\",\n        \"num_unique_values\": 7,\n        \"samples\": [\n          \"\\u6642\\u4e8b\\u53f0\",\n          \"\\u98f2\\u98df\\u53f0\",\n          \"\\u5275\\u610f\\u53f0\"\n        ],\n        \"semantic_type\": \"\",\n        \"description\": \"\"\n      }\n    }\n  ]\n}"
            }
          },
          "metadata": {},
          "execution_count": 9
        }
      ],
      "source": [
        "import pandas as pd\n",
        "\n",
        "# Load the dataset into a pandas dataframe.\n",
        "df = pd.read_csv(\"/content/preprocessed_data(210).csv\", names=['post_number','title','main_content','comments', 'word_count', 'URL', 'Category', 'Classification'])\n",
        "\n",
        "# Report the number of sentences.\n",
        "print('Number of training sentences: {:,}\\n'.format(df.shape[0]))\n",
        "\n",
        "# Display 10 random rows from the data.\n",
        "df.sample(10)"
      ]
    },
    {
      "cell_type": "code",
      "execution_count": 10,
      "metadata": {
        "id": "PbTb7wlBxG5o",
        "colab": {
          "base_uri": "https://localhost:8080/"
        },
        "outputId": "0c1892a5-44d2-431b-bf52-a2ea59b7201e"
      },
      "outputs": [
        {
          "output_type": "execute_result",
          "data": {
            "text/plain": [
              "7204"
            ]
          },
          "metadata": {},
          "execution_count": 10
        }
      ],
      "source": [
        "len(df)"
      ]
    },
    {
      "cell_type": "code",
      "execution_count": 11,
      "metadata": {
        "id": "yAUdAC1WxOgw",
        "colab": {
          "base_uri": "https://localhost:8080/"
        },
        "outputId": "215b627f-c5b8-410b-86b1-cdb5c516a126"
      },
      "outputs": [
        {
          "output_type": "execute_result",
          "data": {
            "text/plain": [
              "6090"
            ]
          },
          "metadata": {},
          "execution_count": 11
        }
      ],
      "source": [
        "df = df.dropna(axis=0, how='any')\n",
        "len(df)"
      ]
    },
    {
      "cell_type": "code",
      "source": [],
      "metadata": {
        "id": "EepJSWPgBJQ5"
      },
      "execution_count": 11,
      "outputs": []
    },
    {
      "cell_type": "code",
      "source": [
        "possible_labels = df.Category[1:].unique()\n",
        "label_dict = {}\n",
        "for index, possible_label in enumerate(possible_labels):\n",
        "    label_dict[possible_label] = index\n",
        "label_dict"
      ],
      "metadata": {
        "colab": {
          "base_uri": "https://localhost:8080/"
        },
        "id": "vbAP1ut5BNqC",
        "outputId": "3e998921-ee7f-4876-f225-1c13b7d34d32"
      },
      "execution_count": 12,
      "outputs": [
        {
          "output_type": "execute_result",
          "data": {
            "text/plain": [
              "{'28.0': 0,\n",
              " '5.0': 1,\n",
              " '33.0': 2,\n",
              " '31.0': 3,\n",
              " '30.0': 4,\n",
              " '21.0': 5,\n",
              " '8.0': 6,\n",
              " '16.0': 7,\n",
              " '6.0': 8,\n",
              " '20.0': 9,\n",
              " '22.0': 10,\n",
              " '23.0': 11,\n",
              " '18.0': 12,\n",
              " '10.0': 13,\n",
              " '17.0': 14,\n",
              " '25.0': 15,\n",
              " '11.0': 16,\n",
              " '13.0': 17,\n",
              " '4.0': 18,\n",
              " '7.0': 19,\n",
              " '14.0': 20,\n",
              " '24.0': 21,\n",
              " '34.0': 22,\n",
              " '32.0': 23,\n",
              " '12.0': 24,\n",
              " '9.0': 25,\n",
              " '26.0': 26,\n",
              " '19.0': 27,\n",
              " '15.0': 28,\n",
              " '27.0': 29,\n",
              " '35.0': 30,\n",
              " '36.0': 31,\n",
              " '37.0': 32,\n",
              " '38.0': 33,\n",
              " '39.0': 34,\n",
              " '40.0': 35,\n",
              " '41.0': 36}"
            ]
          },
          "metadata": {},
          "execution_count": 12
        }
      ]
    },
    {
      "cell_type": "code",
      "source": [],
      "metadata": {
        "id": "RKTPIxeyBNsI"
      },
      "execution_count": 12,
      "outputs": []
    },
    {
      "cell_type": "code",
      "execution_count": 13,
      "metadata": {
        "id": "_JOY18QSo-a0",
        "colab": {
          "base_uri": "https://localhost:8080/"
        },
        "outputId": "3e161ac2-d0b4-41cd-a92e-bfee0adef8ac"
      },
      "outputs": [
        {
          "output_type": "stream",
          "name": "stdout",
          "text": [
            "(6089,)\n",
            "(6089,)\n"
          ]
        }
      ],
      "source": [
        "sentences = df.comments[1:].values\n",
        "labels = df.Category[1:].values\n",
        "print(labels.shape)\n",
        "print(sentences.shape)"
      ]
    },
    {
      "cell_type": "code",
      "execution_count": 14,
      "metadata": {
        "id": "qGpWgGSTpRsI",
        "colab": {
          "base_uri": "https://localhost:8080/"
        },
        "outputId": "b7b7df5b-b4c6-4646-891f-7061e74df62a"
      },
      "outputs": [
        {
          "output_type": "stream",
          "name": "stdout",
          "text": [
            "Loading BERT tokenizer...\n"
          ]
        },
        {
          "output_type": "stream",
          "name": "stderr",
          "text": [
            "/usr/local/lib/python3.10/dist-packages/huggingface_hub/utils/_token.py:88: UserWarning: \n",
            "The secret `HF_TOKEN` does not exist in your Colab secrets.\n",
            "To authenticate with the Hugging Face Hub, create a token in your settings tab (https://huggingface.co/settings/tokens), set it as secret in your Google Colab and restart your session.\n",
            "You will be able to reuse this secret in all of your notebooks.\n",
            "Please note that authentication is recommended but still optional to access public models or datasets.\n",
            "  warnings.warn(\n"
          ]
        }
      ],
      "source": [
        "from transformers import BertTokenizer\n",
        "\n",
        "# Load the BERT tokenizer.\n",
        "print('Loading BERT tokenizer...')\n",
        "tokenizer = BertTokenizer.from_pretrained('bert-base-uncased', do_lower_case=True)"
      ]
    },
    {
      "cell_type": "code",
      "execution_count": 15,
      "metadata": {
        "id": "ie9OMZswphHp",
        "colab": {
          "base_uri": "https://localhost:8080/"
        },
        "outputId": "7ee666f7-dbd3-423f-ce30-681b8b24a82d"
      },
      "outputs": [
        {
          "output_type": "stream",
          "name": "stdout",
          "text": [
            " Original:  京津 照 放炮 仗 污染 爆錶 另一方面 今年 春節 假期 留 在 國內 的 民 眾 則 繼續 忍受 霧霾 之 苦 包括 北京 等 國內 城市 近日 均 對 市民 燃放 煙花 爆竹 祭 出 嚴 控 姿態 惟 民 眾 仍 堅持 爆竹 一聲 除 舊 歲 其中 京津 冀 大批 民 眾 前晚 開始 燃放 炮仗 令 區域 懸浮粒子 濃度 急 升官 方 公佈 北京 的 空氣 質量 指數 在 昨 凌晨 時 至 時 超過 達 嚴重 污染 的 爆錶 水平 若 用 美國 標準 更 曾 升 至 的 峯值 至 昨早 天明 時 才 有所改善 京津 照 放炮 仗 污染 爆錶 另一方面 今年 春節 假期 留 在 國內 的 民 眾 則 繼續 忍受 霧霾 之 苦 包括 北京 等 國內 城市 近日 均 對 市民 燃放 煙花 爆竹 祭 出 嚴 控 姿態 惟 民 眾 仍 堅持 爆竹 一聲 除 舊 歲 其中 京津 冀 大批 民 眾 前晚 開始 燃放 炮仗 令 區域 懸浮粒子 濃度 急 升官 方 公佈 北京 的 空氣 質量 指數 在 昨 凌晨 時 至 時 超過 達 嚴重 污染 的 爆錶 水平 若 用 美國 標準 更 曾 升 至 的 峯值 至 昨早 天明 時 才 有所改善 支那 另外 有一套 標準 香港 行緊 另一 套 標準 支那 點會 放假 毒 霧 吸 慣 京津 照 放炮 仗 污染 爆錶 另一方面 今年 春節 假期 留 在 國內 的 民 眾 則 繼續 忍受 霧霾 之 苦 包括 北京 等 國內 城市 近日 均 對 市民 燃放 煙花 爆竹 祭 出 嚴 控 姿態 惟 民 眾 仍 堅持 爆竹 一聲 除 舊 歲 其中 京津 冀 大批 民 眾 前晚 開始 燃放 炮仗 令 區域 懸浮粒子 濃度 急 升官 方 公佈 北京 的 空氣 質量 指數 在 昨 凌晨 時 至 時 超過 達 嚴重 污染 的 爆錶 水平 若 用 美國 標準 更 曾 升 至 的 峯值 至 昨早 天明 時 才 有所改善 支那 另外 有一套 標準\n",
            "Tokenized:  ['京', '[UNK]', '[UNK]', '[UNK]', '[UNK]', '[UNK]', '[UNK]', '[UNK]', '[UNK]', '[UNK]', '[UNK]', '一', '方', '面', '[UNK]', '年', '春', '[UNK]', '[UNK]', '[UNK]', '[UNK]', '[UNK]', '國', '[UNK]', '的', '民', '[UNK]', '[UNK]', '[UNK]', '[UNK]', '[UNK]', '[UNK]', '[UNK]', '[UNK]', '之', '[UNK]', '[UNK]', '[UNK]', '北', '京', '[UNK]', '國', '[UNK]', '城', '[UNK]', '[UNK]', '日', '[UNK]', '[UNK]', '[UNK]', '民', '[UNK]', '[UNK]', '[UNK]', '花', '[UNK]', '竹', '[UNK]', '出', '[UNK]', '[UNK]', '[UNK]', '[UNK]', '[UNK]', '民', '[UNK]', '[UNK]', '[UNK]', '[UNK]', '[UNK]', '竹', '一', '[UNK]', '[UNK]', '[UNK]', '[UNK]', '[UNK]', '中', '京', '[UNK]', '[UNK]', '大', '[UNK]', '民', '[UNK]', '前', '[UNK]', '[UNK]', '[UNK]', '[UNK]', '[UNK]', '[UNK]', '[UNK]', '[UNK]', '[UNK]', '[UNK]', '[UNK]', '[UNK]', '[UNK]', '子', '[UNK]', '[UNK]', '[UNK]', '[UNK]', '[UNK]', '方', '公', '[UNK]', '北', '京', '的', '空', '[UNK]', '[UNK]', '[UNK]', '[UNK]', '[UNK]', '[UNK]', '[UNK]', '[UNK]', '[UNK]', '[UNK]', '[UNK]', '[UNK]', '[UNK]', '[UNK]', '[UNK]', '[UNK]', '[UNK]', '[UNK]', '[UNK]', '的', '[UNK]', '[UNK]', '水', '平', '[UNK]', '[UNK]', '美', '國', '[UNK]', '[UNK]', '[UNK]', '[UNK]', '[UNK]', '[UNK]', '的', '[UNK]', '[UNK]', '[UNK]', '[UNK]', '[UNK]', '天', '明', '[UNK]', '[UNK]', '有', '[UNK]', '[UNK]', '[UNK]', '京', '[UNK]', '[UNK]', '[UNK]', '[UNK]', '[UNK]', '[UNK]', '[UNK]', '[UNK]', '[UNK]', '[UNK]', '一', '方', '面', '[UNK]', '年', '春', '[UNK]', '[UNK]', '[UNK]', '[UNK]', '[UNK]', '國', '[UNK]', '的', '民', '[UNK]', '[UNK]', '[UNK]', '[UNK]', '[UNK]', '[UNK]', '[UNK]', '[UNK]', '之', '[UNK]', '[UNK]', '[UNK]', '北', '京', '[UNK]', '國', '[UNK]', '城', '[UNK]', '[UNK]', '日', '[UNK]', '[UNK]', '[UNK]', '民', '[UNK]', '[UNK]', '[UNK]', '花', '[UNK]', '竹', '[UNK]', '出', '[UNK]', '[UNK]', '[UNK]', '[UNK]', '[UNK]', '民', '[UNK]', '[UNK]', '[UNK]', '[UNK]', '[UNK]', '竹', '一', '[UNK]', '[UNK]', '[UNK]', '[UNK]', '[UNK]', '中', '京', '[UNK]', '[UNK]', '大', '[UNK]', '民', '[UNK]', '前', '[UNK]', '[UNK]', '[UNK]', '[UNK]', '[UNK]', '[UNK]', '[UNK]', '[UNK]', '[UNK]', '[UNK]', '[UNK]', '[UNK]', '[UNK]', '子', '[UNK]', '[UNK]', '[UNK]', '[UNK]', '[UNK]', '方', '公', '[UNK]', '北', '京', '的', '空', '[UNK]', '[UNK]', '[UNK]', '[UNK]', '[UNK]', '[UNK]', '[UNK]', '[UNK]', '[UNK]', '[UNK]', '[UNK]', '[UNK]', '[UNK]', '[UNK]', '[UNK]', '[UNK]', '[UNK]', '[UNK]', '[UNK]', '的', '[UNK]', '[UNK]', '水', '平', '[UNK]', '[UNK]', '美', '國', '[UNK]', '[UNK]', '[UNK]', '[UNK]', '[UNK]', '[UNK]', '的', '[UNK]', '[UNK]', '[UNK]', '[UNK]', '[UNK]', '天', '明', '[UNK]', '[UNK]', '有', '[UNK]', '[UNK]', '[UNK]', '[UNK]', '[UNK]', '[UNK]', '外', '有', '一', '[UNK]', '[UNK]', '[UNK]', '香', '[UNK]', '行', '[UNK]', '[UNK]', '一', '[UNK]', '[UNK]', '[UNK]', '[UNK]', '[UNK]', '[UNK]', '[UNK]', '[UNK]', '[UNK]', '[UNK]', '[UNK]', '[UNK]', '[UNK]', '京', '[UNK]', '[UNK]', '[UNK]', '[UNK]', '[UNK]', '[UNK]', '[UNK]', '[UNK]', '[UNK]', '[UNK]', '一', '方', '面', '[UNK]', '年', '春', '[UNK]', '[UNK]', '[UNK]', '[UNK]', '[UNK]', '國', '[UNK]', '的', '民', '[UNK]', '[UNK]', '[UNK]', '[UNK]', '[UNK]', '[UNK]', '[UNK]', '[UNK]', '之', '[UNK]', '[UNK]', '[UNK]', '北', '京', '[UNK]', '國', '[UNK]', '城', '[UNK]', '[UNK]', '日', '[UNK]', '[UNK]', '[UNK]', '民', '[UNK]', '[UNK]', '[UNK]', '花', '[UNK]', '竹', '[UNK]', '出', '[UNK]', '[UNK]', '[UNK]', '[UNK]', '[UNK]', '民', '[UNK]', '[UNK]', '[UNK]', '[UNK]', '[UNK]', '竹', '一', '[UNK]', '[UNK]', '[UNK]', '[UNK]', '[UNK]', '中', '京', '[UNK]', '[UNK]', '大', '[UNK]', '民', '[UNK]', '前', '[UNK]', '[UNK]', '[UNK]', '[UNK]', '[UNK]', '[UNK]', '[UNK]', '[UNK]', '[UNK]', '[UNK]', '[UNK]', '[UNK]', '[UNK]', '子', '[UNK]', '[UNK]', '[UNK]', '[UNK]', '[UNK]', '方', '公', '[UNK]', '北', '京', '的', '空', '[UNK]', '[UNK]', '[UNK]', '[UNK]', '[UNK]', '[UNK]', '[UNK]', '[UNK]', '[UNK]', '[UNK]', '[UNK]', '[UNK]', '[UNK]', '[UNK]', '[UNK]', '[UNK]', '[UNK]', '[UNK]', '[UNK]', '的', '[UNK]', '[UNK]', '水', '平', '[UNK]', '[UNK]', '美', '國', '[UNK]', '[UNK]', '[UNK]', '[UNK]', '[UNK]', '[UNK]', '的', '[UNK]', '[UNK]', '[UNK]', '[UNK]', '[UNK]', '天', '明', '[UNK]', '[UNK]', '有', '[UNK]', '[UNK]', '[UNK]', '[UNK]', '[UNK]', '[UNK]', '外', '有', '一', '[UNK]', '[UNK]', '[UNK]']\n",
            "Token IDs:  [1755, 100, 100, 100, 100, 100, 100, 100, 100, 100, 100, 1740, 1863, 1976, 100, 1840, 1867, 100, 100, 100, 100, 100, 1800, 100, 1916, 1892, 100, 100, 100, 100, 100, 100, 100, 100, 1749, 100, 100, 100, 1781, 1755, 100, 1800, 100, 1804, 100, 100, 1864, 100, 100, 100, 1892, 100, 100, 100, 1940, 100, 1933, 100, 1774, 100, 100, 100, 100, 100, 1892, 100, 100, 100, 100, 100, 1933, 1740, 100, 100, 100, 100, 100, 1746, 1755, 100, 100, 1810, 100, 1892, 100, 1776, 100, 100, 100, 100, 100, 100, 100, 100, 100, 100, 100, 100, 100, 1816, 100, 100, 100, 100, 100, 1863, 1772, 100, 1781, 1755, 1916, 1930, 100, 100, 100, 100, 100, 100, 100, 100, 100, 100, 100, 100, 100, 100, 100, 100, 100, 100, 100, 1916, 100, 100, 1893, 1839, 100, 100, 1935, 1800, 100, 100, 100, 100, 100, 100, 1916, 100, 100, 100, 100, 100, 1811, 1865, 100, 100, 1873, 100, 100, 100, 1755, 100, 100, 100, 100, 100, 100, 100, 100, 100, 100, 1740, 1863, 1976, 100, 1840, 1867, 100, 100, 100, 100, 100, 1800, 100, 1916, 1892, 100, 100, 100, 100, 100, 100, 100, 100, 1749, 100, 100, 100, 1781, 1755, 100, 1800, 100, 1804, 100, 100, 1864, 100, 100, 100, 1892, 100, 100, 100, 1940, 100, 1933, 100, 1774, 100, 100, 100, 100, 100, 1892, 100, 100, 100, 100, 100, 1933, 1740, 100, 100, 100, 100, 100, 1746, 1755, 100, 100, 1810, 100, 1892, 100, 1776, 100, 100, 100, 100, 100, 100, 100, 100, 100, 100, 100, 100, 100, 1816, 100, 100, 100, 100, 100, 1863, 1772, 100, 1781, 1755, 1916, 1930, 100, 100, 100, 100, 100, 100, 100, 100, 100, 100, 100, 100, 100, 100, 100, 100, 100, 100, 100, 1916, 100, 100, 1893, 1839, 100, 100, 1935, 1800, 100, 100, 100, 100, 100, 100, 1916, 100, 100, 100, 100, 100, 1811, 1865, 100, 100, 1873, 100, 100, 100, 100, 100, 100, 1809, 1873, 1740, 100, 100, 100, 1979, 100, 1945, 100, 100, 1740, 100, 100, 100, 100, 100, 100, 100, 100, 100, 100, 100, 100, 100, 1755, 100, 100, 100, 100, 100, 100, 100, 100, 100, 100, 1740, 1863, 1976, 100, 1840, 1867, 100, 100, 100, 100, 100, 1800, 100, 1916, 1892, 100, 100, 100, 100, 100, 100, 100, 100, 1749, 100, 100, 100, 1781, 1755, 100, 1800, 100, 1804, 100, 100, 1864, 100, 100, 100, 1892, 100, 100, 100, 1940, 100, 1933, 100, 1774, 100, 100, 100, 100, 100, 1892, 100, 100, 100, 100, 100, 1933, 1740, 100, 100, 100, 100, 100, 1746, 1755, 100, 100, 1810, 100, 1892, 100, 1776, 100, 100, 100, 100, 100, 100, 100, 100, 100, 100, 100, 100, 100, 1816, 100, 100, 100, 100, 100, 1863, 1772, 100, 1781, 1755, 1916, 1930, 100, 100, 100, 100, 100, 100, 100, 100, 100, 100, 100, 100, 100, 100, 100, 100, 100, 100, 100, 1916, 100, 100, 1893, 1839, 100, 100, 1935, 1800, 100, 100, 100, 100, 100, 100, 1916, 100, 100, 100, 100, 100, 1811, 1865, 100, 100, 1873, 100, 100, 100, 100, 100, 100, 1809, 1873, 1740, 100, 100, 100]\n"
          ]
        }
      ],
      "source": [
        "# Print the original sentence.\n",
        "print(' Original: ', sentences[1])\n",
        "\n",
        "# Print the sentence split into tokens.\n",
        "print('Tokenized: ', tokenizer.tokenize(sentences[1]))\n",
        "\n",
        "# Print the sentence mapped to token ids.\n",
        "print('Token IDs: ', tokenizer.convert_tokens_to_ids(tokenizer.tokenize(sentences[1])))"
      ]
    },
    {
      "cell_type": "code",
      "execution_count": 16,
      "metadata": {
        "id": "UFL3CbKwt4NW",
        "colab": {
          "base_uri": "https://localhost:8080/"
        },
        "outputId": "451798a8-b131-494f-87b0-68f0511e2ae4"
      },
      "outputs": [
        {
          "output_type": "stream",
          "name": "stderr",
          "text": [
            "Token indices sequence length is longer than the specified maximum sequence length for this model (519 > 512). Running this sequence through the model will result in indexing errors\n"
          ]
        },
        {
          "output_type": "stream",
          "name": "stdout",
          "text": [
            "Max sentence length:  14874\n"
          ]
        }
      ],
      "source": [
        "max_len = 0\n",
        "\n",
        "# For every sentence...\n",
        "for sent in sentences:\n",
        "\n",
        "    # Tokenize the text and add `[CLS]` and `[SEP]` tokens.\n",
        "    input_ids = tokenizer.encode(sent, add_special_tokens=True)\n",
        "\n",
        "    # Update the maximum sentence length.\n",
        "    max_len = max(max_len, len(input_ids))\n",
        "\n",
        "print('Max sentence length: ', max_len)"
      ]
    },
    {
      "cell_type": "code",
      "execution_count": 17,
      "metadata": {
        "id": "5UPFtU7zLinm",
        "colab": {
          "base_uri": "https://localhost:8080/"
        },
        "outputId": "db6f2b9e-e2c2-4502-e493-32ebc7b62428"
      },
      "outputs": [
        {
          "output_type": "stream",
          "name": "stdout",
          "text": [
            "Original:  講錢 實際 件 產品 服務 做 咪有 人 幫襯 相反 做 無咁 消失 聽到 小 商戶 做 住 事實 就係 無人 幫襯 夠 人 支持 的 消費 就係 表態 福 喜 黑心 肉 員工 食飯 無 飯 鐘 錢 全部 市民 支持 先 出現 唔好 將 責任 全部 推 俾 無良 商人 無 的 支持 點會 成功 一句 哂 新 一年 表態 消費 做 起\n",
            "Token IDs: tensor([ 101,  100,  100,  100,  100,  100,  100,  100,  100,  100,  100,  100,\n",
            "        1873, 1756,  100,  100, 1919,  100,  100,  100,  100,  100,  100,  100,\n",
            "         100, 1829,  100,  100,  100,  100, 1751,  100,  100,  100,  100, 1756,\n",
            "         100,  100,  100, 1756,  100,  100, 1916,  100,  100,  100,  100,  100,\n",
            "         100, 1926,  100,  100, 1849,  100,  100,  100, 1978,  100,  100,  100,\n",
            "         100,  100,  100,  102])\n",
            "torch.Size([6089])\n"
          ]
        }
      ],
      "source": [
        "# Tokenize all of the sentences and map the tokens to thier word IDs.\n",
        "# Convert the labels to a NumPy array\n",
        "\n",
        "labels_array = df.Category[1:].values.astype(float)\n",
        "\n",
        "# Convert the NumPy array to a tensor\n",
        "#labels = torch.tensor(labels_array)\n",
        "labels = torch.tensor(labels_array, dtype=torch.long)\n",
        "\n",
        "\n",
        "input_ids = []\n",
        "attention_masks = []\n",
        "labels_list = []\n",
        "\n",
        "# For every sentence...\n",
        "for sent in sentences:\n",
        "    # `encode_plus` will:\n",
        "    #   (1) Tokenize the sentence.\n",
        "    #   (2) Prepend the `[CLS]` token to the start.\n",
        "    #   (3) Append the `[SEP]` token to the end.\n",
        "    #   (4) Map tokens to their IDs.\n",
        "    #   (5) Pad or truncate the sentence to `max_length`\n",
        "    #   (6) Create attention masks for [PAD] tokens.\n",
        "    encoded_dict = tokenizer.encode_plus(\n",
        "                        sent,                      # Sentence to encode.\n",
        "                        add_special_tokens = True, # Add '[CLS]' and '[SEP]'\n",
        "                        max_length = 64,           # Pad & truncate all sentences.\n",
        "\n",
        "                        padding='max_length',  # Use the new padding argument\n",
        "                        truncation=True,  # Explicitly activate truncation\n",
        "                        #pad_to_max_length = True,\n",
        "                        return_attention_mask = True,   # Construct attn. masks.\n",
        "                        return_tensors = 'pt',     # Return pytorch tensors.\n",
        "                   )\n",
        "\n",
        "    # Add the encoded sentence to the list.\n",
        "    input_ids.append(encoded_dict['input_ids'])\n",
        "\n",
        "    # And its attention mask (simply differentiates padding from non-padding).\n",
        "    attention_masks.append(encoded_dict['attention_mask'])\n",
        "\n",
        "    #labels_list.append(label)\n",
        "\n",
        "# Convert the lists into tensors.\n",
        "input_ids = torch.cat(input_ids, dim=0)\n",
        "attention_masks = torch.cat(attention_masks, dim=0)\n",
        "\n",
        "#labels = torch.tensor(labels)\n",
        "#labels = torch.tensor(labels, dtype=torch.long)\n",
        "# Convert the labels array to a list\n",
        "#labels = torch.cat(labels_list, dim=0)\n",
        "#labels = torch.tensor(labels_list)\n",
        "#labels = torch.tensor(labels).clone().detach()\n",
        "\n",
        "\n",
        "\n",
        "# 將 labels 的大小從 (6089,) 擴展為 (6089, 1)\n",
        "#labels = labels.unsqueeze(1)\n",
        "\n",
        "# 使用 expand 將 labels 的大小擴展為 (6089, 256)\n",
        "#labels = labels.expand(-1, 256)\n",
        "\n",
        "\n",
        "\n",
        "print('Original: ', sentences[2])\n",
        "print('Token IDs:', input_ids[2])\n",
        "print(labels.shape)"
      ]
    },
    {
      "cell_type": "code",
      "execution_count": 18,
      "metadata": {
        "id": "Mqo9PbIWOIQX",
        "colab": {
          "base_uri": "https://localhost:8080/"
        },
        "outputId": "b8f0323f-0945-419f-b600-e66ff0cb48da"
      },
      "outputs": [
        {
          "output_type": "stream",
          "name": "stdout",
          "text": [
            "torch.Size([6089, 64])\n",
            "torch.Size([6089, 64])\n",
            "torch.Size([6089])\n"
          ]
        }
      ],
      "source": [
        "print(input_ids.size())\n",
        "print(attention_masks.size())\n",
        "print(labels.size())\n"
      ]
    },
    {
      "cell_type": "code",
      "execution_count": 19,
      "metadata": {
        "id": "qXkGLQV8Q4Oo"
      },
      "outputs": [],
      "source": [
        "########## if run this step the size become （6089，） dont run！！\n",
        "\n",
        "#labels_array = df.Category[1:].values.astype(float)\n",
        "\n",
        "# Convert the NumPy array to a tensor\n",
        "#labels = torch.tensor(labels_array)\n",
        "#print(labels.size())"
      ]
    },
    {
      "cell_type": "code",
      "execution_count": 20,
      "metadata": {
        "id": "bahVORyrijCT",
        "colab": {
          "base_uri": "https://localhost:8080/"
        },
        "outputId": "25844e5c-8903-4826-80a1-14703713d446"
      },
      "outputs": [
        {
          "output_type": "stream",
          "name": "stdout",
          "text": [
            "5,480 training samples\n",
            "  609 validation samples\n"
          ]
        }
      ],
      "source": [
        "from torch.utils.data import TensorDataset, random_split\n",
        "\n",
        "\n",
        "#labels = df['Category'][1:].astype(float).astype(int).values\n",
        "#labels = df['Category'][1:].astype(int).values\n",
        "#labels = torch.tensor(labels).long()\n",
        "# 将标签转换为整数类型\n",
        "#labels = labels.long()\n",
        "# 将标签转换为整数类型\n",
        "#labels = torch.tensor(df['Category'][1:].values).long()\n",
        "\n",
        "# Combine the training inputs into a TensorDataset.\n",
        "dataset = TensorDataset(input_ids, attention_masks, labels)\n",
        "\n",
        "# Create a 90-10 train-validation split.\n",
        "\n",
        "# Calculate the number of samples to include in each set.\n",
        "train_size = int(0.9 * len(dataset))\n",
        "val_size = len(dataset) - train_size\n",
        "\n",
        "# Divide the dataset by randomly selecting samples.\n",
        "train_dataset, val_dataset = random_split(dataset, [train_size, val_size])\n",
        "\n",
        "print('{:>5,} training samples'.format(train_size))\n",
        "print('{:>5,} validation samples'.format(val_size))"
      ]
    },
    {
      "cell_type": "code",
      "execution_count": 21,
      "metadata": {
        "id": "k53XkpGFjTfR",
        "colab": {
          "base_uri": "https://localhost:8080/"
        },
        "outputId": "6f9adfe8-d620-49fc-c9b9-228ac0cc4aeb"
      },
      "outputs": [
        {
          "output_type": "stream",
          "name": "stdout",
          "text": [
            "tensor([ 4,  5,  6,  7,  8,  9, 10, 11, 12, 13, 14, 15, 16, 17, 18, 19, 20, 21,\n",
            "        22, 23, 24, 25, 26, 27, 28, 30, 31, 32, 33, 34, 35, 36, 37, 38, 39, 40,\n",
            "        41])\n"
          ]
        }
      ],
      "source": [
        "import torch\n",
        "\n",
        "# 检查标签中的不同类别值\n",
        "unique_labels = torch.unique(labels)\n",
        "print(unique_labels)"
      ]
    },
    {
      "cell_type": "code",
      "execution_count": 22,
      "metadata": {
        "id": "WCvrMQ78SYsP"
      },
      "outputs": [],
      "source": [
        "from torch.utils.data import DataLoader, RandomSampler, SequentialSampler\n",
        "\n",
        "# The DataLoader needs to know our batch size for training, so we specify it\n",
        "# here. For fine-tuning BERT on a specific task, the authors recommend a batch\n",
        "# size of 16 or 32.\n",
        "batch_size = 16\n",
        "\n",
        "# Create the DataLoaders for our training and validation sets.\n",
        "# We'll take training samples in random order.\n",
        "train_dataloader = DataLoader(\n",
        "            train_dataset,  # The training samples.\n",
        "            sampler = RandomSampler(train_dataset), # Select batches randomly\n",
        "            batch_size = batch_size # Trains with this batch size.\n",
        "        )\n",
        "\n",
        "# For validation the order doesn't matter, so we'll just read them sequentially.\n",
        "validation_dataloader = DataLoader(\n",
        "            val_dataset, # The validation samples.\n",
        "            sampler = SequentialSampler(val_dataset), # Pull out batches sequentially.\n",
        "            batch_size = batch_size # Evaluate with this batch size.\n",
        "        )"
      ]
    },
    {
      "cell_type": "code",
      "execution_count": 23,
      "metadata": {
        "id": "RGPI2Bv_Sdhm"
      },
      "outputs": [],
      "source": [
        "### 4. Train Our Classification Model"
      ]
    },
    {
      "cell_type": "code",
      "execution_count": 24,
      "metadata": {
        "id": "uoNfNu22VhJd",
        "colab": {
          "base_uri": "https://localhost:8080/"
        },
        "outputId": "38ce0daf-d076-4f6b-c8ed-7439488a3bfb"
      },
      "outputs": [
        {
          "output_type": "stream",
          "name": "stdout",
          "text": [
            "37\n"
          ]
        }
      ],
      "source": [
        "import pandas as pd\n",
        "\n",
        "\n",
        "unique_classes = df['Category'][1:].nunique()\n",
        "\n",
        "print(unique_classes)  # 輸出不同分類的數量"
      ]
    },
    {
      "cell_type": "code",
      "execution_count": 25,
      "metadata": {
        "id": "IdiEO9O-ShkJ",
        "colab": {
          "base_uri": "https://localhost:8080/"
        },
        "outputId": "e5966964-5ef4-4b34-9bad-abb54edc87e1"
      },
      "outputs": [
        {
          "output_type": "stream",
          "name": "stderr",
          "text": [
            "Some weights of BertForSequenceClassification were not initialized from the model checkpoint at bert-base-uncased and are newly initialized: ['classifier.bias', 'classifier.weight']\n",
            "You should probably TRAIN this model on a down-stream task to be able to use it for predictions and inference.\n"
          ]
        }
      ],
      "source": [
        "from transformers import BertForSequenceClassification, AdamW, BertConfig\n",
        "\n",
        "# Load BertForSequenceClassification, the pretrained BERT model with a single\n",
        "# linear classification layer on top.\n",
        "model = BertForSequenceClassification.from_pretrained(\n",
        "    \"bert-base-uncased\", # Use the 12-layer BERT model, with an uncased vocab.\n",
        "    num_labels = 41, # The number of output labels--2 for binary classification.\n",
        "                    # You can increase this for multi-class tasks.\n",
        "    output_attentions = False, # Whether the model returns attentions weights.\n",
        "    output_hidden_states = False, # Whether the model returns all hidden-states.\n",
        ")\n",
        "\n",
        "# Tell pytorch to run this model on the GPU.\n",
        "\n",
        "#model.cuda()"
      ]
    },
    {
      "cell_type": "code",
      "execution_count": 26,
      "metadata": {
        "id": "xuGCiNMMWSDx",
        "colab": {
          "base_uri": "https://localhost:8080/"
        },
        "outputId": "d9abe712-cd2c-4898-c4b9-13573a71d9f4"
      },
      "outputs": [
        {
          "output_type": "stream",
          "name": "stdout",
          "text": [
            "The BERT model has 201 different named parameters.\n",
            "\n",
            "==== Embedding Layer ====\n",
            "\n",
            "bert.embeddings.word_embeddings.weight                  (30522, 768)\n",
            "bert.embeddings.position_embeddings.weight                (512, 768)\n",
            "bert.embeddings.token_type_embeddings.weight                (2, 768)\n",
            "bert.embeddings.LayerNorm.weight                              (768,)\n",
            "bert.embeddings.LayerNorm.bias                                (768,)\n",
            "\n",
            "==== First Transformer ====\n",
            "\n",
            "bert.encoder.layer.0.attention.self.query.weight          (768, 768)\n",
            "bert.encoder.layer.0.attention.self.query.bias                (768,)\n",
            "bert.encoder.layer.0.attention.self.key.weight            (768, 768)\n",
            "bert.encoder.layer.0.attention.self.key.bias                  (768,)\n",
            "bert.encoder.layer.0.attention.self.value.weight          (768, 768)\n",
            "bert.encoder.layer.0.attention.self.value.bias                (768,)\n",
            "bert.encoder.layer.0.attention.output.dense.weight        (768, 768)\n",
            "bert.encoder.layer.0.attention.output.dense.bias              (768,)\n",
            "bert.encoder.layer.0.attention.output.LayerNorm.weight        (768,)\n",
            "bert.encoder.layer.0.attention.output.LayerNorm.bias          (768,)\n",
            "bert.encoder.layer.0.intermediate.dense.weight           (3072, 768)\n",
            "bert.encoder.layer.0.intermediate.dense.bias                 (3072,)\n",
            "bert.encoder.layer.0.output.dense.weight                 (768, 3072)\n",
            "bert.encoder.layer.0.output.dense.bias                        (768,)\n",
            "bert.encoder.layer.0.output.LayerNorm.weight                  (768,)\n",
            "bert.encoder.layer.0.output.LayerNorm.bias                    (768,)\n",
            "\n",
            "==== Output Layer ====\n",
            "\n",
            "bert.pooler.dense.weight                                  (768, 768)\n",
            "bert.pooler.dense.bias                                        (768,)\n",
            "classifier.weight                                          (41, 768)\n",
            "classifier.bias                                                (41,)\n"
          ]
        }
      ],
      "source": [
        "# Get all of the model's parameters as a list of tuples.\n",
        "params = list(model.named_parameters())\n",
        "\n",
        "print('The BERT model has {:} different named parameters.\\n'.format(len(params)))\n",
        "\n",
        "print('==== Embedding Layer ====\\n')\n",
        "\n",
        "for p in params[0:5]:\n",
        "    print(\"{:<55} {:>12}\".format(p[0], str(tuple(p[1].size()))))\n",
        "\n",
        "print('\\n==== First Transformer ====\\n')\n",
        "\n",
        "for p in params[5:21]:\n",
        "    print(\"{:<55} {:>12}\".format(p[0], str(tuple(p[1].size()))))\n",
        "\n",
        "print('\\n==== Output Layer ====\\n')\n",
        "\n",
        "for p in params[-4:]:\n",
        "    print(\"{:<55} {:>12}\".format(p[0], str(tuple(p[1].size()))))"
      ]
    },
    {
      "cell_type": "code",
      "execution_count": 27,
      "metadata": {
        "id": "E2i3z5-xWsfs",
        "colab": {
          "base_uri": "https://localhost:8080/"
        },
        "outputId": "61e1a40e-c7c0-413b-fcec-d861139e58a5"
      },
      "outputs": [
        {
          "output_type": "stream",
          "name": "stderr",
          "text": [
            "/usr/local/lib/python3.10/dist-packages/transformers/optimization.py:429: FutureWarning: This implementation of AdamW is deprecated and will be removed in a future version. Use the PyTorch implementation torch.optim.AdamW instead, or set `no_deprecation_warning=True` to disable this warning\n",
            "  warnings.warn(\n"
          ]
        }
      ],
      "source": [
        "# Note: AdamW is a class from the huggingface library (as opposed to pytorch)\n",
        "# I believe the 'W' stands for 'Weight Decay fix\"\n",
        "optimizer = AdamW(model.parameters(),\n",
        "                  lr = 2e-5, # args.learning_rate - default is 5e-5, our notebook had 2e-5\n",
        "                  eps = 1e-8 # args.adam_epsilon  - default is 1e-8.\n",
        "                )\n"
      ]
    },
    {
      "cell_type": "code",
      "execution_count": 28,
      "metadata": {
        "id": "Jq8KTv99W4sO"
      },
      "outputs": [],
      "source": [
        "optimizer = torch.optim.AdamW(model.parameters(),\n",
        "                  lr = 2e-5, # args.learning_rate - default is 5e-5, our notebook had 2e-5\n",
        "                  eps = 1e-8 # args.adam_epsilon  - default is 1e-8.\n",
        "                )"
      ]
    },
    {
      "cell_type": "code",
      "execution_count": 29,
      "metadata": {
        "id": "A0z2WMekXI6g"
      },
      "outputs": [],
      "source": [
        "from transformers import get_linear_schedule_with_warmup\n",
        "\n",
        "# Number of training epochs. The BERT authors recommend between 2 and 4.\n",
        "# We chose to run for 4, but we'll see later that this may be over-fitting the\n",
        "# training data.\n",
        "epochs = 4\n",
        "\n",
        "# Total number of training steps is [number of batches] x [number of epochs].\n",
        "# (Note that this is not the same as the number of training samples).\n",
        "total_steps = len(train_dataloader) * epochs\n",
        "\n",
        "# Create the learning rate scheduler.\n",
        "scheduler = get_linear_schedule_with_warmup(optimizer,\n",
        "                                            num_warmup_steps = 0, # Default value in run_glue.py\n",
        "                                            num_training_steps = total_steps)"
      ]
    },
    {
      "cell_type": "code",
      "execution_count": 30,
      "metadata": {
        "id": "wVy7NzjDXq9U"
      },
      "outputs": [],
      "source": [
        "import numpy as np\n",
        "\n",
        "# Function to calculate the accuracy of our predictions vs labels\n",
        "def flat_accuracy(preds, labels):\n",
        "    pred_flat = np.argmax(preds, axis=1).flatten()\n",
        "    labels_flat = labels.flatten()\n",
        "    return np.sum(pred_flat == labels_flat) / len(labels_flat)"
      ]
    },
    {
      "cell_type": "code",
      "execution_count": 31,
      "metadata": {
        "id": "1b9UiweLYuae"
      },
      "outputs": [],
      "source": [
        "import time\n",
        "import datetime\n",
        "\n",
        "def format_time(elapsed):\n",
        "    '''\n",
        "    Takes a time in seconds and returns a string hh:mm:ss\n",
        "    '''\n",
        "    # Round to the nearest second.\n",
        "    elapsed_rounded = int(round((elapsed)))\n",
        "\n",
        "    # Format as hh:mm:ss\n",
        "    return str(datetime.timedelta(seconds=elapsed_rounded))"
      ]
    },
    {
      "cell_type": "code",
      "execution_count": 32,
      "metadata": {
        "id": "oXeEO4bwY432",
        "colab": {
          "base_uri": "https://localhost:8080/"
        },
        "outputId": "3baf8021-a349-4d44-cefc-b4fa51cd5455"
      },
      "outputs": [
        {
          "output_type": "stream",
          "name": "stdout",
          "text": [
            "\n",
            "======== Epoch 1 / 4 ========\n",
            "Training...\n",
            "  Batch    40  of    343.    Elapsed: 0:06:19.\n",
            "  Batch    80  of    343.    Elapsed: 0:12:32.\n",
            "  Batch   120  of    343.    Elapsed: 0:18:46.\n",
            "  Batch   160  of    343.    Elapsed: 0:24:58.\n",
            "  Batch   200  of    343.    Elapsed: 0:32:13.\n",
            "  Batch   240  of    343.    Elapsed: 0:38:45.\n",
            "  Batch   280  of    343.    Elapsed: 0:45:10.\n",
            "  Batch   320  of    343.    Elapsed: 0:51:22.\n",
            "\n",
            "  Average training loss: 2.97\n",
            "  Training epcoh took: 0:54:52\n",
            "\n",
            "Running Validation...\n",
            "  Accuracy: 0.01\n",
            "  Validation Loss: 2.79\n",
            "  Validation took: 0:01:47\n",
            "\n",
            "======== Epoch 2 / 4 ========\n",
            "Training...\n",
            "  Batch    40  of    343.    Elapsed: 0:06:11.\n",
            "  Batch    80  of    343.    Elapsed: 0:12:23.\n",
            "  Batch   120  of    343.    Elapsed: 0:18:37.\n",
            "  Batch   160  of    343.    Elapsed: 0:24:49.\n",
            "  Batch   200  of    343.    Elapsed: 0:31:01.\n",
            "  Batch   240  of    343.    Elapsed: 0:37:39.\n",
            "  Batch   280  of    343.    Elapsed: 0:43:56.\n",
            "  Batch   320  of    343.    Elapsed: 0:50:09.\n",
            "\n",
            "  Average training loss: 2.72\n",
            "  Training epcoh took: 0:53:40\n",
            "\n",
            "Running Validation...\n",
            "  Accuracy: 0.02\n",
            "  Validation Loss: 2.70\n",
            "  Validation took: 0:01:47\n",
            "\n",
            "======== Epoch 3 / 4 ========\n",
            "Training...\n",
            "  Batch    40  of    343.    Elapsed: 0:06:13.\n",
            "  Batch    80  of    343.    Elapsed: 0:12:25.\n",
            "  Batch   120  of    343.    Elapsed: 0:18:37.\n",
            "  Batch   160  of    343.    Elapsed: 0:24:50.\n",
            "  Batch   200  of    343.    Elapsed: 0:31:06.\n",
            "  Batch   240  of    343.    Elapsed: 0:37:20.\n",
            "  Batch   280  of    343.    Elapsed: 0:43:33.\n",
            "  Batch   320  of    343.    Elapsed: 0:49:45.\n",
            "\n",
            "  Average training loss: 2.57\n",
            "  Training epcoh took: 0:53:16\n",
            "\n",
            "Running Validation...\n",
            "  Accuracy: 0.03\n",
            "  Validation Loss: 2.61\n",
            "  Validation took: 0:01:48\n",
            "\n",
            "======== Epoch 4 / 4 ========\n",
            "Training...\n",
            "  Batch    40  of    343.    Elapsed: 0:06:14.\n",
            "  Batch    80  of    343.    Elapsed: 0:12:26.\n",
            "  Batch   120  of    343.    Elapsed: 0:18:38.\n",
            "  Batch   160  of    343.    Elapsed: 0:24:50.\n",
            "  Batch   200  of    343.    Elapsed: 0:31:15.\n",
            "  Batch   240  of    343.    Elapsed: 0:37:46.\n",
            "  Batch   280  of    343.    Elapsed: 0:44:18.\n",
            "  Batch   320  of    343.    Elapsed: 0:50:51.\n",
            "\n",
            "  Average training loss: 2.49\n",
            "  Training epcoh took: 0:54:40\n",
            "\n",
            "Running Validation...\n",
            "  Accuracy: 0.02\n",
            "  Validation Loss: 2.59\n",
            "  Validation took: 0:01:58\n",
            "\n",
            "Training complete!\n",
            "Total training took 3:43:47 (h:mm:ss)\n"
          ]
        }
      ],
      "source": [
        "import random\n",
        "import numpy as np\n",
        "\n",
        "# This training code is based on the `run_glue.py` script here:\n",
        "# https://github.com/huggingface/transformers/blob/5bfcd0485ece086ebcbed2d008813037968a9e58/examples/run_glue.py#L128\n",
        "\n",
        "\n",
        "# Set the seed value all over the place to make this reproducible.\n",
        "seed_val = 42\n",
        "\n",
        "random.seed(seed_val)\n",
        "np.random.seed(seed_val)\n",
        "torch.manual_seed(seed_val)\n",
        "torch.cuda.manual_seed_all(seed_val)\n",
        "\n",
        "# We'll store a number of quantities such as training and validation loss,\n",
        "# validation accuracy, and timings.\n",
        "training_stats = []\n",
        "\n",
        "# Measure the total training time for the whole run.\n",
        "total_t0 = time.time()\n",
        "\n",
        "\n",
        "\n",
        "\n",
        "# For each epoch...\n",
        "for epoch_i in range(0, epochs):\n",
        "\n",
        "    # ========================================\n",
        "    #               Training\n",
        "    # ========================================\n",
        "\n",
        "    # Perform one full pass over the training set.\n",
        "\n",
        "    print(\"\")\n",
        "    print('======== Epoch {:} / {:} ========'.format(epoch_i + 1, epochs))\n",
        "    print('Training...')\n",
        "\n",
        "    # Measure how long the training epoch takes.\n",
        "    t0 = time.time()\n",
        "\n",
        "    # Reset the total loss for this epoch.\n",
        "    total_train_loss = 0\n",
        "\n",
        "\n",
        "\n",
        "    # Put the model into training mode. Don't be mislead--the call to\n",
        "    # `train` just changes the *mode*, it doesn't *perform* the training.\n",
        "    # `dropout` and `batchnorm` layers behave differently during training\n",
        "    # vs. test (source: https://stackoverflow.com/questions/51433378/what-does-model-train-do-in-pytorch)\n",
        "    model.train()\n",
        "\n",
        "    #train_dataloader = DataLoader(train_dataset, batch_size=32, shuffle=True)\n",
        "\n",
        "    # For each batch of training data...\n",
        "    for step, batch in enumerate(train_dataloader):\n",
        "\n",
        "        # Progress update every 40 batches.\n",
        "        if step % 40 == 0 and not step == 0:\n",
        "            # Calculate elapsed time in minutes.\n",
        "            elapsed = format_time(time.time() - t0)\n",
        "\n",
        "            # Report progress.\n",
        "            print('  Batch {:>5,}  of  {:>5,}.    Elapsed: {:}.'.format(step, len(train_dataloader), elapsed))\n",
        "\n",
        "        # Unpack this training batch from our dataloader.\n",
        "        #\n",
        "        # As we unpack the batch, we'll also copy each tensor to the GPU using the\n",
        "        # `to` method.\n",
        "        #\n",
        "        # `batch` contains three pytorch tensors:\n",
        "        #   [0]: input ids\n",
        "        #   [1]: attention masks\n",
        "        #   [2]: labels\n",
        "        b_input_ids = batch[0].to(device)\n",
        "        b_input_mask = batch[1].to(device)\n",
        "        b_labels = batch[2].to(device)\n",
        "        #b_labels = b_labels.float()\n",
        "        # Always clear any previously calculated gradients before performing a\n",
        "        # backward pass. PyTorch doesn't do this automatically because\n",
        "        # accumulating the gradients is \"convenient while training RNNs\".\n",
        "        # (source: https://stackoverflow.com/questions/48001598/why-do-we-need-to-call-zero-grad-in-pytorch)\n",
        "        model.zero_grad()\n",
        "\n",
        "        # Perform a forward pass (evaluate the model on this training batch).\n",
        "        # The documentation for this `model` function is here:\n",
        "        # https://huggingface.co/transformers/v2.2.0/model_doc/bert.html#transformers.BertForSequenceClassification\n",
        "        # It returns different numbers of parameters depending on what arguments\n",
        "        # arge given and what flags are set. For our useage here, it returns\n",
        "        # the loss (because we provided labels) and the \"logits\"--the model\n",
        "        # outputs prior to activation.\n",
        "\n",
        "        #b_labels = b_labels.float()\n",
        "\n",
        "        loss, logits = model(b_input_ids,\n",
        "                             token_type_ids=None,\n",
        "                             attention_mask=b_input_mask,\n",
        "                             labels=b_labels - 1\n",
        "                             ).to_tuple()\n",
        "\n",
        "        # Accumulate the training loss over all of the batches so that we can\n",
        "        # calculate the average loss at the end. `loss` is a Tensor containing a\n",
        "        # single value; the `.item()` function just returns the Python value\n",
        "        # from the tensor.\n",
        "        total_train_loss += loss.item()\n",
        "\n",
        "        # Perform a backward pass to calculate the gradients.\n",
        "        loss.backward()\n",
        "\n",
        "        # Clip the norm of the gradients to 1.0.\n",
        "        # This is to help prevent the \"exploding gradients\" problem.\n",
        "        torch.nn.utils.clip_grad_norm_(model.parameters(), 1.0)\n",
        "\n",
        "        # Update parameters and take a step using the computed gradient.\n",
        "        # The optimizer dictates the \"update rule\"--how the parameters are\n",
        "        # modified based on their gradients, the learning rate, etc.\n",
        "        optimizer.step()\n",
        "\n",
        "        # Update the learning rate.\n",
        "        scheduler.step()\n",
        "\n",
        "    # Calculate the average loss over all of the batches.\n",
        "    avg_train_loss = total_train_loss / len(train_dataloader)\n",
        "\n",
        "    # Measure how long this epoch took.\n",
        "    training_time = format_time(time.time() - t0)\n",
        "\n",
        "    print(\"\")\n",
        "    print(\"  Average training loss: {0:.2f}\".format(avg_train_loss))\n",
        "    print(\"  Training epcoh took: {:}\".format(training_time))\n",
        "\n",
        "    # ========================================\n",
        "    #               Validation\n",
        "    # ========================================\n",
        "    # After the completion of each training epoch, measure our performance on\n",
        "    # our validation set.\n",
        "\n",
        "    print(\"\")\n",
        "    print(\"Running Validation...\")\n",
        "\n",
        "    t0 = time.time()\n",
        "\n",
        "    # Put the model in evaluation mode--the dropout layers behave differently\n",
        "    # during evaluation.\n",
        "    model.eval()\n",
        "\n",
        "    # Tracking variables\n",
        "    total_eval_accuracy = 0\n",
        "    total_eval_loss = 0\n",
        "    nb_eval_steps = 0\n",
        "\n",
        "    # Evaluate data for one epoch\n",
        "    for batch in validation_dataloader:\n",
        "\n",
        "        # Unpack this training batch from our dataloader.\n",
        "        #\n",
        "        # As we unpack the batch, we'll also copy each tensor to the GPU using\n",
        "        # the `to` method.\n",
        "        #\n",
        "        # `batch` contains three pytorch tensors:\n",
        "        #   [0]: input ids\n",
        "        #   [1]: attention masks\n",
        "        #   [2]: labels\n",
        "        b_input_ids = batch[0].to(device)\n",
        "        b_input_mask = batch[1].to(device)\n",
        "        b_labels = batch[2].to(device)\n",
        "\n",
        "\n",
        "        # Tell pytorch not to bother with constructing the compute graph during\n",
        "        # the forward pass, since this is only needed for backprop (training).\n",
        "        with torch.no_grad():\n",
        "\n",
        "            # Forward pass, calculate logit predictions.\n",
        "            # token_type_ids is the same as the \"segment ids\", which\n",
        "            # differentiates sentence 1 and 2 in 2-sentence tasks.\n",
        "            # The documentation for this `model` function is here:\n",
        "            # https://huggingface.co/transformers/v2.2.0/model_doc/bert.html#transformers.BertForSequenceClassification\n",
        "            # Get the \"logits\" output by the model. The \"logits\" are the output\n",
        "            # values prior to applying an activation function like the softmax.\n",
        "            (loss, logits) = model(b_input_ids,\n",
        "                                   token_type_ids=None,\n",
        "                                   attention_mask=b_input_mask,\n",
        "                                   labels=b_labels -1).to_tuple()\n",
        "\n",
        "        # Accumulate the validation loss.\n",
        "        total_eval_loss += loss.item()\n",
        "\n",
        "        # Move logits and labels to CPU\n",
        "        logits = logits.detach().cpu().numpy()\n",
        "        label_ids = b_labels.to('cpu').numpy()\n",
        "\n",
        "        # Calculate the accuracy for this batch of test sentences, and\n",
        "        # accumulate it over all batches.\n",
        "        total_eval_accuracy += flat_accuracy(logits, label_ids)\n",
        "\n",
        "\n",
        "    # Report the final accuracy for this validation run.\n",
        "    avg_val_accuracy = total_eval_accuracy / len(validation_dataloader)\n",
        "    print(\"  Accuracy: {0:.2f}\".format(avg_val_accuracy))\n",
        "\n",
        "    # Calculate the average loss over all of the batches.\n",
        "    avg_val_loss = total_eval_loss / len(validation_dataloader)\n",
        "\n",
        "    # Measure how long the validation run took.\n",
        "    validation_time = format_time(time.time() - t0)\n",
        "\n",
        "    print(\"  Validation Loss: {0:.2f}\".format(avg_val_loss))\n",
        "    print(\"  Validation took: {:}\".format(validation_time))\n",
        "\n",
        "    # Record all statistics from this epoch.\n",
        "    training_stats.append(\n",
        "        {\n",
        "            'epoch': epoch_i + 1,\n",
        "            'Training Loss': avg_train_loss,\n",
        "            'Valid. Loss': avg_val_loss,\n",
        "            'Valid. Accur.': avg_val_accuracy,\n",
        "            'Training Time': training_time,\n",
        "            'Validation Time': validation_time\n",
        "        }\n",
        "    )\n",
        "\n",
        "print(\"\")\n",
        "print(\"Training complete!\")\n",
        "\n",
        "print(\"Total training took {:} (h:mm:ss)\".format(format_time(time.time()-total_t0)))"
      ]
    },
    {
      "cell_type": "code",
      "source": [
        "import os\n",
        "\n",
        "# Saving best-practices: if you use defaults names for the model, you can reload it using from_pretrained()\n",
        "\n",
        "output_dir = './model_save/'\n",
        "\n",
        "# Create output directory if needed\n",
        "if not os.path.exists(output_dir):\n",
        "    os.makedirs(output_dir)\n",
        "\n",
        "print(\"Saving model to %s\" % output_dir)\n",
        "\n",
        "# Save a trained model, configuration and tokenizer using `save_pretrained()`.\n",
        "# They can then be reloaded using `from_pretrained()`\n",
        "model_to_save = model.module if hasattr(model, 'module') else model  # Take care of distributed/parallel training\n",
        "model_to_save.save_pretrained(output_dir)\n",
        "tokenizer.save_pretrained(output_dir)\n",
        "\n",
        "# Good practice: save your training arguments together with the trained model\n",
        "# torch.save(args, os.path.join(output_dir, 'training_args.bin'))"
      ],
      "metadata": {
        "id": "DAdPyD7qf5Ls"
      },
      "execution_count": null,
      "outputs": []
    },
    {
      "cell_type": "code",
      "source": [
        "# 保存模型参数\n",
        "#torch.save(model.state_dict(), '/sample_data/BERT.pth')"
      ],
      "metadata": {
        "id": "HrOfEbYpdok7"
      },
      "execution_count": null,
      "outputs": []
    },
    {
      "cell_type": "code",
      "source": [
        "#model.load_state_dict(torch.load('BERT.pth'))"
      ],
      "metadata": {
        "id": "T0Ic11rNduWx"
      },
      "execution_count": null,
      "outputs": []
    }
  ],
  "metadata": {
    "colab": {
      "provenance": []
    },
    "kernelspec": {
      "display_name": "Python 3",
      "name": "python3"
    },
    "language_info": {
      "name": "python"
    }
  },
  "nbformat": 4,
  "nbformat_minor": 0
}