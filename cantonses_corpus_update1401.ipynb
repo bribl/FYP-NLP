{
 "cells": [
  {
   "cell_type": "code",
   "execution_count": 2,
   "id": "aca77419-f3ed-4ee3-b632-3c0604ef5d26",
   "metadata": {},
   "outputs": [
    {
     "data": {
      "text/plain": [
       "1949095"
      ]
     },
     "execution_count": 2,
     "metadata": {},
     "output_type": "execute_result"
    }
   ],
   "source": [
    "# Accessing the Yip-Matthews CantoneseEnglish bilingual corpus (Yip and Matthews, 2007)\n",
    ">>> import pycantonese\n",
    ">>> url = (\n",
    "... \"https://childes.talkbank.org/\"\n",
    "... \"data/Biling/YipMatthews.zip\"\n",
    "... )\n",
    ">>> corpus = pycantonese.read_chat(url)\n",
    ">>> corpus.n_files()\n",
    "501\n",
    ">>> len(corpus.words())"
   ]
  },
  {
   "cell_type": "code",
   "execution_count": 5,
   "id": "2c8b175d-796d-4046-b811-c37798e1a288",
   "metadata": {},
   "outputs": [
    {
     "data": {
      "text/plain": [
       "3306"
      ]
     },
     "execution_count": 5,
     "metadata": {},
     "output_type": "execute_result"
    }
   ],
   "source": [
    "#Searching for occurrences of pinjam “changed tones” with coda -p, -t, and -k in HKCanCor,“changed tones” with coda -p, -t, and -k in HKCanCor\n",
    ">>> import pycantonese\n",
    ">>> corpus = pycantonese.hkcancor()\n",
    ">>> result = corpus.search(coda=\"[ptk]\", tone =\"6\")\n",
    ">>> len(result)"
   ]
  },
  {
   "cell_type": "code",
   "execution_count": 6,
   "id": "6e4b5233-71cd-4884-b3d9-b176f8f30509",
   "metadata": {},
   "outputs": [
    {
     "data": {
      "text/plain": [
       "[Token(word='迪士尼', pos='NT', jyutping='dik6si6nei4', mor=None, gloss=None, gra=None),\n",
       " Token(word='直程', pos='D', jyutping='zik6cing4', mor=None, gloss=None, gra=None),\n",
       " Token(word='日', pos='Q', jyutping='jat6', mor=None, gloss=None, gra=None),\n",
       " Token(word='食', pos='V', jyutping='sik6', mor=None, gloss=None, gra=None),\n",
       " Token(word='食', pos='V', jyutping='sik6', mor=None, gloss=None, gra=None),\n",
       " Token(word='食', pos='V', jyutping='sik6', mor=None, gloss=None, gra=None),\n",
       " Token(word='日', pos='Q', jyutping='jat6', mor=None, gloss=None, gra=None),\n",
       " Token(word='日', pos='Q', jyutping='jat6', mor=None, gloss=None, gra=None),\n",
       " Token(word='日', pos='Q', jyutping='jat6', mor=None, gloss=None, gra=None),\n",
       " Token(word='直程', pos='D', jyutping='zik6cing4', mor=None, gloss=None, gra=None),\n",
       " Token(word='直程', pos='D', jyutping='zik6cing4', mor=None, gloss=None, gra=None),\n",
       " Token(word='譯', pos='V', jyutping='jik6', mor=None, gloss=None, gra=None),\n",
       " Token(word='直頭', pos='D', jyutping='zik6tau4', mor=None, gloss=None, gra=None),\n",
       " Token(word='食', pos='V', jyutping='sik6', mor=None, gloss=None, gra=None),\n",
       " Token(word='直頭', pos='D', jyutping='zik6tau4', mor=None, gloss=None, gra=None),\n",
       " Token(word='月份', pos='N', jyutping='jyut6fan6', mor=None, gloss=None, gra=None),\n",
       " Token(word='屬於', pos='V', jyutping='suk6jyu1', mor=None, gloss=None, gra=None),\n",
       " Token(word='屬於', pos='V', jyutping='suk6jyu1', mor=None, gloss=None, gra=None),\n",
       " Token(word='月份', pos='N', jyutping='jyut6fan6', mor=None, gloss=None, gra=None),\n",
       " Token(word='十二月', pos='T', jyutping='sap6ji6jyut6', mor=None, gloss=None, gra=None),\n",
       " Token(word='熱', pos='A', jyutping='jit6', mor=None, gloss=None, gra=None),\n",
       " Token(word='熱', pos='A', jyutping='jit6', mor=None, gloss=None, gra=None),\n",
       " Token(word='十二月', pos='T', jyutping='sap6ji6jyut6', mor=None, gloss=None, gra=None),\n",
       " Token(word='十二月', pos='T', jyutping='sap6ji6jyut6', mor=None, gloss=None, gra=None),\n",
       " Token(word='熱', pos='A', jyutping='jit6', mor=None, gloss=None, gra=None),\n",
       " Token(word='十二月', pos='T', jyutping='sap6ji6jyut6', mor=None, gloss=None, gra=None),\n",
       " Token(word='食', pos='V', jyutping='sik6', mor=None, gloss=None, gra=None),\n",
       " Token(word='食', pos='V', jyutping='sik6', mor=None, gloss=None, gra=None),\n",
       " Token(word='食', pos='V', jyutping='sik6', mor=None, gloss=None, gra=None),\n",
       " Token(word='食', pos='V', jyutping='sik6', mor=None, gloss=None, gra=None),\n",
       " Token(word='落去', pos='V', jyutping='lok6heoi3', mor=None, gloss=None, gra=None),\n",
       " Token(word='食', pos='V', jyutping='sik6', mor=None, gloss=None, gra=None),\n",
       " Token(word='特色', pos='N', jyutping='dak6sik1', mor=None, gloss=None, gra=None),\n",
       " Token(word='特別', pos='D', jyutping='dak6bit6', mor=None, gloss=None, gra=None),\n",
       " Token(word='喀', pos='E', jyutping='haak6', mor=None, gloss=None, gra=None),\n",
       " Token(word='十二', pos='M', jyutping='sap6ji6', mor=None, gloss=None, gra=None),\n",
       " Token(word='十二', pos='M', jyutping='sap6ji6', mor=None, gloss=None, gra=None),\n",
       " Token(word='日本', pos='NS', jyutping='jat6bun2', mor=None, gloss=None, gra=None),\n",
       " Token(word='喀', pos='E', jyutping='haak6', mor=None, gloss=None, gra=None),\n",
       " Token(word='月', pos='N', jyutping='jyut6', mor=None, gloss=None, gra=None),\n",
       " Token(word='六月', pos='T', jyutping='luk6jyut6', mor=None, gloss=None, gra=None),\n",
       " Token(word='十幾號', pos='T', jyutping='sap6gei2hou6', mor=None, gloss=None, gra=None),\n",
       " Token(word='六月', pos='T', jyutping='luk6jyut6', mor=None, gloss=None, gra=None),\n",
       " Token(word='喀', pos='E', jyutping='haak6', mor=None, gloss=None, gra=None),\n",
       " Token(word='喀', pos='E', jyutping='haak6', mor=None, gloss=None, gra=None),\n",
       " Token(word='六月', pos='T', jyutping='luk6jyut6', mor=None, gloss=None, gra=None),\n",
       " Token(word='六月', pos='T', jyutping='luk6jyut6', mor=None, gloss=None, gra=None),\n",
       " Token(word='六', pos='M', jyutping='luk6', mor=None, gloss=None, gra=None),\n",
       " Token(word='十', pos='M', jyutping='sap6', mor=None, gloss=None, gra=None),\n",
       " Token(word='特別', pos='D', jyutping='dak6bit6', mor=None, gloss=None, gra=None)]"
      ]
     },
     "execution_count": 6,
     "metadata": {},
     "output_type": "execute_result"
    }
   ],
   "source": [
    ">>> result[:50]"
   ]
  },
  {
   "cell_type": "code",
   "execution_count": 10,
   "id": "95b0943c-3569-4683-95cf-a85d16a8780d",
   "metadata": {},
   "outputs": [
    {
     "name": "stdout",
     "output_type": "stream",
     "text": [
      "     word pos     jyutping   mor gloss   gra\n",
      "0     迪士尼  NT  dik6si6nei4  None  None  None\n",
      "1      直程   D    zik6cing4  None  None  None\n",
      "2       日   Q         jat6  None  None  None\n",
      "3       食   V         sik6  None  None  None\n",
      "4       食   V         sik6  None  None  None\n",
      "...   ...  ..          ...   ...   ...   ...\n",
      "3301    喀   E        haak6  None  None  None\n",
      "3302    日   Q         jat6  None  None  None\n",
      "3303   或者   C     waak6ze2  None  None  None\n",
      "3304    喀   E        haak6  None  None  None\n",
      "3305   或者   C     waak6ze2  None  None  None\n",
      "\n",
      "[3306 rows x 6 columns]\n"
     ]
    }
   ],
   "source": [
    "import pandas as pd\n",
    "\n",
    "# Convert the search result to a DataFrame\n",
    "df = pd.DataFrame(result)\n",
    "\n",
    "# Display the DataFrame\n",
    "print(df)"
   ]
  },
  {
   "cell_type": "code",
   "execution_count": 11,
   "id": "c1c59c6f-28d4-4aaa-aebe-42f09cd6909d",
   "metadata": {},
   "outputs": [
    {
     "data": {
      "text/html": [
       "<table>  <tr>\n",
       "    <td>*XXA:</td>\n",
       "    <td style=\"text-align: left\">喂</td>\n",
       "    <td style=\"text-align: left\">遲</td>\n",
       "    <td style=\"text-align: left\">啲</td>\n",
       "    <td style=\"text-align: left\">去</td>\n",
       "    <td style=\"text-align: left\">唔</td>\n",
       "    <td style=\"text-align: left\">去</td>\n",
       "    <td style=\"text-align: left\">旅行</td>\n",
       "    <td style=\"text-align: left\">啊</td>\n",
       "    <td style=\"text-align: left\">?</td>\n",
       "  </tr>\n",
       "  <tr>\n",
       "    <td>%mor:</td>\n",
       "    <td style=\"text-align: left\">E|wai3</td>\n",
       "    <td style=\"text-align: left\">A|ci4</td>\n",
       "    <td style=\"text-align: left\">U|di1</td>\n",
       "    <td style=\"text-align: left\">V|heoi3</td>\n",
       "    <td style=\"text-align: left\">D|m4</td>\n",
       "    <td style=\"text-align: left\">V|heoi3</td>\n",
       "    <td style=\"text-align: left\">VN|leoi5hang4</td>\n",
       "    <td style=\"text-align: left\">Y|aa3</td>\n",
       "    <td style=\"text-align: left\">?</td>\n",
       "  </tr>\n",
       "</table>\n",
       "<table>  <tr>\n",
       "    <td>*XXA:</td>\n",
       "    <td style=\"text-align: left\">你</td>\n",
       "    <td style=\"text-align: left\">老公</td>\n",
       "    <td style=\"text-align: left\">有冇</td>\n",
       "    <td style=\"text-align: left\">平</td>\n",
       "    <td style=\"text-align: left\">機票</td>\n",
       "    <td style=\"text-align: left\">啊</td>\n",
       "    <td style=\"text-align: left\">?</td>\n",
       "  </tr>\n",
       "  <tr>\n",
       "    <td>%mor:</td>\n",
       "    <td style=\"text-align: left\">R|nei5</td>\n",
       "    <td style=\"text-align: left\">N|lou5gung1</td>\n",
       "    <td style=\"text-align: left\">V1|jau5mou5</td>\n",
       "    <td style=\"text-align: left\">A|peng4</td>\n",
       "    <td style=\"text-align: left\">N|gei1piu3</td>\n",
       "    <td style=\"text-align: left\">Y|aa3</td>\n",
       "    <td style=\"text-align: left\">?</td>\n",
       "  </tr>\n",
       "</table>\n",
       "<table>  <tr>\n",
       "    <td>*XXB:</td>\n",
       "    <td style=\"text-align: left\">平</td>\n",
       "    <td style=\"text-align: left\">機票</td>\n",
       "    <td style=\"text-align: left\">要</td>\n",
       "    <td style=\"text-align: left\">淡季</td>\n",
       "    <td style=\"text-align: left\">先</td>\n",
       "    <td style=\"text-align: left\">有得</td>\n",
       "    <td style=\"text-align: left\">平</td>\n",
       "    <td style=\"text-align: left\">𡃉</td>\n",
       "    <td style=\"text-align: left\">喎</td>\n",
       "    <td style=\"text-align: left\">.</td>\n",
       "  </tr>\n",
       "  <tr>\n",
       "    <td>%mor:</td>\n",
       "    <td style=\"text-align: left\">A|peng4</td>\n",
       "    <td style=\"text-align: left\">N|gei1piu3</td>\n",
       "    <td style=\"text-align: left\">VU|jiu3</td>\n",
       "    <td style=\"text-align: left\">AN|daam6gwai3</td>\n",
       "    <td style=\"text-align: left\">D|sin1</td>\n",
       "    <td style=\"text-align: left\">VU|jau5dak1</td>\n",
       "    <td style=\"text-align: left\">A|peng4</td>\n",
       "    <td style=\"text-align: left\">Y|gaa3</td>\n",
       "    <td style=\"text-align: left\">Y|wo3</td>\n",
       "    <td style=\"text-align: left\">.</td>\n",
       "  </tr>\n",
       "</table>\n",
       "<table>  <tr>\n",
       "    <td>*XXB:</td>\n",
       "    <td style=\"text-align: left\">而家</td>\n",
       "    <td style=\"text-align: left\">旺</td>\n",
       "    <td style=\"text-align: left\">-</td>\n",
       "    <td style=\"text-align: left\">.</td>\n",
       "  </tr>\n",
       "  <tr>\n",
       "    <td>%mor:</td>\n",
       "    <td style=\"text-align: left\">T|ji4gaa1</td>\n",
       "    <td style=\"text-align: left\">A|wong6</td>\n",
       "    <td style=\"text-align: left\">-|</td>\n",
       "    <td style=\"text-align: left\">.</td>\n",
       "  </tr>\n",
       "</table>\n",
       "<table>  <tr>\n",
       "    <td>*XXA:</td>\n",
       "    <td style=\"text-align: left\">冇得</td>\n",
       "    <td style=\"text-align: left\">去</td>\n",
       "    <td style=\"text-align: left\">嗱</td>\n",
       "    <td style=\"text-align: left\">.</td>\n",
       "  </tr>\n",
       "  <tr>\n",
       "    <td>%mor:</td>\n",
       "    <td style=\"text-align: left\">VU|mou5dak1</td>\n",
       "    <td style=\"text-align: left\">V|heoi3</td>\n",
       "    <td style=\"text-align: left\">Y|laa4</td>\n",
       "    <td style=\"text-align: left\">.</td>\n",
       "  </tr>\n",
       "</table>\n",
       "<table>  <tr>\n",
       "    <td>*XXB:</td>\n",
       "    <td style=\"text-align: left\">吓</td>\n",
       "    <td style=\"text-align: left\">?</td>\n",
       "  </tr>\n",
       "  <tr>\n",
       "    <td>%mor:</td>\n",
       "    <td style=\"text-align: left\">E|haa5</td>\n",
       "    <td style=\"text-align: left\">?</td>\n",
       "  </tr>\n",
       "</table>\n",
       "<table>  <tr>\n",
       "    <td>*XXB:</td>\n",
       "    <td style=\"text-align: left\">而家</td>\n",
       "    <td style=\"text-align: left\">旺季</td>\n",
       "    <td style=\"text-align: left\">.</td>\n",
       "  </tr>\n",
       "  <tr>\n",
       "    <td>%mor:</td>\n",
       "    <td style=\"text-align: left\">T|ji4gaa1</td>\n",
       "    <td style=\"text-align: left\">AN|wong6gwai3</td>\n",
       "    <td style=\"text-align: left\">.</td>\n",
       "  </tr>\n",
       "</table>\n",
       "<table>  <tr>\n",
       "    <td>*XXB:</td>\n",
       "    <td style=\"text-align: left\">通常</td>\n",
       "    <td style=\"text-align: left\">都</td>\n",
       "    <td style=\"text-align: left\">係</td>\n",
       "    <td style=\"text-align: left\">貴</td>\n",
       "    <td style=\"text-align: left\">𡃉</td>\n",
       "    <td style=\"text-align: left\">喎</td>\n",
       "    <td style=\"text-align: left\">,</td>\n",
       "    <td style=\"text-align: left\">啲</td>\n",
       "    <td style=\"text-align: left\">機票</td>\n",
       "    <td style=\"text-align: left\">.</td>\n",
       "  </tr>\n",
       "  <tr>\n",
       "    <td>%mor:</td>\n",
       "    <td style=\"text-align: left\">D|tung1soeng4</td>\n",
       "    <td style=\"text-align: left\">D|dou1</td>\n",
       "    <td style=\"text-align: left\">V|hai6</td>\n",
       "    <td style=\"text-align: left\">A|gwai3</td>\n",
       "    <td style=\"text-align: left\">Y|gaa3</td>\n",
       "    <td style=\"text-align: left\">Y|wo3</td>\n",
       "    <td style=\"text-align: left\">,</td>\n",
       "    <td style=\"text-align: left\">Q|di1</td>\n",
       "    <td style=\"text-align: left\">N|gei1piu3</td>\n",
       "    <td style=\"text-align: left\">.</td>\n",
       "  </tr>\n",
       "</table>\n",
       "<table>  <tr>\n",
       "    <td>*XXA:</td>\n",
       "    <td style=\"text-align: left\">係</td>\n",
       "    <td style=\"text-align: left\">咩</td>\n",
       "    <td style=\"text-align: left\">?</td>\n",
       "  </tr>\n",
       "  <tr>\n",
       "    <td>%mor:</td>\n",
       "    <td style=\"text-align: left\">V|hai6</td>\n",
       "    <td style=\"text-align: left\">Y|me1</td>\n",
       "    <td style=\"text-align: left\">?</td>\n",
       "  </tr>\n",
       "</table>\n",
       "<table>  <tr>\n",
       "    <td>*XXA:</td>\n",
       "    <td style=\"text-align: left\">我</td>\n",
       "    <td style=\"text-align: left\">聽</td>\n",
       "    <td style=\"text-align: left\">朋友</td>\n",
       "    <td style=\"text-align: left\">講</td>\n",
       "    <td style=\"text-align: left\">話</td>\n",
       "    <td style=\"text-align: left\">去</td>\n",
       "    <td style=\"text-align: left\">,</td>\n",
       "    <td style=\"text-align: left\">誒</td>\n",
       "    <td style=\"text-align: left\">,</td>\n",
       "    <td style=\"text-align: left\">Orlando</td>\n",
       "    <td style=\"text-align: left\">嗰個</td>\n",
       "    <td style=\"text-align: left\">舊</td>\n",
       "    <td style=\"text-align: left\">-</td>\n",
       "    <td style=\"text-align: left\">嗰個</td>\n",
       "    <td style=\"text-align: left\">迪士尼</td>\n",
       "    <td style=\"text-align: left\">呢</td>\n",
       "    <td style=\"text-align: left\">,</td>\n",
       "    <td style=\"text-align: left\">廿五</td>\n",
       "    <td style=\"text-align: left\">週年</td>\n",
       "    <td style=\"text-align: left\">喎</td>\n",
       "    <td style=\"text-align: left\">.</td>\n",
       "  </tr>\n",
       "  <tr>\n",
       "    <td>%mor:</td>\n",
       "    <td style=\"text-align: left\">R|ngo5</td>\n",
       "    <td style=\"text-align: left\">V|teng1</td>\n",
       "    <td style=\"text-align: left\">N|pang4jau5</td>\n",
       "    <td style=\"text-align: left\">V|gong2</td>\n",
       "    <td style=\"text-align: left\">V|waa6</td>\n",
       "    <td style=\"text-align: left\">V|heoi3</td>\n",
       "    <td style=\"text-align: left\">,</td>\n",
       "    <td style=\"text-align: left\">E|e6</td>\n",
       "    <td style=\"text-align: left\">,</td>\n",
       "    <td style=\"text-align: left\">XNS|</td>\n",
       "    <td style=\"text-align: left\">R|go2go3</td>\n",
       "    <td style=\"text-align: left\">A|gau6</td>\n",
       "    <td style=\"text-align: left\">-|</td>\n",
       "    <td style=\"text-align: left\">R|go2go3</td>\n",
       "    <td style=\"text-align: left\">NT|dik6si6nei4</td>\n",
       "    <td style=\"text-align: left\">Y1|ne1</td>\n",
       "    <td style=\"text-align: left\">,</td>\n",
       "    <td style=\"text-align: left\">M|jaa6ng5</td>\n",
       "    <td style=\"text-align: left\">Q|zau1nin4</td>\n",
       "    <td style=\"text-align: left\">Y|wo3</td>\n",
       "    <td style=\"text-align: left\">.</td>\n",
       "  </tr>\n",
       "</table>\n",
       "<table>  <tr>\n",
       "    <td>*XXA:</td>\n",
       "    <td style=\"text-align: left\">好</td>\n",
       "    <td style=\"text-align: left\">抵</td>\n",
       "    <td style=\"text-align: left\">玩</td>\n",
       "    <td style=\"text-align: left\">喎</td>\n",
       "    <td style=\"text-align: left\">.</td>\n",
       "  </tr>\n",
       "  <tr>\n",
       "    <td>%mor:</td>\n",
       "    <td style=\"text-align: left\">D|hou2</td>\n",
       "    <td style=\"text-align: left\">A|dai2</td>\n",
       "    <td style=\"text-align: left\">V|waan2</td>\n",
       "    <td style=\"text-align: left\">Y|wo3</td>\n",
       "    <td style=\"text-align: left\">.</td>\n",
       "  </tr>\n",
       "</table>\n",
       "<table>  <tr>\n",
       "    <td>*XXA:</td>\n",
       "    <td style=\"text-align: left\">直程</td>\n",
       "    <td style=\"text-align: left\">可以</td>\n",
       "    <td style=\"text-align: left\">喺</td>\n",
       "    <td style=\"text-align: left\">裏邊</td>\n",
       "    <td style=\"text-align: left\">嗰啲</td>\n",
       "    <td style=\"text-align: left\">酒店</td>\n",
       "    <td style=\"text-align: left\">住</td>\n",
       "    <td style=\"text-align: left\">𠻹</td>\n",
       "    <td style=\"text-align: left\">喎</td>\n",
       "    <td style=\"text-align: left\">,</td>\n",
       "    <td style=\"text-align: left\">佢</td>\n",
       "    <td style=\"text-align: left\">話</td>\n",
       "    <td style=\"text-align: left\">.</td>\n",
       "  </tr>\n",
       "  <tr>\n",
       "    <td>%mor:</td>\n",
       "    <td style=\"text-align: left\">D|zik6cing4</td>\n",
       "    <td style=\"text-align: left\">VU|ho2ji5</td>\n",
       "    <td style=\"text-align: left\">P|hai2</td>\n",
       "    <td style=\"text-align: left\">F|leoi5bin6</td>\n",
       "    <td style=\"text-align: left\">R|go2di1</td>\n",
       "    <td style=\"text-align: left\">N|zau2dim3</td>\n",
       "    <td style=\"text-align: left\">V|zyu6</td>\n",
       "    <td style=\"text-align: left\">Y|tim1</td>\n",
       "    <td style=\"text-align: left\">Y|wo3</td>\n",
       "    <td style=\"text-align: left\">,</td>\n",
       "    <td style=\"text-align: left\">R|keoi5</td>\n",
       "    <td style=\"text-align: left\">V|waa6</td>\n",
       "    <td style=\"text-align: left\">.</td>\n",
       "  </tr>\n",
       "</table>\n",
       "<table>  <tr>\n",
       "    <td>*XXA:</td>\n",
       "    <td style=\"text-align: left\">跟</td>\n",
       "    <td style=\"text-align: left\">旅行社</td>\n",
       "    <td style=\"text-align: left\">去</td>\n",
       "    <td style=\"text-align: left\">囖</td>\n",
       "    <td style=\"text-align: left\">.</td>\n",
       "  </tr>\n",
       "  <tr>\n",
       "    <td>%mor:</td>\n",
       "    <td style=\"text-align: left\">V|gan1</td>\n",
       "    <td style=\"text-align: left\">N|leoi5hang4se5</td>\n",
       "    <td style=\"text-align: left\">V|heoi3</td>\n",
       "    <td style=\"text-align: left\">Y|lo1</td>\n",
       "    <td style=\"text-align: left\">.</td>\n",
       "  </tr>\n",
       "</table>\n",
       "<table>  <tr>\n",
       "    <td>*XXB:</td>\n",
       "    <td style=\"text-align: left\">High</td>\n",
       "    <td style=\"text-align: left\">season</td>\n",
       "    <td style=\"text-align: left\">去</td>\n",
       "    <td style=\"text-align: left\">𡃉</td>\n",
       "    <td style=\"text-align: left\">喎</td>\n",
       "    <td style=\"text-align: left\">.</td>\n",
       "  </tr>\n",
       "  <tr>\n",
       "    <td>%mor:</td>\n",
       "    <td style=\"text-align: left\">XA|</td>\n",
       "    <td style=\"text-align: left\">XN|</td>\n",
       "    <td style=\"text-align: left\">V|heoi3</td>\n",
       "    <td style=\"text-align: left\">Y|gaa3</td>\n",
       "    <td style=\"text-align: left\">Y|wo3</td>\n",
       "    <td style=\"text-align: left\">.</td>\n",
       "  </tr>\n",
       "</table>\n",
       "<table>  <tr>\n",
       "    <td>*XXA:</td>\n",
       "    <td style=\"text-align: left\">七</td>\n",
       "    <td style=\"text-align: left\">八月</td>\n",
       "    <td style=\"text-align: left\">嗰陣時</td>\n",
       "    <td style=\"text-align: left\">囖</td>\n",
       "    <td style=\"text-align: left\">.</td>\n",
       "  </tr>\n",
       "  <tr>\n",
       "    <td>%mor:</td>\n",
       "    <td style=\"text-align: left\">M|cat1</td>\n",
       "    <td style=\"text-align: left\">T|baat3jyut6</td>\n",
       "    <td style=\"text-align: left\">R|go2zan6si4</td>\n",
       "    <td style=\"text-align: left\">Y|lo1</td>\n",
       "    <td style=\"text-align: left\">.</td>\n",
       "  </tr>\n",
       "</table>\n",
       "<table>  <tr>\n",
       "    <td>*XXA:</td>\n",
       "    <td style=\"text-align: left\">但係</td>\n",
       "    <td style=\"text-align: left\">都</td>\n",
       "    <td style=\"text-align: left\">幾</td>\n",
       "    <td style=\"text-align: left\">貴</td>\n",
       "    <td style=\"text-align: left\">喎</td>\n",
       "    <td style=\"text-align: left\">.</td>\n",
       "  </tr>\n",
       "  <tr>\n",
       "    <td>%mor:</td>\n",
       "    <td style=\"text-align: left\">C|daan6hai6</td>\n",
       "    <td style=\"text-align: left\">D|dou1</td>\n",
       "    <td style=\"text-align: left\">D|gei2</td>\n",
       "    <td style=\"text-align: left\">A|gwai3</td>\n",
       "    <td style=\"text-align: left\">Y|wo3</td>\n",
       "    <td style=\"text-align: left\">.</td>\n",
       "  </tr>\n",
       "</table>\n",
       "<table>  <tr>\n",
       "    <td>*XXA:</td>\n",
       "    <td style=\"text-align: left\">都</td>\n",
       "    <td style=\"text-align: left\">要</td>\n",
       "    <td style=\"text-align: left\">成</td>\n",
       "    <td style=\"text-align: left\">萬四</td>\n",
       "    <td style=\"text-align: left\">蚊</td>\n",
       "    <td style=\"text-align: left\">,</td>\n",
       "    <td style=\"text-align: left\">四</td>\n",
       "    <td style=\"text-align: left\">五</td>\n",
       "    <td style=\"text-align: left\">日</td>\n",
       "    <td style=\"text-align: left\">.</td>\n",
       "  </tr>\n",
       "  <tr>\n",
       "    <td>%mor:</td>\n",
       "    <td style=\"text-align: left\">D|dou1</td>\n",
       "    <td style=\"text-align: left\">VU|jiu3</td>\n",
       "    <td style=\"text-align: left\">M|seng4</td>\n",
       "    <td style=\"text-align: left\">M|maan6sei3</td>\n",
       "    <td style=\"text-align: left\">Q|man1</td>\n",
       "    <td style=\"text-align: left\">,</td>\n",
       "    <td style=\"text-align: left\">M|sei3</td>\n",
       "    <td style=\"text-align: left\">M|ng5</td>\n",
       "    <td style=\"text-align: left\">Q|jat6</td>\n",
       "    <td style=\"text-align: left\">.</td>\n",
       "  </tr>\n",
       "</table>\n",
       "<table>  <tr>\n",
       "    <td>*XXA:</td>\n",
       "    <td style=\"text-align: left\">淨係</td>\n",
       "    <td style=\"text-align: left\">去</td>\n",
       "    <td style=\"text-align: left\">Orlando</td>\n",
       "    <td style=\"text-align: left\">嗰度</td>\n",
       "    <td style=\"text-align: left\">玩</td>\n",
       "    <td style=\"text-align: left\">咋</td>\n",
       "    <td style=\"text-align: left\">喎</td>\n",
       "    <td style=\"text-align: left\">.</td>\n",
       "  </tr>\n",
       "  <tr>\n",
       "    <td>%mor:</td>\n",
       "    <td style=\"text-align: left\">D|zing6hai6</td>\n",
       "    <td style=\"text-align: left\">V|heoi3</td>\n",
       "    <td style=\"text-align: left\">XNS|</td>\n",
       "    <td style=\"text-align: left\">R|go2dou6</td>\n",
       "    <td style=\"text-align: left\">V|waan2</td>\n",
       "    <td style=\"text-align: left\">Y|zaa3</td>\n",
       "    <td style=\"text-align: left\">Y|wo3</td>\n",
       "    <td style=\"text-align: left\">.</td>\n",
       "  </tr>\n",
       "</table>\n",
       "<table>  <tr>\n",
       "    <td>*XXA:</td>\n",
       "    <td style=\"text-align: left\">冇</td>\n",
       "    <td style=\"text-align: left\">嘢</td>\n",
       "    <td style=\"text-align: left\">做</td>\n",
       "    <td style=\"text-align: left\">.</td>\n",
       "  </tr>\n",
       "  <tr>\n",
       "    <td>%mor:</td>\n",
       "    <td style=\"text-align: left\">V1|mou5</td>\n",
       "    <td style=\"text-align: left\">N|je5</td>\n",
       "    <td style=\"text-align: left\">V|zou6</td>\n",
       "    <td style=\"text-align: left\">.</td>\n",
       "  </tr>\n",
       "</table>\n",
       "<table>  <tr>\n",
       "    <td>*XXB:</td>\n",
       "    <td style=\"text-align: left\">噉</td>\n",
       "    <td style=\"text-align: left\">咪</td>\n",
       "    <td style=\"text-align: left\">食</td>\n",
       "    <td style=\"text-align: left\">同</td>\n",
       "    <td style=\"text-align: left\">玩</td>\n",
       "    <td style=\"text-align: left\">咪</td>\n",
       "    <td style=\"text-align: left\">啱</td>\n",
       "    <td style=\"text-align: left\">.</td>\n",
       "  </tr>\n",
       "  <tr>\n",
       "    <td>%mor:</td>\n",
       "    <td style=\"text-align: left\">R|gam2</td>\n",
       "    <td style=\"text-align: left\">D|mai6</td>\n",
       "    <td style=\"text-align: left\">V|sik6</td>\n",
       "    <td style=\"text-align: left\">C|tung4</td>\n",
       "    <td style=\"text-align: left\">V|waan2</td>\n",
       "    <td style=\"text-align: left\">D|mai6</td>\n",
       "    <td style=\"text-align: left\">A|aam1</td>\n",
       "    <td style=\"text-align: left\">.</td>\n",
       "  </tr>\n",
       "</table>"
      ],
      "text/plain": [
       "*XXA:  喂      遲     啲     去       唔    去       旅行           啊     ?\n",
       "%mor:  E|wai3  A|ci4  U|di1  V|heoi3  D|m4  V|heoi3  VN|leoi5hang4  Y|aa3  ?\n",
       "\n",
       "*XXA:  你      老公         有冇         平       機票        啊     ?\n",
       "%mor:  R|nei5  N|lou5gung1  V1|jau5mou5  A|peng4  N|gei1piu3  Y|aa3  ?\n",
       "\n",
       "*XXB:  平       機票        要       淡季           先      有得         平       𡃉      喎     .\n",
       "%mor:  A|peng4  N|gei1piu3  VU|jiu3  AN|daam6gwai3  D|sin1  VU|jau5dak1  A|peng4  Y|gaa3  Y|wo3  .\n",
       "\n",
       "*XXB:  而家       旺       -   .\n",
       "%mor:  T|ji4gaa1  A|wong6  -|  .\n",
       "\n",
       "*XXA:  冇得         去       嗱      .\n",
       "%mor:  VU|mou5dak1  V|heoi3  Y|laa4  .\n",
       "\n",
       "*XXB:  吓      ?\n",
       "%mor:  E|haa5  ?\n",
       "\n",
       "*XXB:  而家       旺季           .\n",
       "%mor:  T|ji4gaa1  AN|wong6gwai3  .\n",
       "\n",
       "*XXB:  通常           都      係      貴       𡃉      喎     ,  啲     機票        .\n",
       "%mor:  D|tung1soeng4  D|dou1  V|hai6  A|gwai3  Y|gaa3  Y|wo3  ,  Q|di1  N|gei1piu3  .\n",
       "\n",
       "*XXA:  係      咩     ?\n",
       "%mor:  V|hai6  Y|me1  ?\n",
       "\n",
       "*XXA:  我      聽       朋友         講       話      去       ,  誒    ,  Orlando  嗰個      舊      -   嗰個      迪士尼          呢      ,  廿五       週年        喎     .\n",
       "%mor:  R|ngo5  V|teng1  N|pang4jau5  V|gong2  V|waa6  V|heoi3  ,  E|e6  ,  XNS|     R|go2go3  A|gau6  -|  R|go2go3  NT|dik6si6nei4  Y1|ne1  ,  M|jaa6ng5  Q|zau1nin4  Y|wo3  .\n",
       "\n",
       "*XXA:  好      抵      玩       喎     .\n",
       "%mor:  D|hou2  A|dai2  V|waan2  Y|wo3  .\n",
       "\n",
       "*XXA:  直程         可以       喺      裏邊         嗰啲      酒店        住      𠻹      喎     ,  佢       話      .\n",
       "%mor:  D|zik6cing4  VU|ho2ji5  P|hai2  F|leoi5bin6  R|go2di1  N|zau2dim3  V|zyu6  Y|tim1  Y|wo3  ,  R|keoi5  V|waa6  .\n",
       "\n",
       "*XXA:  跟      旅行社           去       囖     .\n",
       "%mor:  V|gan1  N|leoi5hang4se5  V|heoi3  Y|lo1  .\n",
       "\n",
       "*XXB:  High  season  去       𡃉      喎     .\n",
       "%mor:  XA|   XN|     V|heoi3  Y|gaa3  Y|wo3  .\n",
       "\n",
       "*XXA:  七      八月          嗰陣時        囖     .\n",
       "%mor:  M|cat1  T|baat3jyut6  R|go2zan6si4  Y|lo1  .\n",
       "\n",
       "*XXA:  但係         都      幾      貴       喎     .\n",
       "%mor:  C|daan6hai6  D|dou1  D|gei2  A|gwai3  Y|wo3  .\n",
       "\n",
       "*XXA:  都      要       成       萬四         蚊      ,  四      五     日      .\n",
       "%mor:  D|dou1  VU|jiu3  M|seng4  M|maan6sei3  Q|man1  ,  M|sei3  M|ng5  Q|jat6  .\n",
       "\n",
       "*XXA:  淨係         去       Orlando  嗰度       玩       咋      喎     .\n",
       "%mor:  D|zing6hai6  V|heoi3  XNS|     R|go2dou6  V|waan2  Y|zaa3  Y|wo3  .\n",
       "\n",
       "*XXA:  冇       嘢     做      .\n",
       "%mor:  V1|mou5  N|je5  V|zou6  .\n",
       "\n",
       "*XXB:  噉      咪      食      同       玩       咪      啱      .\n",
       "%mor:  R|gam2  D|mai6  V|sik6  C|tung4  V|waan2  D|mai6  A|aam1  ."
      ]
     },
     "execution_count": 11,
     "metadata": {},
     "output_type": "execute_result"
    }
   ],
   "source": [
    "# importing the HKCanCor data\n",
    "# (HKCanCor) 香港粵語語料庫\n",
    "import pycantonese\n",
    "corpus = pycantonese.hkcancor()\n",
    "corpus.head(20)"
   ]
  },
  {
   "cell_type": "code",
   "execution_count": 15,
   "id": "93c9ac1b-cd2b-4851-bba6-a3b5863cedc4",
   "metadata": {},
   "outputs": [
    {
     "data": {
      "text/plain": [
       "104"
      ]
     },
     "execution_count": 15,
     "metadata": {},
     "output_type": "execute_result"
    }
   ],
   "source": [
    "stop_words = pycantonese.stop_words()\n",
    "len(stop_words)\n"
   ]
  },
  {
   "cell_type": "code",
   "execution_count": 16,
   "id": "cc9413ae-6008-4640-8ee8-74fc8223dc46",
   "metadata": {},
   "outputs": [
    {
     "name": "stdout",
     "output_type": "stream",
     "text": [
      "{'而家', '返', '吖', '你', '有', '人哋', '再', '咗', '因為', '點', '跟住', '噉', '唔', '成日', '嗰', '乜', '諗', '要', '哦', '原來', '得', '過', '點樣', '唔使', '覺得', '去', '唔係', '不如', '又', '乜嘢', '嗯', '會', '話', '講', '就', '佢哋', '即係', '喎', '嗰個', '同埋', '一定', '如果', '即', '然之後', '係', '你哋', '嘅', '咩', '幾', '所以', '睇', '個', '自己', '咪', '知', '嗰啲', '嘢', '想', '應該', '一啲', '最', '譬如', '佢', '多', '喺', '可以', '啊', '邊個', '冇', '噉樣', '未', '好', '其他', '有啲', '喺度', '到', '我哋', '我', '呀', '哩', '啲', '可能', '由', '嗰度', '太', '有冇', '真係', '都', '哩度', '哩樣', '哩啲', '呢', '而', '梗係', '哩個', '點解', '已經', '之後', '同', '咁', '幾多', '但係', '不過', '或者'}\n"
     ]
    }
   ],
   "source": [
    "print(stop_words)"
   ]
  },
  {
   "cell_type": "code",
   "execution_count": 36,
   "id": "f280480a-b86b-4501-bcb6-fcc31ec19b0a",
   "metadata": {},
   "outputs": [
    {
     "name": "stdout",
     "output_type": "stream",
     "text": [
      "仲 is not in the stop words list\n"
     ]
    }
   ],
   "source": [
    "word = \"仲\"\n",
    "\n",
    "if word in stop_words:\n",
    "    print(word + \" is in the stop words list\")\n",
    "else:\n",
    "    print(word + \" is not in the stop words list\")"
   ]
  },
  {
   "cell_type": "code",
   "execution_count": 49,
   "id": "c723be45-c885-4944-825f-7bd2660ff461",
   "metadata": {},
   "outputs": [
    {
     "data": {
      "text/plain": [
       "105"
      ]
     },
     "execution_count": 49,
     "metadata": {},
     "output_type": "execute_result"
    }
   ],
   "source": [
    "# treat \"香港\" as a stop word if your data is all about Hong Kong\n",
    "\n",
    "import pycantonese\n",
    "stop_words_1 = pycantonese.stop_words(add='香港')\n",
    "len(stop_words_1)\n",
    "#'香港' in stop_words_1\n",
    "\n",
    "\n"
   ]
  },
  {
   "cell_type": "code",
   "execution_count": 48,
   "id": "cd4620f9-3131-4ae5-8cab-1fba25374845",
   "metadata": {},
   "outputs": [
    {
     "data": {
      "text/plain": [
       "107"
      ]
     },
     "execution_count": 48,
     "metadata": {},
     "output_type": "execute_result"
    }
   ],
   "source": [
    "stop_words_2 = pycantonese.stop_words(add=['香港島', '九龍', '新界'])  # Hong Kong Island, Kowloon, the New Territories\n",
    "len(stop_words_2)\n",
    "\n",
    "#{'香港島', '九龍', '新界'}.issubset(stop_words_2)"
   ]
  },
  {
   "cell_type": "code",
   "execution_count": 28,
   "id": "9d56b010-93e7-420c-b962-38516175be9a",
   "metadata": {},
   "outputs": [
    {
     "data": {
      "text/plain": [
       "[('講', 'gong2'), ('廣東話', 'gwong2dung1waa2')]"
      ]
     },
     "execution_count": 28,
     "metadata": {},
     "output_type": "execute_result"
    }
   ],
   "source": [
    "pycantonese.characters_to_jyutping(\"講廣東話\")"
   ]
  },
  {
   "cell_type": "code",
   "execution_count": null,
   "id": "2ef572a8-c9f3-4ca3-9107-a5e420884b5d",
   "metadata": {},
   "outputs": [],
   "source": []
  },
  {
   "cell_type": "code",
   "execution_count": 29,
   "id": "17d60fcb-fb16-4506-a00a-b80e104d1eae",
   "metadata": {},
   "outputs": [
    {
     "data": {
      "text/plain": [
       "[('我哋', 'ngo5dei6'),\n",
       " ('今日', 'gam1jat6'),\n",
       " ('去', 'heoi3'),\n",
       " ('打邊爐', 'daa2bin1lou4')]"
      ]
     },
     "execution_count": 29,
     "metadata": {},
     "output_type": "execute_result"
    }
   ],
   "source": [
    "pycantonese.characters_to_jyutping(\"我哋今日去打邊爐\")"
   ]
  },
  {
   "cell_type": "code",
   "execution_count": 30,
   "id": "af26c8ce-69ff-40c2-9b9b-fac8a8dc160a",
   "metadata": {},
   "outputs": [
    {
     "data": {
      "text/plain": [
       "[('叠埋心水', 'dip6maai4sam1seoi2')]"
      ]
     },
     "execution_count": 30,
     "metadata": {},
     "output_type": "execute_result"
    }
   ],
   "source": [
    "pycantonese.characters_to_jyutping(\"叠埋心水\")"
   ]
  },
  {
   "cell_type": "code",
   "execution_count": 31,
   "id": "af71c45d-5076-4129-aa76-8313e3aef3f6",
   "metadata": {},
   "outputs": [
    {
     "data": {
      "text/plain": [
       "[('雞髀', 'gai1bei2'), ('打人', 'daa2jan4'), ('牙骹', 'ngaa4gaau3'), ('軟', 'jyun5')]"
      ]
     },
     "execution_count": 31,
     "metadata": {},
     "output_type": "execute_result"
    }
   ],
   "source": [
    "pycantonese.characters_to_jyutping(\"雞髀打人牙骹軟\")"
   ]
  },
  {
   "cell_type": "code",
   "execution_count": 32,
   "id": "39183042-a631-4326-b60b-ddf88bff2342",
   "metadata": {},
   "outputs": [
    {
     "data": {
      "text/plain": [
       "[('駁嘴駁舌', 'bok3zeoi2bok3sit6')]"
      ]
     },
     "execution_count": 32,
     "metadata": {},
     "output_type": "execute_result"
    }
   ],
   "source": [
    "pycantonese.characters_to_jyutping(\"駁嘴駁舌\")"
   ]
  },
  {
   "cell_type": "code",
   "execution_count": 43,
   "id": "1efedf1b-ec24-403f-8227-b436b6d901c2",
   "metadata": {},
   "outputs": [
    {
     "data": {
      "text/plain": [
       "[Jyutping(onset='', nucleus='m', coda='', tone='4'),\n",
       " Jyutping(onset='g', nucleus='o', coda='i', tone='1')]"
      ]
     },
     "execution_count": 43,
     "metadata": {},
     "output_type": "execute_result"
    }
   ],
   "source": [
    ">>> import pycantonese\n",
    ">>> # thank you\n",
    ">>> pycantonese.parse_jyutping(\"m4goi1\")"
   ]
  },
  {
   "cell_type": "code",
   "execution_count": 28,
   "id": "b60750ff-0f87-478e-aad5-0026e9db068a",
   "metadata": {},
   "outputs": [
    {
     "data": {
      "text/plain": [
       "[Jyutping(onset='', nucleus='m', coda='', tone='4'),\n",
       " Jyutping(onset='h', nucleus='o', coda='', tone='2')]"
      ]
     },
     "execution_count": 28,
     "metadata": {},
     "output_type": "execute_result"
    }
   ],
   "source": [
    ">>> import pycantonese\n",
    ">>> # \n",
    ">>> pycantonese.parse_jyutping(\"m4ho2\")"
   ]
  },
  {
   "cell_type": "code",
   "execution_count": 29,
   "id": "e7fba94d-e141-480a-9d7d-5d3c4cfc677a",
   "metadata": {},
   "outputs": [
    {
     "data": {
      "text/plain": [
       "['m̀h', 'gōi']"
      ]
     },
     "execution_count": 29,
     "metadata": {},
     "output_type": "execute_result"
    }
   ],
   "source": [
    "#Jyutping-to-Yale romanization conversion\n",
    "pycantonese.jyutping_to_yale('m4goi1')"
   ]
  },
  {
   "cell_type": "code",
   "execution_count": 30,
   "id": "ecd4bc71-15cd-4948-abcd-979bf605c13a",
   "metadata": {},
   "outputs": [
    {
     "data": {
      "text/plain": [
       "['今晚打老虎', '？']"
      ]
     },
     "execution_count": 30,
     "metadata": {},
     "output_type": "execute_result"
    }
   ],
   "source": [
    "pycantonese.segment(\"今晚打老虎？\")"
   ]
  },
  {
   "cell_type": "code",
   "execution_count": 31,
   "id": "d5952e84-3c34-4d06-b66d-7857648c6297",
   "metadata": {},
   "outputs": [
    {
     "data": {
      "text/plain": [
       "['你', '今晚', '上', '唔', '上嚟', '我', '屋企', '食飯', '？']"
      ]
     },
     "execution_count": 31,
     "metadata": {},
     "output_type": "execute_result"
    }
   ],
   "source": [
    "pycantonese.segment(\"你今晚上唔上嚟我屋企食飯？\")"
   ]
  },
  {
   "cell_type": "code",
   "execution_count": 32,
   "id": "75c677f8-f8fa-4036-a3f4-3de6189df92c",
   "metadata": {},
   "outputs": [
    {
     "data": {
      "text/plain": [
       "['唔', '阻', '你哋', '撐', '枱', '腳']"
      ]
     },
     "execution_count": 32,
     "metadata": {},
     "output_type": "execute_result"
    }
   ],
   "source": [
    "pycantonese.segment(\"唔阻你哋撐枱腳\")"
   ]
  },
  {
   "cell_type": "code",
   "execution_count": 33,
   "id": "ebc67c66-a274-45ec-9f2c-ac501e366f43",
   "metadata": {},
   "outputs": [
    {
     "data": {
      "text/plain": [
       "['篤', '眼', '篤', '鼻']"
      ]
     },
     "execution_count": 33,
     "metadata": {},
     "output_type": "execute_result"
    }
   ],
   "source": [
    "pycantonese.segment(\"篤眼篤鼻\")"
   ]
  },
  {
   "cell_type": "code",
   "execution_count": 34,
   "id": "3c4a3260-3c8d-43e3-af21-052eac526f5c",
   "metadata": {},
   "outputs": [
    {
     "data": {
      "text/plain": [
       "[('我', 'PRON'),\n",
       " ('琴', 'VERB'),\n",
       " ('日', 'NOUN'),\n",
       " ('買', 'VERB'),\n",
       " ('咗', 'PART'),\n",
       " ('對', 'NOUN'),\n",
       " ('鞋', 'NOUN')]"
      ]
     },
     "execution_count": 34,
     "metadata": {},
     "output_type": "execute_result"
    }
   ],
   "source": [
    "pycantonese.pos_tag(['我','琴', '日','買', '咗', '對', '鞋'])"
   ]
  },
  {
   "cell_type": "code",
   "execution_count": 35,
   "id": "de6e0cd1-0561-4f18-b97a-e365c74708df",
   "metadata": {},
   "outputs": [
    {
     "data": {
      "text/html": [
       "<table>  <tr>\n",
       "    <td>*X:</td>\n",
       "    <td style=\"text-align: left\">你</td>\n",
       "    <td style=\"text-align: left\">食</td>\n",
       "    <td style=\"text-align: left\">咗</td>\n",
       "    <td style=\"text-align: left\">飯</td>\n",
       "    <td style=\"text-align: left\">未</td>\n",
       "    <td style=\"text-align: left\">呀</td>\n",
       "    <td style=\"text-align: left\">？</td>\n",
       "  </tr>\n",
       "  <tr>\n",
       "    <td>%mor:</td>\n",
       "    <td style=\"text-align: left\">PRON|nei5</td>\n",
       "    <td style=\"text-align: left\">VERB|sik6</td>\n",
       "    <td style=\"text-align: left\">PART|zo2</td>\n",
       "    <td style=\"text-align: left\">NOUN|faan6</td>\n",
       "    <td style=\"text-align: left\">ADV|mei6</td>\n",
       "    <td style=\"text-align: left\">PART|aa4</td>\n",
       "    <td style=\"text-align: left\">？</td>\n",
       "  </tr>\n",
       "</table>\n",
       "<table>  <tr>\n",
       "    <td>*X:</td>\n",
       "    <td style=\"text-align: left\">食</td>\n",
       "    <td style=\"text-align: left\">咗</td>\n",
       "    <td style=\"text-align: left\">喇</td>\n",
       "    <td style=\"text-align: left\">！</td>\n",
       "  </tr>\n",
       "  <tr>\n",
       "    <td>%mor:</td>\n",
       "    <td style=\"text-align: left\">VERB|sik6</td>\n",
       "    <td style=\"text-align: left\">PART|zo2</td>\n",
       "    <td style=\"text-align: left\">PART|laa1</td>\n",
       "    <td style=\"text-align: left\">！</td>\n",
       "  </tr>\n",
       "</table>\n",
       "<table>  <tr>\n",
       "    <td>*X:</td>\n",
       "    <td style=\"text-align: left\">你</td>\n",
       "    <td style=\"text-align: left\">聽日</td>\n",
       "    <td style=\"text-align: left\">得</td>\n",
       "    <td style=\"text-align: left\">唔</td>\n",
       "    <td style=\"text-align: left\">得閒</td>\n",
       "    <td style=\"text-align: left\">呀</td>\n",
       "    <td style=\"text-align: left\">？</td>\n",
       "  </tr>\n",
       "  <tr>\n",
       "    <td>%mor:</td>\n",
       "    <td style=\"text-align: left\">PRON|nei5</td>\n",
       "    <td style=\"text-align: left\">ADV|ting1jat6</td>\n",
       "    <td style=\"text-align: left\">VERB|dak1</td>\n",
       "    <td style=\"text-align: left\">ADV|m4</td>\n",
       "    <td style=\"text-align: left\">ADJ|dak1haan4</td>\n",
       "    <td style=\"text-align: left\">PART|aa4</td>\n",
       "    <td style=\"text-align: left\">？</td>\n",
       "  </tr>\n",
       "</table>"
      ],
      "text/plain": [
       "*X:    你         食         咗        飯          未        呀        ？\n",
       "%mor:  PRON|nei5  VERB|sik6  PART|zo2  NOUN|faan6  ADV|mei6  PART|aa4  ？\n",
       "\n",
       "*X:    食         咗        喇         ！\n",
       "%mor:  VERB|sik6  PART|zo2  PART|laa1  ！\n",
       "\n",
       "*X:    你         聽日           得         唔      得閒           呀        ？\n",
       "%mor:  PRON|nei5  ADV|ting1jat6  VERB|dak1  ADV|m4  ADJ|dak1haan4  PART|aa4  ？"
      ]
     },
     "execution_count": 35,
     "metadata": {},
     "output_type": "execute_result"
    }
   ],
   "source": [
    "data = \"你食咗飯未呀？食咗喇！你聽日得唔得閒呀？\"\n",
    "# have you eaten yet? Yes，I have. Are you free tomorrow?\n",
    "corpus = pycantonese.parse_text(data)\n",
    "corpus.head()"
   ]
  },
  {
   "cell_type": "code",
   "execution_count": null,
   "id": "3abac9a8-2ae8-4721-a41a-80e0d98e7a35",
   "metadata": {},
   "outputs": [],
   "source": []
  }
 ],
 "metadata": {
  "kernelspec": {
   "display_name": "Python 3 (ipykernel)",
   "language": "python",
   "name": "python3"
  },
  "language_info": {
   "codemirror_mode": {
    "name": "ipython",
    "version": 3
   },
   "file_extension": ".py",
   "mimetype": "text/x-python",
   "name": "python",
   "nbconvert_exporter": "python",
   "pygments_lexer": "ipython3",
   "version": "3.11.6"
  }
 },
 "nbformat": 4,
 "nbformat_minor": 5
}
