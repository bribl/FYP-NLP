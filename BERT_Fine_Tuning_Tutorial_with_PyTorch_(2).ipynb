{
  "cells": [
    {
      "cell_type": "code",
      "execution_count": null,
      "metadata": {
        "id": "5q2LY1BjyNVQ",
        "colab": {
          "base_uri": "https://localhost:8080/",
          "height": 180
        },
        "outputId": "28be8a3b-75a6-4d17-a1f7-c9f16bdd607d"
      },
      "outputs": [
        {
          "output_type": "error",
          "ename": "SystemError",
          "evalue": "GPU device not found",
          "traceback": [
            "\u001b[0;31m---------------------------------------------------------------------------\u001b[0m",
            "\u001b[0;31mSystemError\u001b[0m                               Traceback (most recent call last)",
            "\u001b[0;32m<ipython-input-28-cd5bb073bb20>\u001b[0m in \u001b[0;36m<cell line: 7>\u001b[0;34m()\u001b[0m\n\u001b[1;32m      8\u001b[0m     \u001b[0mprint\u001b[0m\u001b[0;34m(\u001b[0m\u001b[0;34m'Found GPU at: {}'\u001b[0m\u001b[0;34m.\u001b[0m\u001b[0mformat\u001b[0m\u001b[0;34m(\u001b[0m\u001b[0mdevice_name\u001b[0m\u001b[0;34m)\u001b[0m\u001b[0;34m)\u001b[0m\u001b[0;34m\u001b[0m\u001b[0;34m\u001b[0m\u001b[0m\n\u001b[1;32m      9\u001b[0m \u001b[0;32melse\u001b[0m\u001b[0;34m:\u001b[0m\u001b[0;34m\u001b[0m\u001b[0;34m\u001b[0m\u001b[0m\n\u001b[0;32m---> 10\u001b[0;31m     \u001b[0;32mraise\u001b[0m \u001b[0mSystemError\u001b[0m\u001b[0;34m(\u001b[0m\u001b[0;34m'GPU device not found'\u001b[0m\u001b[0;34m)\u001b[0m\u001b[0;34m\u001b[0m\u001b[0;34m\u001b[0m\u001b[0m\n\u001b[0m",
            "\u001b[0;31mSystemError\u001b[0m: GPU device not found"
          ]
        }
      ],
      "source": [
        "import tensorflow as tf\n",
        "\n",
        "# Get the GPU device name.\n",
        "device_name = tf.test.gpu_device_name()\n",
        "\n",
        "# The device name should look like the following:\n",
        "if device_name == '/device:GPU:0':\n",
        "    print('Found GPU at: {}'.format(device_name))\n",
        "else:\n",
        "    raise SystemError('GPU device not found')"
      ]
    },
    {
      "cell_type": "code",
      "execution_count": null,
      "metadata": {
        "id": "w71JPK6By1Um",
        "colab": {
          "base_uri": "https://localhost:8080/"
        },
        "outputId": "79cbe685-12c9-4e48-ca41-08d7495ca277"
      },
      "outputs": [
        {
          "output_type": "stream",
          "name": "stdout",
          "text": [
            "No GPU available, using the CPU instead.\n"
          ]
        }
      ],
      "source": [
        "import torch\n",
        "\n",
        "# If there's a GPU available...\n",
        "if torch.cuda.is_available():\n",
        "\n",
        "    # Tell PyTorch to use the GPU.\n",
        "    device = torch.device(\"cuda\")\n",
        "\n",
        "    print('There are %d GPU(s) available.' % torch.cuda.device_count())\n",
        "\n",
        "    print('We will use the GPU:', torch.cuda.get_device_name(0))\n",
        "\n",
        "# If not...\n",
        "else:\n",
        "    print('No GPU available, using the CPU instead.')\n",
        "    device = torch.device(\"cpu\")"
      ]
    },
    {
      "cell_type": "code",
      "execution_count": null,
      "metadata": {
        "colab": {
          "base_uri": "https://localhost:8080/"
        },
        "id": "WvvABQDT1k4U",
        "outputId": "63d033e3-98c4-4e85-cfb6-4e2db48325b6"
      },
      "outputs": [
        {
          "output_type": "stream",
          "name": "stdout",
          "text": [
            "Requirement already satisfied: transformers in /usr/local/lib/python3.10/dist-packages (4.37.2)\n",
            "Requirement already satisfied: filelock in /usr/local/lib/python3.10/dist-packages (from transformers) (3.13.1)\n",
            "Requirement already satisfied: huggingface-hub<1.0,>=0.19.3 in /usr/local/lib/python3.10/dist-packages (from transformers) (0.20.3)\n",
            "Requirement already satisfied: numpy>=1.17 in /usr/local/lib/python3.10/dist-packages (from transformers) (1.25.2)\n",
            "Requirement already satisfied: packaging>=20.0 in /usr/local/lib/python3.10/dist-packages (from transformers) (23.2)\n",
            "Requirement already satisfied: pyyaml>=5.1 in /usr/local/lib/python3.10/dist-packages (from transformers) (6.0.1)\n",
            "Requirement already satisfied: regex!=2019.12.17 in /usr/local/lib/python3.10/dist-packages (from transformers) (2023.12.25)\n",
            "Requirement already satisfied: requests in /usr/local/lib/python3.10/dist-packages (from transformers) (2.31.0)\n",
            "Requirement already satisfied: tokenizers<0.19,>=0.14 in /usr/local/lib/python3.10/dist-packages (from transformers) (0.15.2)\n",
            "Requirement already satisfied: safetensors>=0.4.1 in /usr/local/lib/python3.10/dist-packages (from transformers) (0.4.2)\n",
            "Requirement already satisfied: tqdm>=4.27 in /usr/local/lib/python3.10/dist-packages (from transformers) (4.66.2)\n",
            "Requirement already satisfied: fsspec>=2023.5.0 in /usr/local/lib/python3.10/dist-packages (from huggingface-hub<1.0,>=0.19.3->transformers) (2023.6.0)\n",
            "Requirement already satisfied: typing-extensions>=3.7.4.3 in /usr/local/lib/python3.10/dist-packages (from huggingface-hub<1.0,>=0.19.3->transformers) (4.9.0)\n",
            "Requirement already satisfied: charset-normalizer<4,>=2 in /usr/local/lib/python3.10/dist-packages (from requests->transformers) (3.3.2)\n",
            "Requirement already satisfied: idna<4,>=2.5 in /usr/local/lib/python3.10/dist-packages (from requests->transformers) (3.6)\n",
            "Requirement already satisfied: urllib3<3,>=1.21.1 in /usr/local/lib/python3.10/dist-packages (from requests->transformers) (2.0.7)\n",
            "Requirement already satisfied: certifi>=2017.4.17 in /usr/local/lib/python3.10/dist-packages (from requests->transformers) (2024.2.2)\n"
          ]
        }
      ],
      "source": [
        "!pip install transformers"
      ]
    },
    {
      "cell_type": "code",
      "execution_count": null,
      "metadata": {
        "id": "C_HpgToU10Fd"
      },
      "outputs": [],
      "source": [
        "##!pip install wget"
      ]
    },
    {
      "cell_type": "code",
      "execution_count": null,
      "metadata": {
        "id": "9Y1Sfyhw15Cx"
      },
      "outputs": [],
      "source": [
        "##import wget\n",
        "##import os\n",
        "\n",
        "##print('Downloading dataset...')\n",
        "\n",
        "# The URL for the dataset zip file.\n",
        "##url = 'https://nyu-mll.github.io/CoLA/cola_public_1.1.zip'\n",
        "\n",
        "# Download the file (if we haven't already)\n",
        "##if not os.path.exists('./cola_public_1.1.zip'):\n",
        "##    wget.download(url, './cola_public_1.1.zip')"
      ]
    },
    {
      "cell_type": "code",
      "execution_count": null,
      "metadata": {
        "id": "gZ84CM3Q2P7I"
      },
      "outputs": [],
      "source": [
        "# Unzip the dataset (if we haven't already)\n",
        "##if not os.path.exists('./cola_public/'):\n",
        "##    !unzip cola_public_1.1.zip"
      ]
    },
    {
      "cell_type": "code",
      "execution_count": null,
      "metadata": {
        "id": "UoxEXrZsbagH",
        "colab": {
          "base_uri": "https://localhost:8080/",
          "height": 694
        },
        "outputId": "be7c2b41-0058-470b-b02f-51c719f75700"
      },
      "outputs": [
        {
          "output_type": "stream",
          "name": "stdout",
          "text": [
            "Number of training sentences: 7,204\n",
            "\n"
          ]
        },
        {
          "output_type": "execute_result",
          "data": {
            "text/plain": [
              "     post_number                                  title  \\\n",
              "3252     1001171                                    求 評   \n",
              "1535      103773                                  封鎖 名單   \n",
              "6336     3611661                          其實 仲有冇 人 搵 以下   \n",
              "177       100472                           台 測 滴 滴 尼 電影   \n",
              "230       100601                            平時 樓下 一個 看更   \n",
              "2627      200607                                電視 買 邊部   \n",
              "5111     3583000                   仲未 環保 組織 叫 人 唔好 開 暖氣   \n",
              "6063     3609961  內地 男 乘 九巴 車資 僅 付 吐口 水 吼 是 內地 人 後續 更 狂   \n",
              "3341     1001349         集思廣益 以 光速 圍住 棵 聖誕樹 跑 幾耐 先 屌 屎眼   \n",
              "748       101871      初 四 第四 回擊 殺 外母 大作 戰 招 巴打 一齊 對抗 外母   \n",
              "\n",
              "                                           main_content  \\\n",
              "3252  盒 裝 連 黑色 散熱片 華碩 華碩 雙 風扇 顯示卡 全 模組 火牛 白色 玻璃 幫 人 ...   \n",
              "1535                                          淨係 唔止 人 可   \n",
              "6336  認真 好好 奇 仲會 唔會 有人 搵 緊 萬 蚊 萬 但 現實 生活 根本 未聽過 人 搵 ...   \n",
              "177   睇清楚 時間 幾點 播 關 左 睇到 台 好似 按 左下 可 轉 台 年月 第二次 世界大戰...   \n",
              "230                                             今日 一 落去   \n",
              "2627                      最大 只 以 買 吋 有無 用家 講解 下 多數 打 睇戲   \n",
              "5111  今日 聽日 凍 實 好多 人 開 暖爐 暖氣 仲 一個 機會 抽 擊 班 暖氣 順便 屌 埋...   \n",
              "6063  內地 客 香港 旅遊 不論 哪個 地方 的 乘客 登上 巴士 付 足 車資 是 常識 吧 內...   \n",
              "3341                                                 如題   \n",
              "748   上集 第三 回 成功 擊 殺 變態 外父 後 本 星 人 今日 將 繼續 陪 各位 巴打 擊...   \n",
              "\n",
              "                                               comments word_count  \\\n",
              "3252  個名 相反 既 超 板 多數 超 果 人 最後 會話 學下 超 少少 盒 裝水 冷 散熱器 ...        113   \n",
              "1535               自 推 加 跟 本 正常 淨係 唔止 人 可 玩 單機 開聲 叫 地 囉         16   \n",
              "6336  大把 萬 中 至 萬 尾 連 登 問 傻 撚 左上 勞工 署 望樓 主 堅離地 定 玩膠 識...        228   \n",
              "177   隨 著 神 盾 局 的 淪陷 世界 陷入 了 無 戒備 無 防範 的 混亂 中 罪魁禍首 九...       1119   \n",
              "230                                             今日 一 落去          3   \n",
              "2627  最大 只 以 買 吋 有無 用家 講解 下 多數 打 睇戲 買 番 利申 瘋 宅 狗 玩 寸...        329   \n",
              "5111  等 多年 曖 度 洗 急住 開 平時 開 冷氣 差唔多 但 體 感 舒服 好多 其實 環保 ...        158   \n",
              "6063  炒 九巴 司機 死賤種 支那 專才 躝 啦 當 大陸 痴線 佬 落 嚟 香港 超 哥 點算 ...        912   \n",
              "3341         做 得到 如題 首先 條 夠 長 圍 聖誕樹 一 圈點 解 聖誕樹 平安夜 破 到處         16   \n",
              "748   留名 今晚 直 連 無咁 掛 巴打 無咁 決定 暫停 開 台 直至 裝 左 新 既 寬頻 上...        119   \n",
              "\n",
              "                                          URL Category Classification  \n",
              "3252  https://lihkg.com/thread/1001171/page/1     22.0            硬件台  \n",
              "1535   https://lihkg.com/thread/103773/page/1     28.0            站務台  \n",
              "6336  https://lihkg.com/thread/3611661/page/1     14.0            上班台  \n",
              "177    https://lihkg.com/thread/100472/page/1     34.0            直播台  \n",
              "230    https://lihkg.com/thread/100601/page/1     31.0            創意台  \n",
              "2627   https://lihkg.com/thread/200607/page/1     22.0            硬件台  \n",
              "5111  https://lihkg.com/thread/3583000/page/1      5.0            時事台  \n",
              "6063  https://lihkg.com/thread/3609961/page/1      5.0            時事台  \n",
              "3341  https://lihkg.com/thread/1001349/page/1     18.0            學術台  \n",
              "748    https://lihkg.com/thread/101871/page/1     34.0            直播台  "
            ],
            "text/html": [
              "\n",
              "  <div id=\"df-22162e2c-68cb-4d9c-9d8e-bece3782540e\" class=\"colab-df-container\">\n",
              "    <div>\n",
              "<style scoped>\n",
              "    .dataframe tbody tr th:only-of-type {\n",
              "        vertical-align: middle;\n",
              "    }\n",
              "\n",
              "    .dataframe tbody tr th {\n",
              "        vertical-align: top;\n",
              "    }\n",
              "\n",
              "    .dataframe thead th {\n",
              "        text-align: right;\n",
              "    }\n",
              "</style>\n",
              "<table border=\"1\" class=\"dataframe\">\n",
              "  <thead>\n",
              "    <tr style=\"text-align: right;\">\n",
              "      <th></th>\n",
              "      <th>post_number</th>\n",
              "      <th>title</th>\n",
              "      <th>main_content</th>\n",
              "      <th>comments</th>\n",
              "      <th>word_count</th>\n",
              "      <th>URL</th>\n",
              "      <th>Category</th>\n",
              "      <th>Classification</th>\n",
              "    </tr>\n",
              "  </thead>\n",
              "  <tbody>\n",
              "    <tr>\n",
              "      <th>3252</th>\n",
              "      <td>1001171</td>\n",
              "      <td>求 評</td>\n",
              "      <td>盒 裝 連 黑色 散熱片 華碩 華碩 雙 風扇 顯示卡 全 模組 火牛 白色 玻璃 幫 人 ...</td>\n",
              "      <td>個名 相反 既 超 板 多數 超 果 人 最後 會話 學下 超 少少 盒 裝水 冷 散熱器 ...</td>\n",
              "      <td>113</td>\n",
              "      <td>https://lihkg.com/thread/1001171/page/1</td>\n",
              "      <td>22.0</td>\n",
              "      <td>硬件台</td>\n",
              "    </tr>\n",
              "    <tr>\n",
              "      <th>1535</th>\n",
              "      <td>103773</td>\n",
              "      <td>封鎖 名單</td>\n",
              "      <td>淨係 唔止 人 可</td>\n",
              "      <td>自 推 加 跟 本 正常 淨係 唔止 人 可 玩 單機 開聲 叫 地 囉</td>\n",
              "      <td>16</td>\n",
              "      <td>https://lihkg.com/thread/103773/page/1</td>\n",
              "      <td>28.0</td>\n",
              "      <td>站務台</td>\n",
              "    </tr>\n",
              "    <tr>\n",
              "      <th>6336</th>\n",
              "      <td>3611661</td>\n",
              "      <td>其實 仲有冇 人 搵 以下</td>\n",
              "      <td>認真 好好 奇 仲會 唔會 有人 搵 緊 萬 蚊 萬 但 現實 生活 根本 未聽過 人 搵 ...</td>\n",
              "      <td>大把 萬 中 至 萬 尾 連 登 問 傻 撚 左上 勞工 署 望樓 主 堅離地 定 玩膠 識...</td>\n",
              "      <td>228</td>\n",
              "      <td>https://lihkg.com/thread/3611661/page/1</td>\n",
              "      <td>14.0</td>\n",
              "      <td>上班台</td>\n",
              "    </tr>\n",
              "    <tr>\n",
              "      <th>177</th>\n",
              "      <td>100472</td>\n",
              "      <td>台 測 滴 滴 尼 電影</td>\n",
              "      <td>睇清楚 時間 幾點 播 關 左 睇到 台 好似 按 左下 可 轉 台 年月 第二次 世界大戰...</td>\n",
              "      <td>隨 著 神 盾 局 的 淪陷 世界 陷入 了 無 戒備 無 防範 的 混亂 中 罪魁禍首 九...</td>\n",
              "      <td>1119</td>\n",
              "      <td>https://lihkg.com/thread/100472/page/1</td>\n",
              "      <td>34.0</td>\n",
              "      <td>直播台</td>\n",
              "    </tr>\n",
              "    <tr>\n",
              "      <th>230</th>\n",
              "      <td>100601</td>\n",
              "      <td>平時 樓下 一個 看更</td>\n",
              "      <td>今日 一 落去</td>\n",
              "      <td>今日 一 落去</td>\n",
              "      <td>3</td>\n",
              "      <td>https://lihkg.com/thread/100601/page/1</td>\n",
              "      <td>31.0</td>\n",
              "      <td>創意台</td>\n",
              "    </tr>\n",
              "    <tr>\n",
              "      <th>2627</th>\n",
              "      <td>200607</td>\n",
              "      <td>電視 買 邊部</td>\n",
              "      <td>最大 只 以 買 吋 有無 用家 講解 下 多數 打 睇戲</td>\n",
              "      <td>最大 只 以 買 吋 有無 用家 講解 下 多數 打 睇戲 買 番 利申 瘋 宅 狗 玩 寸...</td>\n",
              "      <td>329</td>\n",
              "      <td>https://lihkg.com/thread/200607/page/1</td>\n",
              "      <td>22.0</td>\n",
              "      <td>硬件台</td>\n",
              "    </tr>\n",
              "    <tr>\n",
              "      <th>5111</th>\n",
              "      <td>3583000</td>\n",
              "      <td>仲未 環保 組織 叫 人 唔好 開 暖氣</td>\n",
              "      <td>今日 聽日 凍 實 好多 人 開 暖爐 暖氣 仲 一個 機會 抽 擊 班 暖氣 順便 屌 埋...</td>\n",
              "      <td>等 多年 曖 度 洗 急住 開 平時 開 冷氣 差唔多 但 體 感 舒服 好多 其實 環保 ...</td>\n",
              "      <td>158</td>\n",
              "      <td>https://lihkg.com/thread/3583000/page/1</td>\n",
              "      <td>5.0</td>\n",
              "      <td>時事台</td>\n",
              "    </tr>\n",
              "    <tr>\n",
              "      <th>6063</th>\n",
              "      <td>3609961</td>\n",
              "      <td>內地 男 乘 九巴 車資 僅 付 吐口 水 吼 是 內地 人 後續 更 狂</td>\n",
              "      <td>內地 客 香港 旅遊 不論 哪個 地方 的 乘客 登上 巴士 付 足 車資 是 常識 吧 內...</td>\n",
              "      <td>炒 九巴 司機 死賤種 支那 專才 躝 啦 當 大陸 痴線 佬 落 嚟 香港 超 哥 點算 ...</td>\n",
              "      <td>912</td>\n",
              "      <td>https://lihkg.com/thread/3609961/page/1</td>\n",
              "      <td>5.0</td>\n",
              "      <td>時事台</td>\n",
              "    </tr>\n",
              "    <tr>\n",
              "      <th>3341</th>\n",
              "      <td>1001349</td>\n",
              "      <td>集思廣益 以 光速 圍住 棵 聖誕樹 跑 幾耐 先 屌 屎眼</td>\n",
              "      <td>如題</td>\n",
              "      <td>做 得到 如題 首先 條 夠 長 圍 聖誕樹 一 圈點 解 聖誕樹 平安夜 破 到處</td>\n",
              "      <td>16</td>\n",
              "      <td>https://lihkg.com/thread/1001349/page/1</td>\n",
              "      <td>18.0</td>\n",
              "      <td>學術台</td>\n",
              "    </tr>\n",
              "    <tr>\n",
              "      <th>748</th>\n",
              "      <td>101871</td>\n",
              "      <td>初 四 第四 回擊 殺 外母 大作 戰 招 巴打 一齊 對抗 外母</td>\n",
              "      <td>上集 第三 回 成功 擊 殺 變態 外父 後 本 星 人 今日 將 繼續 陪 各位 巴打 擊...</td>\n",
              "      <td>留名 今晚 直 連 無咁 掛 巴打 無咁 決定 暫停 開 台 直至 裝 左 新 既 寬頻 上...</td>\n",
              "      <td>119</td>\n",
              "      <td>https://lihkg.com/thread/101871/page/1</td>\n",
              "      <td>34.0</td>\n",
              "      <td>直播台</td>\n",
              "    </tr>\n",
              "  </tbody>\n",
              "</table>\n",
              "</div>\n",
              "    <div class=\"colab-df-buttons\">\n",
              "\n",
              "  <div class=\"colab-df-container\">\n",
              "    <button class=\"colab-df-convert\" onclick=\"convertToInteractive('df-22162e2c-68cb-4d9c-9d8e-bece3782540e')\"\n",
              "            title=\"Convert this dataframe to an interactive table.\"\n",
              "            style=\"display:none;\">\n",
              "\n",
              "  <svg xmlns=\"http://www.w3.org/2000/svg\" height=\"24px\" viewBox=\"0 -960 960 960\">\n",
              "    <path d=\"M120-120v-720h720v720H120Zm60-500h600v-160H180v160Zm220 220h160v-160H400v160Zm0 220h160v-160H400v160ZM180-400h160v-160H180v160Zm440 0h160v-160H620v160ZM180-180h160v-160H180v160Zm440 0h160v-160H620v160Z\"/>\n",
              "  </svg>\n",
              "    </button>\n",
              "\n",
              "  <style>\n",
              "    .colab-df-container {\n",
              "      display:flex;\n",
              "      gap: 12px;\n",
              "    }\n",
              "\n",
              "    .colab-df-convert {\n",
              "      background-color: #E8F0FE;\n",
              "      border: none;\n",
              "      border-radius: 50%;\n",
              "      cursor: pointer;\n",
              "      display: none;\n",
              "      fill: #1967D2;\n",
              "      height: 32px;\n",
              "      padding: 0 0 0 0;\n",
              "      width: 32px;\n",
              "    }\n",
              "\n",
              "    .colab-df-convert:hover {\n",
              "      background-color: #E2EBFA;\n",
              "      box-shadow: 0px 1px 2px rgba(60, 64, 67, 0.3), 0px 1px 3px 1px rgba(60, 64, 67, 0.15);\n",
              "      fill: #174EA6;\n",
              "    }\n",
              "\n",
              "    .colab-df-buttons div {\n",
              "      margin-bottom: 4px;\n",
              "    }\n",
              "\n",
              "    [theme=dark] .colab-df-convert {\n",
              "      background-color: #3B4455;\n",
              "      fill: #D2E3FC;\n",
              "    }\n",
              "\n",
              "    [theme=dark] .colab-df-convert:hover {\n",
              "      background-color: #434B5C;\n",
              "      box-shadow: 0px 1px 3px 1px rgba(0, 0, 0, 0.15);\n",
              "      filter: drop-shadow(0px 1px 2px rgba(0, 0, 0, 0.3));\n",
              "      fill: #FFFFFF;\n",
              "    }\n",
              "  </style>\n",
              "\n",
              "    <script>\n",
              "      const buttonEl =\n",
              "        document.querySelector('#df-22162e2c-68cb-4d9c-9d8e-bece3782540e button.colab-df-convert');\n",
              "      buttonEl.style.display =\n",
              "        google.colab.kernel.accessAllowed ? 'block' : 'none';\n",
              "\n",
              "      async function convertToInteractive(key) {\n",
              "        const element = document.querySelector('#df-22162e2c-68cb-4d9c-9d8e-bece3782540e');\n",
              "        const dataTable =\n",
              "          await google.colab.kernel.invokeFunction('convertToInteractive',\n",
              "                                                    [key], {});\n",
              "        if (!dataTable) return;\n",
              "\n",
              "        const docLinkHtml = 'Like what you see? Visit the ' +\n",
              "          '<a target=\"_blank\" href=https://colab.research.google.com/notebooks/data_table.ipynb>data table notebook</a>'\n",
              "          + ' to learn more about interactive tables.';\n",
              "        element.innerHTML = '';\n",
              "        dataTable['output_type'] = 'display_data';\n",
              "        await google.colab.output.renderOutput(dataTable, element);\n",
              "        const docLink = document.createElement('div');\n",
              "        docLink.innerHTML = docLinkHtml;\n",
              "        element.appendChild(docLink);\n",
              "      }\n",
              "    </script>\n",
              "  </div>\n",
              "\n",
              "\n",
              "<div id=\"df-6e792791-850c-46d2-bf3d-05c083d8774c\">\n",
              "  <button class=\"colab-df-quickchart\" onclick=\"quickchart('df-6e792791-850c-46d2-bf3d-05c083d8774c')\"\n",
              "            title=\"Suggest charts\"\n",
              "            style=\"display:none;\">\n",
              "\n",
              "<svg xmlns=\"http://www.w3.org/2000/svg\" height=\"24px\"viewBox=\"0 0 24 24\"\n",
              "     width=\"24px\">\n",
              "    <g>\n",
              "        <path d=\"M19 3H5c-1.1 0-2 .9-2 2v14c0 1.1.9 2 2 2h14c1.1 0 2-.9 2-2V5c0-1.1-.9-2-2-2zM9 17H7v-7h2v7zm4 0h-2V7h2v10zm4 0h-2v-4h2v4z\"/>\n",
              "    </g>\n",
              "</svg>\n",
              "  </button>\n",
              "\n",
              "<style>\n",
              "  .colab-df-quickchart {\n",
              "      --bg-color: #E8F0FE;\n",
              "      --fill-color: #1967D2;\n",
              "      --hover-bg-color: #E2EBFA;\n",
              "      --hover-fill-color: #174EA6;\n",
              "      --disabled-fill-color: #AAA;\n",
              "      --disabled-bg-color: #DDD;\n",
              "  }\n",
              "\n",
              "  [theme=dark] .colab-df-quickchart {\n",
              "      --bg-color: #3B4455;\n",
              "      --fill-color: #D2E3FC;\n",
              "      --hover-bg-color: #434B5C;\n",
              "      --hover-fill-color: #FFFFFF;\n",
              "      --disabled-bg-color: #3B4455;\n",
              "      --disabled-fill-color: #666;\n",
              "  }\n",
              "\n",
              "  .colab-df-quickchart {\n",
              "    background-color: var(--bg-color);\n",
              "    border: none;\n",
              "    border-radius: 50%;\n",
              "    cursor: pointer;\n",
              "    display: none;\n",
              "    fill: var(--fill-color);\n",
              "    height: 32px;\n",
              "    padding: 0;\n",
              "    width: 32px;\n",
              "  }\n",
              "\n",
              "  .colab-df-quickchart:hover {\n",
              "    background-color: var(--hover-bg-color);\n",
              "    box-shadow: 0 1px 2px rgba(60, 64, 67, 0.3), 0 1px 3px 1px rgba(60, 64, 67, 0.15);\n",
              "    fill: var(--button-hover-fill-color);\n",
              "  }\n",
              "\n",
              "  .colab-df-quickchart-complete:disabled,\n",
              "  .colab-df-quickchart-complete:disabled:hover {\n",
              "    background-color: var(--disabled-bg-color);\n",
              "    fill: var(--disabled-fill-color);\n",
              "    box-shadow: none;\n",
              "  }\n",
              "\n",
              "  .colab-df-spinner {\n",
              "    border: 2px solid var(--fill-color);\n",
              "    border-color: transparent;\n",
              "    border-bottom-color: var(--fill-color);\n",
              "    animation:\n",
              "      spin 1s steps(1) infinite;\n",
              "  }\n",
              "\n",
              "  @keyframes spin {\n",
              "    0% {\n",
              "      border-color: transparent;\n",
              "      border-bottom-color: var(--fill-color);\n",
              "      border-left-color: var(--fill-color);\n",
              "    }\n",
              "    20% {\n",
              "      border-color: transparent;\n",
              "      border-left-color: var(--fill-color);\n",
              "      border-top-color: var(--fill-color);\n",
              "    }\n",
              "    30% {\n",
              "      border-color: transparent;\n",
              "      border-left-color: var(--fill-color);\n",
              "      border-top-color: var(--fill-color);\n",
              "      border-right-color: var(--fill-color);\n",
              "    }\n",
              "    40% {\n",
              "      border-color: transparent;\n",
              "      border-right-color: var(--fill-color);\n",
              "      border-top-color: var(--fill-color);\n",
              "    }\n",
              "    60% {\n",
              "      border-color: transparent;\n",
              "      border-right-color: var(--fill-color);\n",
              "    }\n",
              "    80% {\n",
              "      border-color: transparent;\n",
              "      border-right-color: var(--fill-color);\n",
              "      border-bottom-color: var(--fill-color);\n",
              "    }\n",
              "    90% {\n",
              "      border-color: transparent;\n",
              "      border-bottom-color: var(--fill-color);\n",
              "    }\n",
              "  }\n",
              "</style>\n",
              "\n",
              "  <script>\n",
              "    async function quickchart(key) {\n",
              "      const quickchartButtonEl =\n",
              "        document.querySelector('#' + key + ' button');\n",
              "      quickchartButtonEl.disabled = true;  // To prevent multiple clicks.\n",
              "      quickchartButtonEl.classList.add('colab-df-spinner');\n",
              "      try {\n",
              "        const charts = await google.colab.kernel.invokeFunction(\n",
              "            'suggestCharts', [key], {});\n",
              "      } catch (error) {\n",
              "        console.error('Error during call to suggestCharts:', error);\n",
              "      }\n",
              "      quickchartButtonEl.classList.remove('colab-df-spinner');\n",
              "      quickchartButtonEl.classList.add('colab-df-quickchart-complete');\n",
              "    }\n",
              "    (() => {\n",
              "      let quickchartButtonEl =\n",
              "        document.querySelector('#df-6e792791-850c-46d2-bf3d-05c083d8774c button');\n",
              "      quickchartButtonEl.style.display =\n",
              "        google.colab.kernel.accessAllowed ? 'block' : 'none';\n",
              "    })();\n",
              "  </script>\n",
              "</div>\n",
              "    </div>\n",
              "  </div>\n"
            ],
            "application/vnd.google.colaboratory.intrinsic+json": {
              "type": "dataframe",
              "summary": "{\n  \"name\": \"df\",\n  \"rows\": 10,\n  \"fields\": [\n    {\n      \"column\": \"post_number\",\n      \"properties\": {\n        \"dtype\": \"string\",\n        \"num_unique_values\": 10,\n        \"samples\": [\n          \"1001349\",\n          \"103773\",\n          \"200607\"\n        ],\n        \"semantic_type\": \"\",\n        \"description\": \"\"\n      }\n    },\n    {\n      \"column\": \"title\",\n      \"properties\": {\n        \"dtype\": \"string\",\n        \"num_unique_values\": 10,\n        \"samples\": [\n          \"\\u96c6\\u601d\\u5ee3\\u76ca \\u4ee5 \\u5149\\u901f \\u570d\\u4f4f \\u68f5 \\u8056\\u8a95\\u6a39 \\u8dd1 \\u5e7e\\u8010 \\u5148 \\u5c4c \\u5c4e\\u773c\",\n          \"\\u5c01\\u9396 \\u540d\\u55ae\",\n          \"\\u96fb\\u8996 \\u8cb7 \\u908a\\u90e8\"\n        ],\n        \"semantic_type\": \"\",\n        \"description\": \"\"\n      }\n    },\n    {\n      \"column\": \"main_content\",\n      \"properties\": {\n        \"dtype\": \"string\",\n        \"num_unique_values\": 10,\n        \"samples\": [\n          \"\\u5982\\u984c\",\n          \"\\u6de8\\u4fc2 \\u5514\\u6b62 \\u4eba \\u53ef\",\n          \"\\u6700\\u5927 \\u53ea \\u4ee5 \\u8cb7 \\u540b \\u6709\\u7121 \\u7528\\u5bb6 \\u8b1b\\u89e3 \\u4e0b \\u591a\\u6578 \\u6253 \\u7747\\u6232\"\n        ],\n        \"semantic_type\": \"\",\n        \"description\": \"\"\n      }\n    },\n    {\n      \"column\": \"comments\",\n      \"properties\": {\n        \"dtype\": \"string\",\n        \"num_unique_values\": 10,\n        \"samples\": [\n          \"\\u505a \\u5f97\\u5230 \\u5982\\u984c \\u9996\\u5148 \\u689d \\u5920 \\u9577 \\u570d \\u8056\\u8a95\\u6a39 \\u4e00 \\u5708\\u9ede \\u89e3 \\u8056\\u8a95\\u6a39 \\u5e73\\u5b89\\u591c \\u7834 \\u5230\\u8655\",\n          \"\\u81ea \\u63a8 \\u52a0 \\u8ddf \\u672c \\u6b63\\u5e38 \\u6de8\\u4fc2 \\u5514\\u6b62 \\u4eba \\u53ef \\u73a9 \\u55ae\\u6a5f \\u958b\\u8072 \\u53eb \\u5730 \\u56c9\",\n          \"\\u6700\\u5927 \\u53ea \\u4ee5 \\u8cb7 \\u540b \\u6709\\u7121 \\u7528\\u5bb6 \\u8b1b\\u89e3 \\u4e0b \\u591a\\u6578 \\u6253 \\u7747\\u6232 \\u8cb7 \\u756a \\u5229\\u7533 \\u760b \\u5b85 \\u72d7 \\u73a9 \\u5bf8 \\u6709\\u54a9 \\u63a8\\u4ecb \\u597d\\u4f3c \\u6700\\u597d \\u8cb4\\u4eba \\u4e00 \\u622a \\u6027\\u50f9\\u6bd4 \\u4f4e \\u8b58 \\u8cb7 \\u6709\\u7121 \\u7814\\u7a76 \\u958b \\u65e2 \\u5df4\\u6253 \\u672c\\u8eab \\u7747\\u4e2d \\u5df4\\u6253 \\u540b \\u4ee5\\u4e0b \\u90e8 \\u6253\\u6a5f \\u5408\\u683c \\u6709\\u7684 \\u901a\\u77e5 \\u8072 \\u5f97\\u5556\\u7b11 \\u6709\\u5fc3 \\u4e0a \\u5f37 \\u8d85 \\u54c2 \\u73ed \\u4fe1 \\u81ea\\u5df1\\u53bb \\u767e \\u8a18 \\u4e0a \\u97d3 \\u4ed4 \\u91cd\\u53e3\\u5473 \\u898b\\u5230 \\u9a5a \\u6700\\u5927 \\u53ea \\u4ee5 \\u8cb7 \\u540b \\u6709\\u7121 \\u7528\\u5bb6 \\u8b1b\\u89e3 \\u4e0b \\u591a\\u6578 \\u6253 \\u7747\\u6232 \\u986f\\u793a \\u66f4\\u591a \\u8cb7 \\u756a \\u5229\\u7533 \\u760b \\u5b85 \\u72d7 \\u73a9 \\u5bf8 \\u6709\\u54a9 \\u63a8\\u4ecb \\u597d\\u4f3c \\u6700\\u597d \\u8cb4\\u4eba \\u4e00 \\u622a \\u6027\\u50f9\\u6bd4 \\u4f4e \\u8b58 \\u8cb7 \\u6709\\u7121 \\u7814\\u7a76 \\u958b \\u65e2 \\u5df4\\u6253 \\u50f9\\u9322 \\u5c4e \\u597d\\u591a \\u7cfb\\u7d71 \\u58de \\u672c\\u8eab \\u7747\\u4e2d \\u5df4\\u6253 \\u540b \\u4ee5\\u4e0b \\u90e8 \\u6253\\u6a5f \\u5408\\u683c \\u6709\\u7684 \\u901a\\u77e5 \\u8072 \\u5f97\\u5556\\u7b11 \\u6709\\u5fc3 \\u4e0a \\u5f37 \\u8d85 \\u54c2 \\u73ed \\u4fe1 \\u81ea\\u5df1\\u53bb \\u767e \\u8a18 \\u4e0a \\u6700\\u5927 \\u53ea \\u4ee5 \\u8cb7 \\u540b \\u6709\\u7121 \\u7528\\u5bb6 \\u8b1b\\u89e3 \\u4e0b \\u591a\\u6578 \\u6253 \\u7747\\u6232 \\u8cb7 \\u756a \\u5229\\u7533 \\u760b \\u5b85 \\u72d7 \\u73a9 \\u5bf8 \\u6709\\u54a9 \\u63a8\\u4ecb \\u597d\\u4f3c \\u6700\\u597d \\u8cb4\\u4eba \\u4e00 \\u622a \\u6027\\u50f9\\u6bd4 \\u4f4e \\u672c\\u8eab \\u7747\\u4e2d \\u5df4\\u6253 \\u540b \\u4ee5\\u4e0b \\u90e8 \\u6253\\u6a5f \\u5408\\u683c \\u6709\\u7684 \\u901a\\u77e5 \\u8072 \\u672c\\u8eab \\u7747\\u4e2d \\u5df4\\u6253 \\u540b \\u4ee5\\u4e0b \\u90e8 \\u6253\\u6a5f \\u5408\\u683c \\u6709\\u7684 \\u901a\\u77e5 \\u8072 \\u5f97\\u5556\\u7b11 \\u6709\\u5fc3 \\u4e0a \\u5f37 \\u8d85 \\u54c2 \\u73ed \\u4fe1 \\u81ea\\u5df1\\u53bb \\u767e \\u8a18 \\u4e0a \\u7121\\u8ad6 \\u91ce \\u9023 \\u767b \\u5ee2 \\u597d\\u4f3c \\u4e00\\u65bc \\u6df1\\u6c34\\u57d7 \\u679c \\u96fb\\u5668\\u92ea \\u8cb7 \\u6709\\u7121 \\u4f0f \\u6700\\u5927 \\u53ea \\u4ee5 \\u8cb7 \\u540b \\u6709\\u7121 \\u7528\\u5bb6 \\u8b1b\\u89e3 \\u4e0b \\u591a\\u6578 \\u6253 \\u7747\\u6232 \\u8cb7 \\u756a \\u5229\\u7533 \\u760b \\u5b85 \\u72d7 \\u6253\\u6a5f \\u5514\\u597d \\u8cb7 \\u8cb7 \\u6700\\u5927 \\u53ea \\u4ee5 \\u8cb7 \\u540b \\u6709\\u7121 \\u7528\\u5bb6 \\u8b1b\\u89e3 \\u4e0b \\u591a\\u6578 \\u6253 \\u7747\\u6232 \\u8cb7 \\u756a \\u5229\\u7533 \\u760b \\u5b85 \\u72d7 \\u73a9 \\u5bf8 \\u6709\\u54a9 \\u63a8\\u4ecb \\u597d\\u4f3c \\u6700\\u597d \\u63fe \\u90e8 \\u540b \\u9001 \\u6bd4 \\u7cfb\\u7d71 \\u58de \\u7cfb\\u7d71 \\u5927\\u628a \\u91ce \\u73a9 \\u53ef\\u60dc \\u624b\\u6a5f \\u4e00\\u6a23 \\u5b8c\\u5168 \\u8b58 \\u5beb \\u672c\\u8eab \\u7747\\u4e2d \\u5df4\\u6253 \\u540b \\u4ee5\\u4e0b \\u90e8 \\u6253\\u6a5f \\u5408\\u683c \\u6709\\u7684 \\u901a\\u77e5 \\u8072 \\u5f97\\u5556\\u7b11 \\u6709\\u5fc3 \\u4e0a \\u5f37 \\u8d85 \\u54c2 \\u73ed \\u4fe1 \\u81ea\\u5df1\\u53bb \\u767e \\u8a18 \\u4e0a\\u500b \\u7db2 \\u597d\\u4f3c \\u8ddf \\u7db2 \\u9ece \\u8cb7 \\u5e6b \\u5e6b\\u624b \\u4e4b\\u524d \\u679c \\u90e8 \\u5169 \\u5e74 \\u6253\\u67f4 \\u7cfb\\u7d71 \\u58de \\u7cfb\\u7d71 \\u5927\\u628a \\u91ce \\u73a9 \\u53ef\\u60dc \\u624b\\u6a5f \\u4e00\\u6a23 \\u5b8c\\u5168 \\u8b58 \\u5beb \\u7528\\u7dca \\u88dd \\u5de6 \\u5343 \\u5c0b \\u8d85 \\u6b63 \\u6253\\u6a5f \\u5514\\u597d \\u8cb7 \\u8cb7\"\n        ],\n        \"semantic_type\": \"\",\n        \"description\": \"\"\n      }\n    },\n    {\n      \"column\": \"word_count\",\n      \"properties\": {\n        \"dtype\": \"string\",\n        \"num_unique_values\": 9,\n        \"samples\": [\n          \"912\",\n          \"16\",\n          \"329\"\n        ],\n        \"semantic_type\": \"\",\n        \"description\": \"\"\n      }\n    },\n    {\n      \"column\": \"URL\",\n      \"properties\": {\n        \"dtype\": \"string\",\n        \"num_unique_values\": 10,\n        \"samples\": [\n          \"https://lihkg.com/thread/1001349/page/1\",\n          \"https://lihkg.com/thread/103773/page/1\",\n          \"https://lihkg.com/thread/200607/page/1\"\n        ],\n        \"semantic_type\": \"\",\n        \"description\": \"\"\n      }\n    },\n    {\n      \"column\": \"Category\",\n      \"properties\": {\n        \"dtype\": \"string\",\n        \"num_unique_values\": 7,\n        \"samples\": [\n          \"22.0\",\n          \"28.0\",\n          \"5.0\"\n        ],\n        \"semantic_type\": \"\",\n        \"description\": \"\"\n      }\n    },\n    {\n      \"column\": \"Classification\",\n      \"properties\": {\n        \"dtype\": \"string\",\n        \"num_unique_values\": 7,\n        \"samples\": [\n          \"\\u786c\\u4ef6\\u53f0\",\n          \"\\u7ad9\\u52d9\\u53f0\",\n          \"\\u6642\\u4e8b\\u53f0\"\n        ],\n        \"semantic_type\": \"\",\n        \"description\": \"\"\n      }\n    }\n  ]\n}"
            }
          },
          "metadata": {},
          "execution_count": 34
        }
      ],
      "source": [
        "import pandas as pd\n",
        "\n",
        "# Load the dataset into a pandas dataframe.\n",
        "df = pd.read_csv(\"/content/preprocessed_data(210).csv\", names=['post_number','title','main_content','comments', 'word_count', 'URL', 'Category', 'Classification'])\n",
        "\n",
        "# Report the number of sentences.\n",
        "print('Number of training sentences: {:,}\\n'.format(df.shape[0]))\n",
        "\n",
        "# Display 10 random rows from the data.\n",
        "df.sample(10)"
      ]
    },
    {
      "cell_type": "code",
      "execution_count": null,
      "metadata": {
        "id": "PbTb7wlBxG5o",
        "colab": {
          "base_uri": "https://localhost:8080/"
        },
        "outputId": "592b0005-82d7-409a-a694-e2b37fe2e4d7"
      },
      "outputs": [
        {
          "output_type": "execute_result",
          "data": {
            "text/plain": [
              "7204"
            ]
          },
          "metadata": {},
          "execution_count": 35
        }
      ],
      "source": [
        "len(df)"
      ]
    },
    {
      "cell_type": "code",
      "execution_count": null,
      "metadata": {
        "id": "yAUdAC1WxOgw",
        "colab": {
          "base_uri": "https://localhost:8080/"
        },
        "outputId": "3f156832-2d0f-49f0-bd52-ace083f9d67e"
      },
      "outputs": [
        {
          "output_type": "execute_result",
          "data": {
            "text/plain": [
              "6090"
            ]
          },
          "metadata": {},
          "execution_count": 36
        }
      ],
      "source": [
        "df = df.dropna(axis=0, how='any')\n",
        "len(df)"
      ]
    },
    {
      "cell_type": "code",
      "execution_count": null,
      "metadata": {
        "id": "_JOY18QSo-a0",
        "colab": {
          "base_uri": "https://localhost:8080/"
        },
        "outputId": "a1c2337c-19e4-4785-afc4-3442e336dc6d"
      },
      "outputs": [
        {
          "output_type": "stream",
          "name": "stdout",
          "text": [
            "(6089,)\n",
            "(6089,)\n"
          ]
        }
      ],
      "source": [
        "sentences = df.comments[1:].values\n",
        "labels = df.Category[1:].values\n",
        "print(labels.shape)\n",
        "print(sentences.shape)"
      ]
    },
    {
      "cell_type": "code",
      "execution_count": null,
      "metadata": {
        "id": "qGpWgGSTpRsI",
        "colab": {
          "base_uri": "https://localhost:8080/"
        },
        "outputId": "7cec99db-cb13-4802-bf42-09d8a065b1c9"
      },
      "outputs": [
        {
          "output_type": "stream",
          "name": "stdout",
          "text": [
            "Loading BERT tokenizer...\n"
          ]
        }
      ],
      "source": [
        "from transformers import BertTokenizer\n",
        "\n",
        "# Load the BERT tokenizer.\n",
        "print('Loading BERT tokenizer...')\n",
        "tokenizer = BertTokenizer.from_pretrained('bert-base-uncased', do_lower_case=True)"
      ]
    },
    {
      "cell_type": "code",
      "execution_count": null,
      "metadata": {
        "id": "ie9OMZswphHp",
        "colab": {
          "base_uri": "https://localhost:8080/"
        },
        "outputId": "4594fb32-d422-4472-b3c4-4574cddf37e6"
      },
      "outputs": [
        {
          "output_type": "stream",
          "name": "stdout",
          "text": [
            " Original:  京津 照 放炮 仗 污染 爆錶 另一方面 今年 春節 假期 留 在 國內 的 民 眾 則 繼續 忍受 霧霾 之 苦 包括 北京 等 國內 城市 近日 均 對 市民 燃放 煙花 爆竹 祭 出 嚴 控 姿態 惟 民 眾 仍 堅持 爆竹 一聲 除 舊 歲 其中 京津 冀 大批 民 眾 前晚 開始 燃放 炮仗 令 區域 懸浮粒子 濃度 急 升官 方 公佈 北京 的 空氣 質量 指數 在 昨 凌晨 時 至 時 超過 達 嚴重 污染 的 爆錶 水平 若 用 美國 標準 更 曾 升 至 的 峯值 至 昨早 天明 時 才 有所改善 京津 照 放炮 仗 污染 爆錶 另一方面 今年 春節 假期 留 在 國內 的 民 眾 則 繼續 忍受 霧霾 之 苦 包括 北京 等 國內 城市 近日 均 對 市民 燃放 煙花 爆竹 祭 出 嚴 控 姿態 惟 民 眾 仍 堅持 爆竹 一聲 除 舊 歲 其中 京津 冀 大批 民 眾 前晚 開始 燃放 炮仗 令 區域 懸浮粒子 濃度 急 升官 方 公佈 北京 的 空氣 質量 指數 在 昨 凌晨 時 至 時 超過 達 嚴重 污染 的 爆錶 水平 若 用 美國 標準 更 曾 升 至 的 峯值 至 昨早 天明 時 才 有所改善 支那 另外 有一套 標準 香港 行緊 另一 套 標準 支那 點會 放假 毒 霧 吸 慣 京津 照 放炮 仗 污染 爆錶 另一方面 今年 春節 假期 留 在 國內 的 民 眾 則 繼續 忍受 霧霾 之 苦 包括 北京 等 國內 城市 近日 均 對 市民 燃放 煙花 爆竹 祭 出 嚴 控 姿態 惟 民 眾 仍 堅持 爆竹 一聲 除 舊 歲 其中 京津 冀 大批 民 眾 前晚 開始 燃放 炮仗 令 區域 懸浮粒子 濃度 急 升官 方 公佈 北京 的 空氣 質量 指數 在 昨 凌晨 時 至 時 超過 達 嚴重 污染 的 爆錶 水平 若 用 美國 標準 更 曾 升 至 的 峯值 至 昨早 天明 時 才 有所改善 支那 另外 有一套 標準\n",
            "Tokenized:  ['京', '[UNK]', '[UNK]', '[UNK]', '[UNK]', '[UNK]', '[UNK]', '[UNK]', '[UNK]', '[UNK]', '[UNK]', '一', '方', '面', '[UNK]', '年', '春', '[UNK]', '[UNK]', '[UNK]', '[UNK]', '[UNK]', '國', '[UNK]', '的', '民', '[UNK]', '[UNK]', '[UNK]', '[UNK]', '[UNK]', '[UNK]', '[UNK]', '[UNK]', '之', '[UNK]', '[UNK]', '[UNK]', '北', '京', '[UNK]', '國', '[UNK]', '城', '[UNK]', '[UNK]', '日', '[UNK]', '[UNK]', '[UNK]', '民', '[UNK]', '[UNK]', '[UNK]', '花', '[UNK]', '竹', '[UNK]', '出', '[UNK]', '[UNK]', '[UNK]', '[UNK]', '[UNK]', '民', '[UNK]', '[UNK]', '[UNK]', '[UNK]', '[UNK]', '竹', '一', '[UNK]', '[UNK]', '[UNK]', '[UNK]', '[UNK]', '中', '京', '[UNK]', '[UNK]', '大', '[UNK]', '民', '[UNK]', '前', '[UNK]', '[UNK]', '[UNK]', '[UNK]', '[UNK]', '[UNK]', '[UNK]', '[UNK]', '[UNK]', '[UNK]', '[UNK]', '[UNK]', '[UNK]', '子', '[UNK]', '[UNK]', '[UNK]', '[UNK]', '[UNK]', '方', '公', '[UNK]', '北', '京', '的', '空', '[UNK]', '[UNK]', '[UNK]', '[UNK]', '[UNK]', '[UNK]', '[UNK]', '[UNK]', '[UNK]', '[UNK]', '[UNK]', '[UNK]', '[UNK]', '[UNK]', '[UNK]', '[UNK]', '[UNK]', '[UNK]', '[UNK]', '的', '[UNK]', '[UNK]', '水', '平', '[UNK]', '[UNK]', '美', '國', '[UNK]', '[UNK]', '[UNK]', '[UNK]', '[UNK]', '[UNK]', '的', '[UNK]', '[UNK]', '[UNK]', '[UNK]', '[UNK]', '天', '明', '[UNK]', '[UNK]', '有', '[UNK]', '[UNK]', '[UNK]', '京', '[UNK]', '[UNK]', '[UNK]', '[UNK]', '[UNK]', '[UNK]', '[UNK]', '[UNK]', '[UNK]', '[UNK]', '一', '方', '面', '[UNK]', '年', '春', '[UNK]', '[UNK]', '[UNK]', '[UNK]', '[UNK]', '國', '[UNK]', '的', '民', '[UNK]', '[UNK]', '[UNK]', '[UNK]', '[UNK]', '[UNK]', '[UNK]', '[UNK]', '之', '[UNK]', '[UNK]', '[UNK]', '北', '京', '[UNK]', '國', '[UNK]', '城', '[UNK]', '[UNK]', '日', '[UNK]', '[UNK]', '[UNK]', '民', '[UNK]', '[UNK]', '[UNK]', '花', '[UNK]', '竹', '[UNK]', '出', '[UNK]', '[UNK]', '[UNK]', '[UNK]', '[UNK]', '民', '[UNK]', '[UNK]', '[UNK]', '[UNK]', '[UNK]', '竹', '一', '[UNK]', '[UNK]', '[UNK]', '[UNK]', '[UNK]', '中', '京', '[UNK]', '[UNK]', '大', '[UNK]', '民', '[UNK]', '前', '[UNK]', '[UNK]', '[UNK]', '[UNK]', '[UNK]', '[UNK]', '[UNK]', '[UNK]', '[UNK]', '[UNK]', '[UNK]', '[UNK]', '[UNK]', '子', '[UNK]', '[UNK]', '[UNK]', '[UNK]', '[UNK]', '方', '公', '[UNK]', '北', '京', '的', '空', '[UNK]', '[UNK]', '[UNK]', '[UNK]', '[UNK]', '[UNK]', '[UNK]', '[UNK]', '[UNK]', '[UNK]', '[UNK]', '[UNK]', '[UNK]', '[UNK]', '[UNK]', '[UNK]', '[UNK]', '[UNK]', '[UNK]', '的', '[UNK]', '[UNK]', '水', '平', '[UNK]', '[UNK]', '美', '國', '[UNK]', '[UNK]', '[UNK]', '[UNK]', '[UNK]', '[UNK]', '的', '[UNK]', '[UNK]', '[UNK]', '[UNK]', '[UNK]', '天', '明', '[UNK]', '[UNK]', '有', '[UNK]', '[UNK]', '[UNK]', '[UNK]', '[UNK]', '[UNK]', '外', '有', '一', '[UNK]', '[UNK]', '[UNK]', '香', '[UNK]', '行', '[UNK]', '[UNK]', '一', '[UNK]', '[UNK]', '[UNK]', '[UNK]', '[UNK]', '[UNK]', '[UNK]', '[UNK]', '[UNK]', '[UNK]', '[UNK]', '[UNK]', '[UNK]', '京', '[UNK]', '[UNK]', '[UNK]', '[UNK]', '[UNK]', '[UNK]', '[UNK]', '[UNK]', '[UNK]', '[UNK]', '一', '方', '面', '[UNK]', '年', '春', '[UNK]', '[UNK]', '[UNK]', '[UNK]', '[UNK]', '國', '[UNK]', '的', '民', '[UNK]', '[UNK]', '[UNK]', '[UNK]', '[UNK]', '[UNK]', '[UNK]', '[UNK]', '之', '[UNK]', '[UNK]', '[UNK]', '北', '京', '[UNK]', '國', '[UNK]', '城', '[UNK]', '[UNK]', '日', '[UNK]', '[UNK]', '[UNK]', '民', '[UNK]', '[UNK]', '[UNK]', '花', '[UNK]', '竹', '[UNK]', '出', '[UNK]', '[UNK]', '[UNK]', '[UNK]', '[UNK]', '民', '[UNK]', '[UNK]', '[UNK]', '[UNK]', '[UNK]', '竹', '一', '[UNK]', '[UNK]', '[UNK]', '[UNK]', '[UNK]', '中', '京', '[UNK]', '[UNK]', '大', '[UNK]', '民', '[UNK]', '前', '[UNK]', '[UNK]', '[UNK]', '[UNK]', '[UNK]', '[UNK]', '[UNK]', '[UNK]', '[UNK]', '[UNK]', '[UNK]', '[UNK]', '[UNK]', '子', '[UNK]', '[UNK]', '[UNK]', '[UNK]', '[UNK]', '方', '公', '[UNK]', '北', '京', '的', '空', '[UNK]', '[UNK]', '[UNK]', '[UNK]', '[UNK]', '[UNK]', '[UNK]', '[UNK]', '[UNK]', '[UNK]', '[UNK]', '[UNK]', '[UNK]', '[UNK]', '[UNK]', '[UNK]', '[UNK]', '[UNK]', '[UNK]', '的', '[UNK]', '[UNK]', '水', '平', '[UNK]', '[UNK]', '美', '國', '[UNK]', '[UNK]', '[UNK]', '[UNK]', '[UNK]', '[UNK]', '的', '[UNK]', '[UNK]', '[UNK]', '[UNK]', '[UNK]', '天', '明', '[UNK]', '[UNK]', '有', '[UNK]', '[UNK]', '[UNK]', '[UNK]', '[UNK]', '[UNK]', '外', '有', '一', '[UNK]', '[UNK]', '[UNK]']\n",
            "Token IDs:  [1755, 100, 100, 100, 100, 100, 100, 100, 100, 100, 100, 1740, 1863, 1976, 100, 1840, 1867, 100, 100, 100, 100, 100, 1800, 100, 1916, 1892, 100, 100, 100, 100, 100, 100, 100, 100, 1749, 100, 100, 100, 1781, 1755, 100, 1800, 100, 1804, 100, 100, 1864, 100, 100, 100, 1892, 100, 100, 100, 1940, 100, 1933, 100, 1774, 100, 100, 100, 100, 100, 1892, 100, 100, 100, 100, 100, 1933, 1740, 100, 100, 100, 100, 100, 1746, 1755, 100, 100, 1810, 100, 1892, 100, 1776, 100, 100, 100, 100, 100, 100, 100, 100, 100, 100, 100, 100, 100, 1816, 100, 100, 100, 100, 100, 1863, 1772, 100, 1781, 1755, 1916, 1930, 100, 100, 100, 100, 100, 100, 100, 100, 100, 100, 100, 100, 100, 100, 100, 100, 100, 100, 100, 1916, 100, 100, 1893, 1839, 100, 100, 1935, 1800, 100, 100, 100, 100, 100, 100, 1916, 100, 100, 100, 100, 100, 1811, 1865, 100, 100, 1873, 100, 100, 100, 1755, 100, 100, 100, 100, 100, 100, 100, 100, 100, 100, 1740, 1863, 1976, 100, 1840, 1867, 100, 100, 100, 100, 100, 1800, 100, 1916, 1892, 100, 100, 100, 100, 100, 100, 100, 100, 1749, 100, 100, 100, 1781, 1755, 100, 1800, 100, 1804, 100, 100, 1864, 100, 100, 100, 1892, 100, 100, 100, 1940, 100, 1933, 100, 1774, 100, 100, 100, 100, 100, 1892, 100, 100, 100, 100, 100, 1933, 1740, 100, 100, 100, 100, 100, 1746, 1755, 100, 100, 1810, 100, 1892, 100, 1776, 100, 100, 100, 100, 100, 100, 100, 100, 100, 100, 100, 100, 100, 1816, 100, 100, 100, 100, 100, 1863, 1772, 100, 1781, 1755, 1916, 1930, 100, 100, 100, 100, 100, 100, 100, 100, 100, 100, 100, 100, 100, 100, 100, 100, 100, 100, 100, 1916, 100, 100, 1893, 1839, 100, 100, 1935, 1800, 100, 100, 100, 100, 100, 100, 1916, 100, 100, 100, 100, 100, 1811, 1865, 100, 100, 1873, 100, 100, 100, 100, 100, 100, 1809, 1873, 1740, 100, 100, 100, 1979, 100, 1945, 100, 100, 1740, 100, 100, 100, 100, 100, 100, 100, 100, 100, 100, 100, 100, 100, 1755, 100, 100, 100, 100, 100, 100, 100, 100, 100, 100, 1740, 1863, 1976, 100, 1840, 1867, 100, 100, 100, 100, 100, 1800, 100, 1916, 1892, 100, 100, 100, 100, 100, 100, 100, 100, 1749, 100, 100, 100, 1781, 1755, 100, 1800, 100, 1804, 100, 100, 1864, 100, 100, 100, 1892, 100, 100, 100, 1940, 100, 1933, 100, 1774, 100, 100, 100, 100, 100, 1892, 100, 100, 100, 100, 100, 1933, 1740, 100, 100, 100, 100, 100, 1746, 1755, 100, 100, 1810, 100, 1892, 100, 1776, 100, 100, 100, 100, 100, 100, 100, 100, 100, 100, 100, 100, 100, 1816, 100, 100, 100, 100, 100, 1863, 1772, 100, 1781, 1755, 1916, 1930, 100, 100, 100, 100, 100, 100, 100, 100, 100, 100, 100, 100, 100, 100, 100, 100, 100, 100, 100, 1916, 100, 100, 1893, 1839, 100, 100, 1935, 1800, 100, 100, 100, 100, 100, 100, 1916, 100, 100, 100, 100, 100, 1811, 1865, 100, 100, 1873, 100, 100, 100, 100, 100, 100, 1809, 1873, 1740, 100, 100, 100]\n"
          ]
        }
      ],
      "source": [
        "# Print the original sentence.\n",
        "print(' Original: ', sentences[1])\n",
        "\n",
        "# Print the sentence split into tokens.\n",
        "print('Tokenized: ', tokenizer.tokenize(sentences[1]))\n",
        "\n",
        "# Print the sentence mapped to token ids.\n",
        "print('Token IDs: ', tokenizer.convert_tokens_to_ids(tokenizer.tokenize(sentences[1])))"
      ]
    },
    {
      "cell_type": "code",
      "execution_count": null,
      "metadata": {
        "id": "UFL3CbKwt4NW",
        "colab": {
          "base_uri": "https://localhost:8080/"
        },
        "outputId": "df3e33cd-4245-4498-bd25-4a9825789084"
      },
      "outputs": [
        {
          "output_type": "stream",
          "name": "stderr",
          "text": [
            "Token indices sequence length is longer than the specified maximum sequence length for this model (519 > 512). Running this sequence through the model will result in indexing errors\n"
          ]
        },
        {
          "output_type": "stream",
          "name": "stdout",
          "text": [
            "Max sentence length:  14874\n"
          ]
        }
      ],
      "source": [
        "max_len = 0\n",
        "\n",
        "# For every sentence...\n",
        "for sent in sentences:\n",
        "\n",
        "    # Tokenize the text and add `[CLS]` and `[SEP]` tokens.\n",
        "    input_ids = tokenizer.encode(sent, add_special_tokens=True)\n",
        "\n",
        "    # Update the maximum sentence length.\n",
        "    max_len = max(max_len, len(input_ids))\n",
        "\n",
        "print('Max sentence length: ', max_len)"
      ]
    },
    {
      "cell_type": "code",
      "execution_count": null,
      "metadata": {
        "id": "5UPFtU7zLinm",
        "colab": {
          "base_uri": "https://localhost:8080/"
        },
        "outputId": "1b2672a8-5c46-473a-8c48-b4b7d06116d9"
      },
      "outputs": [
        {
          "output_type": "stream",
          "name": "stdout",
          "text": [
            "Original:  講錢 實際 件 產品 服務 做 咪有 人 幫襯 相反 做 無咁 消失 聽到 小 商戶 做 住 事實 就係 無人 幫襯 夠 人 支持 的 消費 就係 表態 福 喜 黑心 肉 員工 食飯 無 飯 鐘 錢 全部 市民 支持 先 出現 唔好 將 責任 全部 推 俾 無良 商人 無 的 支持 點會 成功 一句 哂 新 一年 表態 消費 做 起\n",
            "Token IDs: tensor([ 101,  100,  100,  100,  100,  100,  100,  100,  100,  100,  100,  100,\n",
            "        1873, 1756,  100,  100, 1919,  100,  100,  100,  100,  100,  100,  100,\n",
            "         100, 1829,  100,  100,  100,  100, 1751,  100,  100,  100,  100, 1756,\n",
            "         100,  100,  100, 1756,  100,  100, 1916,  100,  100,  100,  100,  100,\n",
            "         100, 1926,  100,  100, 1849,  100,  100,  100, 1978,  100,  100,  100,\n",
            "         100,  100,  100,  102])\n",
            "torch.Size([6089])\n"
          ]
        }
      ],
      "source": [
        "# Tokenize all of the sentences and map the tokens to thier word IDs.\n",
        "# Convert the labels to a NumPy array\n",
        "\n",
        "labels_array = df.Category[1:].values.astype(float)\n",
        "\n",
        "# Convert the NumPy array to a tensor\n",
        "#labels = torch.tensor(labels_array)\n",
        "labels = torch.tensor(labels_array, dtype=torch.long)\n",
        "\n",
        "\n",
        "input_ids = []\n",
        "attention_masks = []\n",
        "labels_list = []\n",
        "\n",
        "# For every sentence...\n",
        "for sent in sentences:\n",
        "    # `encode_plus` will:\n",
        "    #   (1) Tokenize the sentence.\n",
        "    #   (2) Prepend the `[CLS]` token to the start.\n",
        "    #   (3) Append the `[SEP]` token to the end.\n",
        "    #   (4) Map tokens to their IDs.\n",
        "    #   (5) Pad or truncate the sentence to `max_length`\n",
        "    #   (6) Create attention masks for [PAD] tokens.\n",
        "    encoded_dict = tokenizer.encode_plus(\n",
        "                        sent,                      # Sentence to encode.\n",
        "                        add_special_tokens = True, # Add '[CLS]' and '[SEP]'\n",
        "                        max_length = 64,           # Pad & truncate all sentences.\n",
        "\n",
        "                        padding='max_length',  # Use the new padding argument\n",
        "                        truncation=True,  # Explicitly activate truncation\n",
        "                        #pad_to_max_length = True,\n",
        "                        return_attention_mask = True,   # Construct attn. masks.\n",
        "                        return_tensors = 'pt',     # Return pytorch tensors.\n",
        "                   )\n",
        "\n",
        "    # Add the encoded sentence to the list.\n",
        "    input_ids.append(encoded_dict['input_ids'])\n",
        "\n",
        "    # And its attention mask (simply differentiates padding from non-padding).\n",
        "    attention_masks.append(encoded_dict['attention_mask'])\n",
        "\n",
        "    #labels_list.append(label)\n",
        "\n",
        "# Convert the lists into tensors.\n",
        "input_ids = torch.cat(input_ids, dim=0)\n",
        "attention_masks = torch.cat(attention_masks, dim=0)\n",
        "\n",
        "#labels = torch.tensor(labels)\n",
        "#labels = torch.tensor(labels, dtype=torch.long)\n",
        "# Convert the labels array to a list\n",
        "#labels = torch.cat(labels_list, dim=0)\n",
        "#labels = torch.tensor(labels_list)\n",
        "#labels = torch.tensor(labels).clone().detach()\n",
        "\n",
        "\n",
        "\n",
        "# 將 labels 的大小從 (6089,) 擴展為 (6089, 1)\n",
        "#labels = labels.unsqueeze(1)\n",
        "\n",
        "# 使用 expand 將 labels 的大小擴展為 (6089, 256)\n",
        "#labels = labels.expand(-1, 256)\n",
        "\n",
        "\n",
        "\n",
        "print('Original: ', sentences[2])\n",
        "print('Token IDs:', input_ids[2])\n",
        "print(labels.shape)"
      ]
    },
    {
      "cell_type": "code",
      "execution_count": null,
      "metadata": {
        "id": "Mqo9PbIWOIQX",
        "colab": {
          "base_uri": "https://localhost:8080/"
        },
        "outputId": "7789b96e-81dc-4bd8-f94f-daa98c3ad083"
      },
      "outputs": [
        {
          "output_type": "stream",
          "name": "stdout",
          "text": [
            "torch.Size([6089, 64])\n",
            "torch.Size([6089, 64])\n",
            "torch.Size([6089])\n"
          ]
        }
      ],
      "source": [
        "print(input_ids.size())\n",
        "print(attention_masks.size())\n",
        "print(labels.size())\n"
      ]
    },
    {
      "cell_type": "code",
      "execution_count": null,
      "metadata": {
        "id": "qXkGLQV8Q4Oo"
      },
      "outputs": [],
      "source": [
        "########## if run this step the size become （6089，） dont run！！\n",
        "\n",
        "#labels_array = df.Category[1:].values.astype(float)\n",
        "\n",
        "# Convert the NumPy array to a tensor\n",
        "#labels = torch.tensor(labels_array)\n",
        "#print(labels.size())"
      ]
    },
    {
      "cell_type": "code",
      "execution_count": null,
      "metadata": {
        "id": "bahVORyrijCT",
        "colab": {
          "base_uri": "https://localhost:8080/"
        },
        "outputId": "6dde5236-a747-4a51-f51f-007e669c923c"
      },
      "outputs": [
        {
          "output_type": "stream",
          "name": "stdout",
          "text": [
            "5,480 training samples\n",
            "  609 validation samples\n"
          ]
        }
      ],
      "source": [
        "from torch.utils.data import TensorDataset, random_split\n",
        "\n",
        "\n",
        "#labels = df['Category'][1:].astype(float).astype(int).values\n",
        "#labels = df['Category'][1:].astype(int).values\n",
        "#labels = torch.tensor(labels).long()\n",
        "# 将标签转换为整数类型\n",
        "#labels = labels.long()\n",
        "# 将标签转换为整数类型\n",
        "#labels = torch.tensor(df['Category'][1:].values).long()\n",
        "\n",
        "# Combine the training inputs into a TensorDataset.\n",
        "dataset = TensorDataset(input_ids, attention_masks, labels)\n",
        "\n",
        "# Create a 90-10 train-validation split.\n",
        "\n",
        "# Calculate the number of samples to include in each set.\n",
        "train_size = int(0.9 * len(dataset))\n",
        "val_size = len(dataset) - train_size\n",
        "\n",
        "# Divide the dataset by randomly selecting samples.\n",
        "train_dataset, val_dataset = random_split(dataset, [train_size, val_size])\n",
        "\n",
        "print('{:>5,} training samples'.format(train_size))\n",
        "print('{:>5,} validation samples'.format(val_size))"
      ]
    },
    {
      "cell_type": "code",
      "execution_count": null,
      "metadata": {
        "id": "k53XkpGFjTfR",
        "colab": {
          "base_uri": "https://localhost:8080/"
        },
        "outputId": "8f65aa68-ec12-4cdd-f71e-b830b7509aa0"
      },
      "outputs": [
        {
          "output_type": "stream",
          "name": "stdout",
          "text": [
            "tensor([ 4,  5,  6,  7,  8,  9, 10, 11, 12, 13, 14, 15, 16, 17, 18, 19, 20, 21,\n",
            "        22, 23, 24, 25, 26, 27, 28, 30, 31, 32, 33, 34, 35, 36, 37, 38, 39, 40,\n",
            "        41])\n"
          ]
        }
      ],
      "source": [
        "import torch\n",
        "\n",
        "# 检查标签中的不同类别值\n",
        "unique_labels = torch.unique(labels)\n",
        "print(unique_labels)"
      ]
    },
    {
      "cell_type": "code",
      "execution_count": null,
      "metadata": {
        "id": "WCvrMQ78SYsP"
      },
      "outputs": [],
      "source": [
        "from torch.utils.data import DataLoader, RandomSampler, SequentialSampler\n",
        "\n",
        "# The DataLoader needs to know our batch size for training, so we specify it\n",
        "# here. For fine-tuning BERT on a specific task, the authors recommend a batch\n",
        "# size of 16 or 32.\n",
        "batch_size = 16\n",
        "\n",
        "# Create the DataLoaders for our training and validation sets.\n",
        "# We'll take training samples in random order.\n",
        "train_dataloader = DataLoader(\n",
        "            train_dataset,  # The training samples.\n",
        "            sampler = RandomSampler(train_dataset), # Select batches randomly\n",
        "            batch_size = batch_size # Trains with this batch size.\n",
        "        )\n",
        "\n",
        "# For validation the order doesn't matter, so we'll just read them sequentially.\n",
        "validation_dataloader = DataLoader(\n",
        "            val_dataset, # The validation samples.\n",
        "            sampler = SequentialSampler(val_dataset), # Pull out batches sequentially.\n",
        "            batch_size = batch_size # Evaluate with this batch size.\n",
        "        )"
      ]
    },
    {
      "cell_type": "code",
      "execution_count": null,
      "metadata": {
        "id": "RGPI2Bv_Sdhm"
      },
      "outputs": [],
      "source": [
        "### 4. Train Our Classification Model"
      ]
    },
    {
      "cell_type": "code",
      "execution_count": null,
      "metadata": {
        "id": "uoNfNu22VhJd",
        "colab": {
          "base_uri": "https://localhost:8080/"
        },
        "outputId": "81c51537-eb6f-4a03-a24d-123738cb933b"
      },
      "outputs": [
        {
          "output_type": "stream",
          "name": "stdout",
          "text": [
            "37\n"
          ]
        }
      ],
      "source": [
        "import pandas as pd\n",
        "\n",
        "\n",
        "unique_classes = df['Category'][1:].nunique()\n",
        "\n",
        "print(unique_classes)  # 輸出不同分類的數量"
      ]
    },
    {
      "cell_type": "code",
      "execution_count": null,
      "metadata": {
        "id": "IdiEO9O-ShkJ",
        "colab": {
          "base_uri": "https://localhost:8080/"
        },
        "outputId": "416e1903-de67-476b-deb2-2b156814d03f"
      },
      "outputs": [
        {
          "output_type": "stream",
          "name": "stderr",
          "text": [
            "Some weights of BertForSequenceClassification were not initialized from the model checkpoint at bert-base-uncased and are newly initialized: ['classifier.bias', 'classifier.weight']\n",
            "You should probably TRAIN this model on a down-stream task to be able to use it for predictions and inference.\n"
          ]
        }
      ],
      "source": [
        "from transformers import BertForSequenceClassification, AdamW, BertConfig\n",
        "\n",
        "# Load BertForSequenceClassification, the pretrained BERT model with a single\n",
        "# linear classification layer on top.\n",
        "model = BertForSequenceClassification.from_pretrained(\n",
        "    \"bert-base-uncased\", # Use the 12-layer BERT model, with an uncased vocab.\n",
        "    num_labels = 41, # The number of output labels--2 for binary classification.\n",
        "                    # You can increase this for multi-class tasks.\n",
        "    output_attentions = False, # Whether the model returns attentions weights.\n",
        "    output_hidden_states = False, # Whether the model returns all hidden-states.\n",
        ")\n",
        "\n",
        "# Tell pytorch to run this model on the GPU.\n",
        "\n",
        "#model.cuda()"
      ]
    },
    {
      "cell_type": "code",
      "execution_count": null,
      "metadata": {
        "id": "xuGCiNMMWSDx",
        "colab": {
          "base_uri": "https://localhost:8080/"
        },
        "outputId": "30ad5af7-7423-4c62-90f6-054d6c6f6529"
      },
      "outputs": [
        {
          "output_type": "stream",
          "name": "stdout",
          "text": [
            "The BERT model has 201 different named parameters.\n",
            "\n",
            "==== Embedding Layer ====\n",
            "\n",
            "bert.embeddings.word_embeddings.weight                  (30522, 768)\n",
            "bert.embeddings.position_embeddings.weight                (512, 768)\n",
            "bert.embeddings.token_type_embeddings.weight                (2, 768)\n",
            "bert.embeddings.LayerNorm.weight                              (768,)\n",
            "bert.embeddings.LayerNorm.bias                                (768,)\n",
            "\n",
            "==== First Transformer ====\n",
            "\n",
            "bert.encoder.layer.0.attention.self.query.weight          (768, 768)\n",
            "bert.encoder.layer.0.attention.self.query.bias                (768,)\n",
            "bert.encoder.layer.0.attention.self.key.weight            (768, 768)\n",
            "bert.encoder.layer.0.attention.self.key.bias                  (768,)\n",
            "bert.encoder.layer.0.attention.self.value.weight          (768, 768)\n",
            "bert.encoder.layer.0.attention.self.value.bias                (768,)\n",
            "bert.encoder.layer.0.attention.output.dense.weight        (768, 768)\n",
            "bert.encoder.layer.0.attention.output.dense.bias              (768,)\n",
            "bert.encoder.layer.0.attention.output.LayerNorm.weight        (768,)\n",
            "bert.encoder.layer.0.attention.output.LayerNorm.bias          (768,)\n",
            "bert.encoder.layer.0.intermediate.dense.weight           (3072, 768)\n",
            "bert.encoder.layer.0.intermediate.dense.bias                 (3072,)\n",
            "bert.encoder.layer.0.output.dense.weight                 (768, 3072)\n",
            "bert.encoder.layer.0.output.dense.bias                        (768,)\n",
            "bert.encoder.layer.0.output.LayerNorm.weight                  (768,)\n",
            "bert.encoder.layer.0.output.LayerNorm.bias                    (768,)\n",
            "\n",
            "==== Output Layer ====\n",
            "\n",
            "bert.pooler.dense.weight                                  (768, 768)\n",
            "bert.pooler.dense.bias                                        (768,)\n",
            "classifier.weight                                          (41, 768)\n",
            "classifier.bias                                                (41,)\n"
          ]
        }
      ],
      "source": [
        "# Get all of the model's parameters as a list of tuples.\n",
        "params = list(model.named_parameters())\n",
        "\n",
        "print('The BERT model has {:} different named parameters.\\n'.format(len(params)))\n",
        "\n",
        "print('==== Embedding Layer ====\\n')\n",
        "\n",
        "for p in params[0:5]:\n",
        "    print(\"{:<55} {:>12}\".format(p[0], str(tuple(p[1].size()))))\n",
        "\n",
        "print('\\n==== First Transformer ====\\n')\n",
        "\n",
        "for p in params[5:21]:\n",
        "    print(\"{:<55} {:>12}\".format(p[0], str(tuple(p[1].size()))))\n",
        "\n",
        "print('\\n==== Output Layer ====\\n')\n",
        "\n",
        "for p in params[-4:]:\n",
        "    print(\"{:<55} {:>12}\".format(p[0], str(tuple(p[1].size()))))"
      ]
    },
    {
      "cell_type": "code",
      "execution_count": null,
      "metadata": {
        "id": "E2i3z5-xWsfs",
        "colab": {
          "base_uri": "https://localhost:8080/"
        },
        "outputId": "706396c9-d3e1-4a18-f97f-fb2451ad9628"
      },
      "outputs": [
        {
          "output_type": "stream",
          "name": "stderr",
          "text": [
            "/usr/local/lib/python3.10/dist-packages/transformers/optimization.py:429: FutureWarning: This implementation of AdamW is deprecated and will be removed in a future version. Use the PyTorch implementation torch.optim.AdamW instead, or set `no_deprecation_warning=True` to disable this warning\n",
            "  warnings.warn(\n"
          ]
        }
      ],
      "source": [
        "# Note: AdamW is a class from the huggingface library (as opposed to pytorch)\n",
        "# I believe the 'W' stands for 'Weight Decay fix\"\n",
        "optimizer = AdamW(model.parameters(),\n",
        "                  lr = 2e-5, # args.learning_rate - default is 5e-5, our notebook had 2e-5\n",
        "                  eps = 1e-8 # args.adam_epsilon  - default is 1e-8.\n",
        "                )\n"
      ]
    },
    {
      "cell_type": "code",
      "execution_count": null,
      "metadata": {
        "id": "Jq8KTv99W4sO"
      },
      "outputs": [],
      "source": [
        "optimizer = torch.optim.AdamW(model.parameters(),\n",
        "                  lr = 2e-5, # args.learning_rate - default is 5e-5, our notebook had 2e-5\n",
        "                  eps = 1e-8 # args.adam_epsilon  - default is 1e-8.\n",
        "                )"
      ]
    },
    {
      "cell_type": "code",
      "execution_count": null,
      "metadata": {
        "id": "A0z2WMekXI6g"
      },
      "outputs": [],
      "source": [
        "from transformers import get_linear_schedule_with_warmup\n",
        "\n",
        "# Number of training epochs. The BERT authors recommend between 2 and 4.\n",
        "# We chose to run for 4, but we'll see later that this may be over-fitting the\n",
        "# training data.\n",
        "epochs = 4\n",
        "\n",
        "# Total number of training steps is [number of batches] x [number of epochs].\n",
        "# (Note that this is not the same as the number of training samples).\n",
        "total_steps = len(train_dataloader) * epochs\n",
        "\n",
        "# Create the learning rate scheduler.\n",
        "scheduler = get_linear_schedule_with_warmup(optimizer,\n",
        "                                            num_warmup_steps = 0, # Default value in run_glue.py\n",
        "                                            num_training_steps = total_steps)"
      ]
    },
    {
      "cell_type": "code",
      "execution_count": null,
      "metadata": {
        "id": "wVy7NzjDXq9U"
      },
      "outputs": [],
      "source": [
        "import numpy as np\n",
        "\n",
        "# Function to calculate the accuracy of our predictions vs labels\n",
        "def flat_accuracy(preds, labels):\n",
        "    pred_flat = np.argmax(preds, axis=1).flatten()\n",
        "    labels_flat = labels.flatten()\n",
        "    return np.sum(pred_flat == labels_flat) / len(labels_flat)"
      ]
    },
    {
      "cell_type": "code",
      "execution_count": null,
      "metadata": {
        "id": "1b9UiweLYuae"
      },
      "outputs": [],
      "source": [
        "import time\n",
        "import datetime\n",
        "\n",
        "def format_time(elapsed):\n",
        "    '''\n",
        "    Takes a time in seconds and returns a string hh:mm:ss\n",
        "    '''\n",
        "    # Round to the nearest second.\n",
        "    elapsed_rounded = int(round((elapsed)))\n",
        "\n",
        "    # Format as hh:mm:ss\n",
        "    return str(datetime.timedelta(seconds=elapsed_rounded))"
      ]
    },
    {
      "cell_type": "code",
      "execution_count": null,
      "metadata": {
        "id": "oXeEO4bwY432",
        "colab": {
          "base_uri": "https://localhost:8080/"
        },
        "outputId": "f2093aa6-f2aa-4aa3-e383-b494cbbeee29"
      },
      "outputs": [
        {
          "output_type": "stream",
          "name": "stdout",
          "text": [
            "\n",
            "======== Epoch 1 / 4 ========\n",
            "Training...\n",
            "  Batch    40  of    343.    Elapsed: 0:06:27.\n"
          ]
        }
      ],
      "source": [
        "import random\n",
        "import numpy as np\n",
        "\n",
        "# This training code is based on the `run_glue.py` script here:\n",
        "# https://github.com/huggingface/transformers/blob/5bfcd0485ece086ebcbed2d008813037968a9e58/examples/run_glue.py#L128\n",
        "\n",
        "\n",
        "# Set the seed value all over the place to make this reproducible.\n",
        "seed_val = 42\n",
        "\n",
        "random.seed(seed_val)\n",
        "np.random.seed(seed_val)\n",
        "torch.manual_seed(seed_val)\n",
        "torch.cuda.manual_seed_all(seed_val)\n",
        "\n",
        "# We'll store a number of quantities such as training and validation loss,\n",
        "# validation accuracy, and timings.\n",
        "training_stats = []\n",
        "\n",
        "# Measure the total training time for the whole run.\n",
        "total_t0 = time.time()\n",
        "\n",
        "\n",
        "\n",
        "\n",
        "# For each epoch...\n",
        "for epoch_i in range(0, epochs):\n",
        "\n",
        "    # ========================================\n",
        "    #               Training\n",
        "    # ========================================\n",
        "\n",
        "    # Perform one full pass over the training set.\n",
        "\n",
        "    print(\"\")\n",
        "    print('======== Epoch {:} / {:} ========'.format(epoch_i + 1, epochs))\n",
        "    print('Training...')\n",
        "\n",
        "    # Measure how long the training epoch takes.\n",
        "    t0 = time.time()\n",
        "\n",
        "    # Reset the total loss for this epoch.\n",
        "    total_train_loss = 0\n",
        "\n",
        "\n",
        "\n",
        "    # Put the model into training mode. Don't be mislead--the call to\n",
        "    # `train` just changes the *mode*, it doesn't *perform* the training.\n",
        "    # `dropout` and `batchnorm` layers behave differently during training\n",
        "    # vs. test (source: https://stackoverflow.com/questions/51433378/what-does-model-train-do-in-pytorch)\n",
        "    model.train()\n",
        "\n",
        "    #train_dataloader = DataLoader(train_dataset, batch_size=32, shuffle=True)\n",
        "\n",
        "    # For each batch of training data...\n",
        "    for step, batch in enumerate(train_dataloader):\n",
        "\n",
        "        # Progress update every 40 batches.\n",
        "        if step % 40 == 0 and not step == 0:\n",
        "            # Calculate elapsed time in minutes.\n",
        "            elapsed = format_time(time.time() - t0)\n",
        "\n",
        "            # Report progress.\n",
        "            print('  Batch {:>5,}  of  {:>5,}.    Elapsed: {:}.'.format(step, len(train_dataloader), elapsed))\n",
        "\n",
        "        # Unpack this training batch from our dataloader.\n",
        "        #\n",
        "        # As we unpack the batch, we'll also copy each tensor to the GPU using the\n",
        "        # `to` method.\n",
        "        #\n",
        "        # `batch` contains three pytorch tensors:\n",
        "        #   [0]: input ids\n",
        "        #   [1]: attention masks\n",
        "        #   [2]: labels\n",
        "        b_input_ids = batch[0].to(device)\n",
        "        b_input_mask = batch[1].to(device)\n",
        "        b_labels = batch[2].to(device)\n",
        "        #b_labels = b_labels.float()\n",
        "        # Always clear any previously calculated gradients before performing a\n",
        "        # backward pass. PyTorch doesn't do this automatically because\n",
        "        # accumulating the gradients is \"convenient while training RNNs\".\n",
        "        # (source: https://stackoverflow.com/questions/48001598/why-do-we-need-to-call-zero-grad-in-pytorch)\n",
        "        model.zero_grad()\n",
        "\n",
        "        # Perform a forward pass (evaluate the model on this training batch).\n",
        "        # The documentation for this `model` function is here:\n",
        "        # https://huggingface.co/transformers/v2.2.0/model_doc/bert.html#transformers.BertForSequenceClassification\n",
        "        # It returns different numbers of parameters depending on what arguments\n",
        "        # arge given and what flags are set. For our useage here, it returns\n",
        "        # the loss (because we provided labels) and the \"logits\"--the model\n",
        "        # outputs prior to activation.\n",
        "\n",
        "        #b_labels = b_labels.float()\n",
        "\n",
        "        loss, logits = model(b_input_ids,\n",
        "                             token_type_ids=None,\n",
        "                             attention_mask=b_input_mask,\n",
        "                             labels=b_labels\n",
        "                             ).to_tuple()\n",
        "\n",
        "        # Accumulate the training loss over all of the batches so that we can\n",
        "        # calculate the average loss at the end. `loss` is a Tensor containing a\n",
        "        # single value; the `.item()` function just returns the Python value\n",
        "        # from the tensor.\n",
        "        total_train_loss += loss.item()\n",
        "\n",
        "        # Perform a backward pass to calculate the gradients.\n",
        "        loss.backward()\n",
        "\n",
        "        # Clip the norm of the gradients to 1.0.\n",
        "        # This is to help prevent the \"exploding gradients\" problem.\n",
        "        torch.nn.utils.clip_grad_norm_(model.parameters(), 1.0)\n",
        "\n",
        "        # Update parameters and take a step using the computed gradient.\n",
        "        # The optimizer dictates the \"update rule\"--how the parameters are\n",
        "        # modified based on their gradients, the learning rate, etc.\n",
        "        optimizer.step()\n",
        "\n",
        "        # Update the learning rate.\n",
        "        scheduler.step()\n",
        "\n",
        "    # Calculate the average loss over all of the batches.\n",
        "    avg_train_loss = total_train_loss / len(train_dataloader)\n",
        "\n",
        "    # Measure how long this epoch took.\n",
        "    training_time = format_time(time.time() - t0)\n",
        "\n",
        "    print(\"\")\n",
        "    print(\"  Average training loss: {0:.2f}\".format(avg_train_loss))\n",
        "    print(\"  Training epcoh took: {:}\".format(training_time))\n",
        "\n",
        "    # ========================================\n",
        "    #               Validation\n",
        "    # ========================================\n",
        "    # After the completion of each training epoch, measure our performance on\n",
        "    # our validation set.\n",
        "\n",
        "    print(\"\")\n",
        "    print(\"Running Validation...\")\n",
        "\n",
        "    t0 = time.time()\n",
        "\n",
        "    # Put the model in evaluation mode--the dropout layers behave differently\n",
        "    # during evaluation.\n",
        "    model.eval()\n",
        "\n",
        "    # Tracking variables\n",
        "    total_eval_accuracy = 0\n",
        "    total_eval_loss = 0\n",
        "    nb_eval_steps = 0\n",
        "\n",
        "    # Evaluate data for one epoch\n",
        "    for batch in validation_dataloader:\n",
        "\n",
        "        # Unpack this training batch from our dataloader.\n",
        "        #\n",
        "        # As we unpack the batch, we'll also copy each tensor to the GPU using\n",
        "        # the `to` method.\n",
        "        #\n",
        "        # `batch` contains three pytorch tensors:\n",
        "        #   [0]: input ids\n",
        "        #   [1]: attention masks\n",
        "        #   [2]: labels\n",
        "        b_input_ids = batch[0].to(device)\n",
        "        b_input_mask = batch[1].to(device)\n",
        "        b_labels = batch[2].to(device)\n",
        "\n",
        "\n",
        "        # Tell pytorch not to bother with constructing the compute graph during\n",
        "        # the forward pass, since this is only needed for backprop (training).\n",
        "        with torch.no_grad():\n",
        "\n",
        "            # Forward pass, calculate logit predictions.\n",
        "            # token_type_ids is the same as the \"segment ids\", which\n",
        "            # differentiates sentence 1 and 2 in 2-sentence tasks.\n",
        "            # The documentation for this `model` function is here:\n",
        "            # https://huggingface.co/transformers/v2.2.0/model_doc/bert.html#transformers.BertForSequenceClassification\n",
        "            # Get the \"logits\" output by the model. The \"logits\" are the output\n",
        "            # values prior to applying an activation function like the softmax.\n",
        "            (loss, logits) = model(b_input_ids,\n",
        "                                   token_type_ids=None,\n",
        "                                   attention_mask=b_input_mask,\n",
        "                                   labels=b_labels).to_tuple()\n",
        "\n",
        "        # Accumulate the validation loss.\n",
        "        total_eval_loss += loss.item()\n",
        "\n",
        "        # Move logits and labels to CPU\n",
        "        logits = logits.detach().cpu().numpy()\n",
        "        label_ids = b_labels.to('cpu').numpy()\n",
        "\n",
        "        # Calculate the accuracy for this batch of test sentences, and\n",
        "        # accumulate it over all batches.\n",
        "        total_eval_accuracy += flat_accuracy(logits, label_ids)\n",
        "\n",
        "\n",
        "    # Report the final accuracy for this validation run.\n",
        "    avg_val_accuracy = total_eval_accuracy / len(validation_dataloader)\n",
        "    print(\"  Accuracy: {0:.2f}\".format(avg_val_accuracy))\n",
        "\n",
        "    # Calculate the average loss over all of the batches.\n",
        "    avg_val_loss = total_eval_loss / len(validation_dataloader)\n",
        "\n",
        "    # Measure how long the validation run took.\n",
        "    validation_time = format_time(time.time() - t0)\n",
        "\n",
        "    print(\"  Validation Loss: {0:.2f}\".format(avg_val_loss))\n",
        "    print(\"  Validation took: {:}\".format(validation_time))\n",
        "\n",
        "    # Record all statistics from this epoch.\n",
        "    training_stats.append(\n",
        "        {\n",
        "            'epoch': epoch_i + 1,\n",
        "            'Training Loss': avg_train_loss,\n",
        "            'Valid. Loss': avg_val_loss,\n",
        "            'Valid. Accur.': avg_val_accuracy,\n",
        "            'Training Time': training_time,\n",
        "            'Validation Time': validation_time\n",
        "        }\n",
        "    )\n",
        "\n",
        "print(\"\")\n",
        "print(\"Training complete!\")\n",
        "\n",
        "print(\"Total training took {:} (h:mm:ss)\".format(format_time(time.time()-total_t0)))"
      ]
    },
    {
      "cell_type": "code",
      "source": [
        "# 保存模型参数\n",
        "torch.save(model.state_dict(), 'BERT.pth')"
      ],
      "metadata": {
        "id": "v5clcX1sblSM"
      },
      "execution_count": null,
      "outputs": []
    },
    {
      "cell_type": "code",
      "source": [
        "model.load_state_dict(torch.load('BERT.pth'))"
      ],
      "metadata": {
        "colab": {
          "base_uri": "https://localhost:8080/"
        },
        "id": "AhSI7fq8bt6D",
        "outputId": "c2c3bcdd-26cf-4fca-aa3e-d7ce64cf0771"
      },
      "execution_count": null,
      "outputs": [
        {
          "output_type": "execute_result",
          "data": {
            "text/plain": [
              "<All keys matched successfully>"
            ]
          },
          "metadata": {},
          "execution_count": 120
        }
      ]
    },
    {
      "cell_type": "code",
      "source": [
        "from google.colab import drive\n",
        "drive.mount('/content/drive')"
      ],
      "metadata": {
        "id": "DuzQFZbca798"
      },
      "execution_count": null,
      "outputs": []
    },
    {
      "cell_type": "code",
      "source": [
        "!pip install --upgrade pydrive"
      ],
      "metadata": {
        "id": "fPOZ-1-EZKas"
      },
      "execution_count": null,
      "outputs": []
    },
    {
      "cell_type": "code",
      "source": [
        "from pydrive.auth import GoogleAuth\n",
        "from pydrive.drive import GoogleDrive\n",
        "from google.colab import auth\n",
        "from oauth2client.client import GoogleCredentials\n",
        "\n",
        "# 授权Colab访问Google Drive\n",
        "auth.authenticate_user()\n",
        "gauth = GoogleAuth()\n",
        "gauth.credentials = GoogleCredentials.get_application_default()\n",
        "drive = GoogleDrive(gauth)"
      ],
      "metadata": {
        "id": "rEVYHnzwaAjf"
      },
      "execution_count": null,
      "outputs": []
    },
    {
      "cell_type": "code",
      "source": [],
      "metadata": {
        "id": "GbWp22DjaAxA"
      },
      "execution_count": null,
      "outputs": []
    },
    {
      "cell_type": "code",
      "source": [
        "b_input_ids.shape\n",
        "#b_input_mask.type()\n",
        "#b_labels.type()"
      ],
      "metadata": {
        "id": "OE-I8TTgKvz2",
        "colab": {
          "base_uri": "https://localhost:8080/"
        },
        "outputId": "7b189db7-9c40-4fc3-b6b0-4bd8c01eeeba"
      },
      "execution_count": null,
      "outputs": [
        {
          "output_type": "execute_result",
          "data": {
            "text/plain": [
              "torch.Size([16, 64])"
            ]
          },
          "metadata": {},
          "execution_count": 60
        }
      ]
    },
    {
      "cell_type": "code",
      "source": [
        "output_dim = model.classifier.out_features  # 假設模型是BertForSequenceClassification\n",
        "print(\"Output dimension:\", output_dim)\n",
        "print(\"Number of target classes:\", len(labels))  # 請替換為您的目標類別的數量"
      ],
      "metadata": {
        "colab": {
          "base_uri": "https://localhost:8080/"
        },
        "id": "ZfYvvi3cLI6F",
        "outputId": "6ca2b3e6-4114-4780-c43c-84261021db70"
      },
      "execution_count": null,
      "outputs": [
        {
          "output_type": "stream",
          "name": "stdout",
          "text": [
            "Output dimension: 37\n",
            "Number of target classes: 6089\n"
          ]
        }
      ]
    },
    {
      "cell_type": "code",
      "source": [
        "print(\"Model input:\")\n",
        "print(model.config)"
      ],
      "metadata": {
        "colab": {
          "base_uri": "https://localhost:8080/"
        },
        "id": "SfQwCFswMIbP",
        "outputId": "5eb268bc-1545-437a-8fc5-312f7fd59310"
      },
      "execution_count": null,
      "outputs": [
        {
          "output_type": "stream",
          "name": "stdout",
          "text": [
            "Model input:\n",
            "BertConfig {\n",
            "  \"_name_or_path\": \"bert-base-uncased\",\n",
            "  \"architectures\": [\n",
            "    \"BertForMaskedLM\"\n",
            "  ],\n",
            "  \"attention_probs_dropout_prob\": 0.1,\n",
            "  \"classifier_dropout\": null,\n",
            "  \"gradient_checkpointing\": false,\n",
            "  \"hidden_act\": \"gelu\",\n",
            "  \"hidden_dropout_prob\": 0.1,\n",
            "  \"hidden_size\": 768,\n",
            "  \"id2label\": {\n",
            "    \"0\": \"LABEL_0\",\n",
            "    \"1\": \"LABEL_1\",\n",
            "    \"2\": \"LABEL_2\",\n",
            "    \"3\": \"LABEL_3\",\n",
            "    \"4\": \"LABEL_4\",\n",
            "    \"5\": \"LABEL_5\",\n",
            "    \"6\": \"LABEL_6\",\n",
            "    \"7\": \"LABEL_7\",\n",
            "    \"8\": \"LABEL_8\",\n",
            "    \"9\": \"LABEL_9\",\n",
            "    \"10\": \"LABEL_10\",\n",
            "    \"11\": \"LABEL_11\",\n",
            "    \"12\": \"LABEL_12\",\n",
            "    \"13\": \"LABEL_13\",\n",
            "    \"14\": \"LABEL_14\",\n",
            "    \"15\": \"LABEL_15\",\n",
            "    \"16\": \"LABEL_16\",\n",
            "    \"17\": \"LABEL_17\",\n",
            "    \"18\": \"LABEL_18\",\n",
            "    \"19\": \"LABEL_19\",\n",
            "    \"20\": \"LABEL_20\",\n",
            "    \"21\": \"LABEL_21\",\n",
            "    \"22\": \"LABEL_22\",\n",
            "    \"23\": \"LABEL_23\",\n",
            "    \"24\": \"LABEL_24\",\n",
            "    \"25\": \"LABEL_25\",\n",
            "    \"26\": \"LABEL_26\",\n",
            "    \"27\": \"LABEL_27\",\n",
            "    \"28\": \"LABEL_28\",\n",
            "    \"29\": \"LABEL_29\",\n",
            "    \"30\": \"LABEL_30\",\n",
            "    \"31\": \"LABEL_31\",\n",
            "    \"32\": \"LABEL_32\",\n",
            "    \"33\": \"LABEL_33\",\n",
            "    \"34\": \"LABEL_34\",\n",
            "    \"35\": \"LABEL_35\",\n",
            "    \"36\": \"LABEL_36\"\n",
            "  },\n",
            "  \"initializer_range\": 0.02,\n",
            "  \"intermediate_size\": 3072,\n",
            "  \"label2id\": {\n",
            "    \"LABEL_0\": 0,\n",
            "    \"LABEL_1\": 1,\n",
            "    \"LABEL_10\": 10,\n",
            "    \"LABEL_11\": 11,\n",
            "    \"LABEL_12\": 12,\n",
            "    \"LABEL_13\": 13,\n",
            "    \"LABEL_14\": 14,\n",
            "    \"LABEL_15\": 15,\n",
            "    \"LABEL_16\": 16,\n",
            "    \"LABEL_17\": 17,\n",
            "    \"LABEL_18\": 18,\n",
            "    \"LABEL_19\": 19,\n",
            "    \"LABEL_2\": 2,\n",
            "    \"LABEL_20\": 20,\n",
            "    \"LABEL_21\": 21,\n",
            "    \"LABEL_22\": 22,\n",
            "    \"LABEL_23\": 23,\n",
            "    \"LABEL_24\": 24,\n",
            "    \"LABEL_25\": 25,\n",
            "    \"LABEL_26\": 26,\n",
            "    \"LABEL_27\": 27,\n",
            "    \"LABEL_28\": 28,\n",
            "    \"LABEL_29\": 29,\n",
            "    \"LABEL_3\": 3,\n",
            "    \"LABEL_30\": 30,\n",
            "    \"LABEL_31\": 31,\n",
            "    \"LABEL_32\": 32,\n",
            "    \"LABEL_33\": 33,\n",
            "    \"LABEL_34\": 34,\n",
            "    \"LABEL_35\": 35,\n",
            "    \"LABEL_36\": 36,\n",
            "    \"LABEL_4\": 4,\n",
            "    \"LABEL_5\": 5,\n",
            "    \"LABEL_6\": 6,\n",
            "    \"LABEL_7\": 7,\n",
            "    \"LABEL_8\": 8,\n",
            "    \"LABEL_9\": 9\n",
            "  },\n",
            "  \"layer_norm_eps\": 1e-12,\n",
            "  \"max_position_embeddings\": 512,\n",
            "  \"model_type\": \"bert\",\n",
            "  \"num_attention_heads\": 12,\n",
            "  \"num_hidden_layers\": 12,\n",
            "  \"pad_token_id\": 0,\n",
            "  \"position_embedding_type\": \"absolute\",\n",
            "  \"problem_type\": \"single_label_classification\",\n",
            "  \"transformers_version\": \"4.37.2\",\n",
            "  \"type_vocab_size\": 2,\n",
            "  \"use_cache\": true,\n",
            "  \"vocab_size\": 30522\n",
            "}\n",
            "\n"
          ]
        }
      ]
    },
    {
      "cell_type": "code",
      "source": [
        "print(\"Model output:\")\n",
        "print(model.get_output_embeddings())\n"
      ],
      "metadata": {
        "colab": {
          "base_uri": "https://localhost:8080/"
        },
        "id": "uSqlkGqmMi5H",
        "outputId": "fbb8f94d-2cde-44d8-f3b2-fa8091a0214e"
      },
      "execution_count": null,
      "outputs": [
        {
          "output_type": "stream",
          "name": "stdout",
          "text": [
            "Model output:\n",
            "None\n"
          ]
        }
      ]
    },
    {
      "cell_type": "code",
      "source": [
        "print(batch[0])\n",
        "print(batch[1])\n",
        "print(batch[2])"
      ],
      "metadata": {
        "id": "sPVZsNH3YLOD"
      },
      "execution_count": null,
      "outputs": []
    },
    {
      "cell_type": "code",
      "source": [
        "b_labels.type()"
      ],
      "metadata": {
        "id": "1T8LBL4oLPvy"
      },
      "execution_count": null,
      "outputs": []
    },
    {
      "cell_type": "code",
      "source": [
        "b_input_mask.type()"
      ],
      "metadata": {
        "id": "YTZYb5V5LMcl"
      },
      "execution_count": null,
      "outputs": []
    },
    {
      "cell_type": "code",
      "execution_count": null,
      "metadata": {
        "id": "WcJSfa1NJf_f"
      },
      "outputs": [],
      "source": [
        "b_input_ids.shape"
      ]
    },
    {
      "cell_type": "code",
      "execution_count": null,
      "metadata": {
        "id": "3lYd8-FEfRMh"
      },
      "outputs": [],
      "source": [
        "model = BertForSequenceClassification.from_pretrained(\"bert-base-uncased\", num_labels=37)\n",
        "last_layer = model.classifier\n",
        "output_dim = last_layer.out_features\n",
        "print(output_dim)"
      ]
    }
  ],
  "metadata": {
    "colab": {
      "provenance": []
    },
    "kernelspec": {
      "display_name": "Python 3",
      "name": "python3"
    },
    "language_info": {
      "name": "python"
    }
  },
  "nbformat": 4,
  "nbformat_minor": 0
}